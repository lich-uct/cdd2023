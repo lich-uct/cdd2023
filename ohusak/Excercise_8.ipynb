{
 "cells": [
  {
   "cell_type": "code",
   "execution_count": 1,
   "id": "e2491116",
   "metadata": {},
   "outputs": [],
   "source": [
    "from rdkit.Chem import AllChem as Chem\n",
    "from rdkit.Chem import Draw\n",
    "from rdkit.Chem.Draw import IPythonConsole\n",
    "from rdkit.Chem import MACCSkeys\n",
    "import csv"
   ]
  },
  {
   "cell_type": "code",
   "execution_count": 4,
   "id": "9bd90d1f",
   "metadata": {},
   "outputs": [],
   "source": [
    "suppl_ligands = Chem.SDMolSupplier('../ohusak/Data/actives_final.sdf')\n",
    "suppl = Chem.SDMolSupplier('../data/drugbank.sdf')\n",
    "drugs = [m for m in suppl if m]\n",
    "ligands = [m for m in suppl_ligands if m]"
   ]
  },
  {
   "cell_type": "code",
   "execution_count": 7,
   "id": "3eeab848",
   "metadata": {},
   "outputs": [],
   "source": [
    "listOfDrugsFingerPrint = []\n",
    "for drug in drugs:\n",
    "    molInfo = []\n",
    "    molInfo.append(drug)\n",
    "    drug_fp = Chem.GetMorganFingerprintAsBitVect(drug, 3)\n",
    "    molInfo.append(drug_fp)\n",
    "    molInfo.append(drug.GetProp('GENERIC_NAME'))\n",
    "    listOfDrugsFingerPrint.append(molInfo)"
   ]
  },
  {
   "cell_type": "code",
   "execution_count": 9,
   "id": "3d0012d8",
   "metadata": {},
   "outputs": [],
   "source": [
    "def compare(arr1, arr2):     \n",
    "    similar = 0\n",
    "    trueCount = 0\n",
    "    \n",
    "    for x, y in zip(arr1, arr2):\n",
    "        similar = similar + (x & y)\n",
    "        trueCount = trueCount + (x | y)\n",
    "    return similar/trueCount"
   ]
  },
  {
   "cell_type": "code",
   "execution_count": 10,
   "id": "32e98886",
   "metadata": {},
   "outputs": [],
   "source": [
    "def getListOfSimilar(ligand, listOfDrugsFingerPrint):\n",
    "    similarity_complex = []\n",
    "    for drugInfo in listOfDrugsFingerPrint:\n",
    "        similarity = []\n",
    "        comp = compare(Chem.GetMorganFingerprintAsBitVect(ligand, 3), drugInfo[1])\n",
    "        if(comp > 0.8):\n",
    "            similarity.append(drugInfo[2], comp)\n",
    "            similarity_complex.append(similarity)"
   ]
  },
  {
   "cell_type": "code",
   "execution_count": null,
   "id": "62d5c3a2",
   "metadata": {},
   "outputs": [],
   "source": [
    "len(ligand_comparsion)"
   ]
  },
  {
   "cell_type": "code",
   "execution_count": 12,
   "id": "69e0801b",
   "metadata": {},
   "outputs": [
    {
     "ename": "TypeError",
     "evalue": "append() takes exactly one argument (2 given)",
     "output_type": "error",
     "traceback": [
      "\u001b[1;31m---------------------------------------------------------------------------\u001b[0m",
      "\u001b[1;31mTypeError\u001b[0m                                 Traceback (most recent call last)",
      "\u001b[1;32m~\\AppData\\Local\\Temp\\ipykernel_28820\\536356773.py\u001b[0m in \u001b[0;36m<module>\u001b[1;34m\u001b[0m\n\u001b[0;32m      1\u001b[0m \u001b[0mligand_comparsion\u001b[0m \u001b[1;33m=\u001b[0m \u001b[1;33m[\u001b[0m\u001b[1;33m]\u001b[0m\u001b[1;33m\u001b[0m\u001b[1;33m\u001b[0m\u001b[0m\n\u001b[0;32m      2\u001b[0m \u001b[1;32mfor\u001b[0m \u001b[0ml\u001b[0m \u001b[1;32min\u001b[0m \u001b[0mligands\u001b[0m\u001b[1;33m:\u001b[0m\u001b[1;33m\u001b[0m\u001b[1;33m\u001b[0m\u001b[0m\n\u001b[1;32m----> 3\u001b[1;33m     \u001b[0mligComparsionList\u001b[0m \u001b[1;33m=\u001b[0m \u001b[0mgetListOfSimilar\u001b[0m\u001b[1;33m(\u001b[0m\u001b[0ml\u001b[0m\u001b[1;33m,\u001b[0m \u001b[0mlistOfDrugsFingerPrint\u001b[0m\u001b[1;33m)\u001b[0m\u001b[1;33m\u001b[0m\u001b[1;33m\u001b[0m\u001b[0m\n\u001b[0m\u001b[0;32m      4\u001b[0m     \u001b[1;32mif\u001b[0m\u001b[1;33m(\u001b[0m\u001b[0mligComparsionList\u001b[0m \u001b[1;32mis\u001b[0m \u001b[1;32mnot\u001b[0m \u001b[1;32mNone\u001b[0m\u001b[1;33m)\u001b[0m\u001b[1;33m:\u001b[0m\u001b[1;33m\u001b[0m\u001b[1;33m\u001b[0m\u001b[0m\n\u001b[0;32m      5\u001b[0m         \u001b[1;32mif\u001b[0m\u001b[1;33m(\u001b[0m\u001b[0mlen\u001b[0m\u001b[1;33m(\u001b[0m\u001b[0mligComparsionList\u001b[0m\u001b[1;33m)\u001b[0m \u001b[1;33m>\u001b[0m \u001b[1;36m0\u001b[0m\u001b[1;33m)\u001b[0m\u001b[1;33m:\u001b[0m\u001b[1;33m\u001b[0m\u001b[1;33m\u001b[0m\u001b[0m\n",
      "\u001b[1;32m~\\AppData\\Local\\Temp\\ipykernel_28820\\2603333565.py\u001b[0m in \u001b[0;36mgetListOfSimilar\u001b[1;34m(ligand, listOfDrugsFingerPrint)\u001b[0m\n\u001b[0;32m      5\u001b[0m         \u001b[0mcomp\u001b[0m \u001b[1;33m=\u001b[0m \u001b[0mcompare\u001b[0m\u001b[1;33m(\u001b[0m\u001b[0mChem\u001b[0m\u001b[1;33m.\u001b[0m\u001b[0mGetMorganFingerprintAsBitVect\u001b[0m\u001b[1;33m(\u001b[0m\u001b[0mligand\u001b[0m\u001b[1;33m,\u001b[0m \u001b[1;36m3\u001b[0m\u001b[1;33m)\u001b[0m\u001b[1;33m,\u001b[0m \u001b[0mdrugInfo\u001b[0m\u001b[1;33m[\u001b[0m\u001b[1;36m1\u001b[0m\u001b[1;33m]\u001b[0m\u001b[1;33m)\u001b[0m\u001b[1;33m\u001b[0m\u001b[1;33m\u001b[0m\u001b[0m\n\u001b[0;32m      6\u001b[0m         \u001b[1;32mif\u001b[0m\u001b[1;33m(\u001b[0m\u001b[0mcomp\u001b[0m \u001b[1;33m>\u001b[0m \u001b[1;36m0.8\u001b[0m\u001b[1;33m)\u001b[0m\u001b[1;33m:\u001b[0m\u001b[1;33m\u001b[0m\u001b[1;33m\u001b[0m\u001b[0m\n\u001b[1;32m----> 7\u001b[1;33m             \u001b[0msimilarity\u001b[0m\u001b[1;33m.\u001b[0m\u001b[0mappend\u001b[0m\u001b[1;33m(\u001b[0m\u001b[0mdrugInfo\u001b[0m\u001b[1;33m[\u001b[0m\u001b[1;36m2\u001b[0m\u001b[1;33m]\u001b[0m\u001b[1;33m,\u001b[0m \u001b[0mcomp\u001b[0m\u001b[1;33m)\u001b[0m\u001b[1;33m\u001b[0m\u001b[1;33m\u001b[0m\u001b[0m\n\u001b[0m\u001b[0;32m      8\u001b[0m             \u001b[0msimilarity_complex\u001b[0m\u001b[1;33m.\u001b[0m\u001b[0mappend\u001b[0m\u001b[1;33m(\u001b[0m\u001b[0msimilarity\u001b[0m\u001b[1;33m)\u001b[0m\u001b[1;33m\u001b[0m\u001b[1;33m\u001b[0m\u001b[0m\n",
      "\u001b[1;31mTypeError\u001b[0m: append() takes exactly one argument (2 given)"
     ]
    }
   ],
   "source": [
    "ligand_comparsion = []\n",
    "for l in ligands:\n",
    "    ligComparsionList = getListOfSimilar(l, listOfDrugsFingerPrint)\n",
    "    if(ligComparsionList is not None):\n",
    "        if(len(ligComparsionList) > 0):\n",
    "            ligandInfo = []\n",
    "            ligandInfo.append(l)\n",
    "            ligandInfo.append(ligComparsionList)\n",
    "            ligand_comparsion.append(ligandInfo)"
   ]
  },
  {
   "cell_type": "code",
   "execution_count": null,
   "id": "6dc5de98",
   "metadata": {},
   "outputs": [],
   "source": [
    "from rdkit.SimDivFilters.rdSimDivPickers import MaxMinPicker\n",
    "picker = MaxMinPicker()\n",
    "picked = list(picker.LazyPick(ligand_comparsion, len(mtor_ligands), 45))\n",
    "picked"
   ]
  },
  {
   "cell_type": "code",
   "execution_count": null,
   "id": "4d9f0d33",
   "metadata": {},
   "outputs": [],
   "source": []
  }
 ],
 "metadata": {
  "kernelspec": {
   "display_name": "Python 3 (ipykernel)",
   "language": "python",
   "name": "python3"
  },
  "language_info": {
   "codemirror_mode": {
    "name": "ipython",
    "version": 3
   },
   "file_extension": ".py",
   "mimetype": "text/x-python",
   "name": "python",
   "nbconvert_exporter": "python",
   "pygments_lexer": "ipython3",
   "version": "3.7.16"
  }
 },
 "nbformat": 4,
 "nbformat_minor": 5
}
