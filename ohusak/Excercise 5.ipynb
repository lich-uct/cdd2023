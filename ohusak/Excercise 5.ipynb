{
 "cells": [
  {
   "cell_type": "code",
   "execution_count": 4,
   "id": "bc2dc4fc",
   "metadata": {},
   "outputs": [],
   "source": [
    "from rdkit import Chem\n",
    "from rdkit.Chem.Draw import IPythonConsole\n",
    "import gzip"
   ]
  },
  {
   "cell_type": "code",
   "execution_count": 5,
   "id": "30a22141",
   "metadata": {},
   "outputs": [],
   "source": [
    "suppl = Chem.SDMolSupplier('data/actives_final.sdf')\n",
    "drugs = [m for m in suppl if not m == None] "
   ]
  },
  {
   "cell_type": "code",
   "execution_count": 6,
   "id": "276f02e3",
   "metadata": {},
   "outputs": [],
   "source": [
    "decoySet = Chem.SDMolSupplier('data/decoys_final.sdf')\n",
    "decoys = [m for m in suppl if not m == None] "
   ]
  },
  {
   "cell_type": "code",
   "execution_count": 7,
   "id": "af113bfb",
   "metadata": {},
   "outputs": [],
   "source": [
    "drugbank = Chem.SDMolSupplier('data/drugbank.sdf')\n",
    "drugBankMol = [m for m in drugbank if not m == None] "
   ]
  },
  {
   "cell_type": "code",
   "execution_count": 8,
   "id": "b3440683",
   "metadata": {},
   "outputs": [
    {
     "data": {
      "text/plain": [
       "True"
      ]
     },
     "execution_count": 8,
     "metadata": {},
     "output_type": "execute_result"
    }
   ],
   "source": [
    "ethan_ol = Chem.MolFromSmarts('CCO') \n",
    "propanol = Chem.MolFromSmiles('CCCO')\n",
    "propanol.HasSubstructMatch(ethan_ol)"
   ]
  },
  {
   "cell_type": "code",
   "execution_count": 9,
   "id": "a6658fb0",
   "metadata": {},
   "outputs": [
    {
     "data": {
      "text/plain": [
       "False"
      ]
     },
     "execution_count": 9,
     "metadata": {},
     "output_type": "execute_result"
    }
   ],
   "source": [
    "toluen = Chem.MolFromSmarts('Cc1ccccc1')\n",
    "toluen.HasSubstructMatch(ethan_ol)"
   ]
  },
  {
   "cell_type": "code",
   "execution_count": 10,
   "id": "ccefb40d",
   "metadata": {},
   "outputs": [],
   "source": [
    "import itertools\n",
    "from rdkit.Chem.Draw import rdMolDraw2D\n",
    "from IPython.display import SVG\n",
    "\n",
    "def visualize_match(structure, pattern):\n",
    "    # GetSubstructMatches grabs all hits, GetSubstructMatch the first one it finds\n",
    "    hits = structure.GetSubstructMatches(pattern)\n",
    "    hit_atoms = set()\n",
    "    hit_bonds = set()\n",
    "    for hit in hits:\n",
    "        hit_atoms.update(hit)\n",
    "        hit_bonds.update([structure.GetBondBetweenAtoms(i, j).GetIdx()\n",
    "                          for i, j in itertools.combinations(hit_atoms, 2)\n",
    "                          if structure.GetBondBetweenAtoms(i, j)])\n",
    "    d = rdMolDraw2D.MolDraw2DSVG(300,300)\n",
    "    rdMolDraw2D.PrepareAndDrawMolecule(d, structure, highlightAtoms=hit_atoms, highlightBonds=hit_bonds)\n",
    "    d.FinishDrawing()\n",
    "    display(SVG(d.GetDrawingText()))"
   ]
  },
  {
   "cell_type": "code",
   "execution_count": 11,
   "id": "b6943ce8",
   "metadata": {},
   "outputs": [
    {
     "data": {
      "image/svg+xml": [
       "<svg baseProfile=\"full\" height=\"300px\" version=\"1.1\" viewBox=\"0 0 300 300\" width=\"300px\" xml:space=\"preserve\" xmlns=\"http://www.w3.org/2000/svg\" xmlns:rdkit=\"http://www.rdkit.org/xml\" xmlns:xlink=\"http://www.w3.org/1999/xlink\">\n",
       "<!-- END OF HEADER -->\n",
       "<rect height=\"300\" style=\"opacity:1.0;fill:#FFFFFF;stroke:none\" width=\"300\" x=\"0\" y=\"0\"> </rect>\n",
       "<path d=\"M 93.7648,123.828 L 163.358,176.172\" style=\"fill:none;fill-rule:evenodd;stroke:#FF7F7F;stroke-width:18.6px;stroke-linecap:butt;stroke-linejoin:miter;stroke-opacity:1\"/>\n",
       "<path d=\"M 163.358,176.172 L 243.486,142.076\" style=\"fill:none;fill-rule:evenodd;stroke:#FF7F7F;stroke-width:18.6px;stroke-linecap:butt;stroke-linejoin:miter;stroke-opacity:1\"/>\n",
       "<ellipse cx=\"93.7648\" cy=\"123.828\" rx=\"17.4163\" ry=\"17.4163\" style=\"fill:#FF7F7F;fill-rule:evenodd;stroke:#FF7F7F;stroke-width:1px;stroke-linecap:butt;stroke-linejoin:miter;stroke-opacity:1\"/>\n",
       "<ellipse cx=\"163.358\" cy=\"176.172\" rx=\"17.4163\" ry=\"17.4163\" style=\"fill:#FF7F7F;fill-rule:evenodd;stroke:#FF7F7F;stroke-width:1px;stroke-linecap:butt;stroke-linejoin:miter;stroke-opacity:1\"/>\n",
       "<ellipse cx=\"254.615\" cy=\"142.267\" rx=\"31.7485\" ry=\"17.9062\" style=\"fill:#FF7F7F;fill-rule:evenodd;stroke:#FF7F7F;stroke-width:1px;stroke-linecap:butt;stroke-linejoin:miter;stroke-opacity:1\"/>\n",
       "<path class=\"bond-0\" d=\"M 13.6364,157.924 L 93.7648,123.828\" style=\"fill:none;fill-rule:evenodd;stroke:#000000;stroke-width:2.0px;stroke-linecap:butt;stroke-linejoin:miter;stroke-opacity:1\"/>\n",
       "<path class=\"bond-1\" d=\"M 93.7648,123.828 L 163.358,176.172\" style=\"fill:none;fill-rule:evenodd;stroke:#000000;stroke-width:2.0px;stroke-linecap:butt;stroke-linejoin:miter;stroke-opacity:1\"/>\n",
       "<path class=\"bond-2\" d=\"M 163.358,176.172 L 196.673,161.996\" style=\"fill:none;fill-rule:evenodd;stroke:#000000;stroke-width:2.0px;stroke-linecap:butt;stroke-linejoin:miter;stroke-opacity:1\"/>\n",
       "<path class=\"bond-2\" d=\"M 196.673,161.996 L 229.989,147.819\" style=\"fill:none;fill-rule:evenodd;stroke:#FF0000;stroke-width:2.0px;stroke-linecap:butt;stroke-linejoin:miter;stroke-opacity:1\"/>\n",
       "<path class=\"atom-3\" d=\"M 232.166 142.145 Q 232.166 136.224, 235.092 132.915 Q 238.017 129.606, 243.486 129.606 Q 248.955 129.606, 251.881 132.915 Q 254.807 136.224, 254.807 142.145 Q 254.807 148.136, 251.846 151.55 Q 248.885 154.929, 243.486 154.929 Q 238.052 154.929, 235.092 151.55 Q 232.166 148.171, 232.166 142.145 M 243.486 152.142 Q 247.248 152.142, 249.268 149.634 Q 251.323 147.092, 251.323 142.145 Q 251.323 137.304, 249.268 134.865 Q 247.248 132.392, 243.486 132.392 Q 239.724 132.392, 237.669 134.83 Q 235.649 137.269, 235.649 142.145 Q 235.649 147.126, 237.669 149.634 Q 239.724 152.142, 243.486 152.142 \" fill=\"#FF0000\"/>\n",
       "<path class=\"atom-3\" d=\"M 257.767 129.884 L 261.111 129.884 L 261.111 140.369 L 273.721 140.369 L 273.721 129.884 L 277.065 129.884 L 277.065 154.546 L 273.721 154.546 L 273.721 143.155 L 261.111 143.155 L 261.111 154.546 L 257.767 154.546 L 257.767 129.884 \" fill=\"#FF0000\"/>\n",
       "</svg>"
      ],
      "text/plain": [
       "<IPython.core.display.SVG object>"
      ]
     },
     "metadata": {},
     "output_type": "display_data"
    }
   ],
   "source": [
    "visualize_match(propanol, ethan_ol)"
   ]
  },
  {
   "cell_type": "code",
   "execution_count": 14,
   "id": "97d88fc0",
   "metadata": {},
   "outputs": [
    {
     "data": {
      "text/plain": [
       "1635"
      ]
     },
     "execution_count": 14,
     "metadata": {},
     "output_type": "execute_result"
    }
   ],
   "source": [
    "cooh_pattern = Chem.MolFromSmarts('C(=O)[O;h1]')\n",
    "hasCarbo = [m for m in drugBankMol if m.HasSubstructMatch(cooh_pattern)]\n",
    "len(hasCarbo)"
   ]
  },
  {
   "cell_type": "code",
   "execution_count": 15,
   "id": "f1d4d334",
   "metadata": {},
   "outputs": [
    {
     "data": {
      "text/plain": [
       "0"
      ]
     },
     "execution_count": 15,
     "metadata": {},
     "output_type": "execute_result"
    }
   ],
   "source": [
    "cooh_pattern = Chem.MolFromSmarts('C(=O)[O;h1]')\n",
    "hasCarbo = [m for m in suppl if m.HasSubstructMatch(cooh_pattern)]\n",
    "len(hasCarbo)"
   ]
  },
  {
   "cell_type": "code",
   "execution_count": 19,
   "id": "60abe2ce",
   "metadata": {},
   "outputs": [
    {
     "data": {
      "text/plain": [
       "0"
      ]
     },
     "execution_count": 19,
     "metadata": {},
     "output_type": "execute_result"
    }
   ],
   "source": [
    "cooh_pattern = Chem.MolFromSmarts('C(=O)[O;h1]')\n",
    "hasCarbo = [m for m in decoys if m.HasSubstructMatch(cooh_pattern)]\n",
    "len(hasCarbo)"
   ]
  },
  {
   "cell_type": "code",
   "execution_count": 22,
   "id": "b9b6259b",
   "metadata": {},
   "outputs": [
    {
     "data": {
      "text/plain": [
       "0.975517890772128"
      ]
     },
     "execution_count": 22,
     "metadata": {},
     "output_type": "execute_result"
    }
   ],
   "source": [
    "benz_pattern = Chem.MolFromSmarts('c1ccccc1')\n",
    "hasCarbo = [m for m in suppl if m.HasSubstructMatch(cooh_pattern)]\n",
    "len(hasCarbo)/ len(suppl)"
   ]
  },
  {
   "cell_type": "code",
   "execution_count": 24,
   "id": "f1e0a426",
   "metadata": {},
   "outputs": [
    {
     "data": {
      "text/plain": [
       "518"
      ]
     },
     "execution_count": 24,
     "metadata": {},
     "output_type": "execute_result"
    }
   ],
   "source": [
    "benz_pattern = Chem.MolFromSmarts('c1ccccc1')\n",
    "hasBenz = [m for m in decoys if m.HasSubstructMatch(benz_pattern)]\n",
    "len(hasBenz)"
   ]
  },
  {
   "cell_type": "code",
   "execution_count": 20,
   "id": "a5c497b7",
   "metadata": {},
   "outputs": [
    {
     "data": {
      "text/plain": [
       "[(<rdkit.Chem.rdchem.Mol at 0x1aa53da3d50>, 0),\n",
       " (<rdkit.Chem.rdchem.Mol at 0x1aa53da4260>, 0),\n",
       " (<rdkit.Chem.rdchem.Mol at 0x1aa53da46c0>, 0),\n",
       " (<rdkit.Chem.rdchem.Mol at 0x1aa53da4800>, 0),\n",
       " (<rdkit.Chem.rdchem.Mol at 0x1aa53da8170>, 0),\n",
       " (<rdkit.Chem.rdchem.Mol at 0x1aa53dab6c0>, 0),\n",
       " (<rdkit.Chem.rdchem.Mol at 0x1aa53dab710>, 0),\n",
       " (<rdkit.Chem.rdchem.Mol at 0x1aa53dab8f0>, 0),\n",
       " (<rdkit.Chem.rdchem.Mol at 0x1aa53dab940>, 0),\n",
       " (<rdkit.Chem.rdchem.Mol at 0x1aa53dab990>, 0),\n",
       " (<rdkit.Chem.rdchem.Mol at 0x1aa53dac580>, 0),\n",
       " (<rdkit.Chem.rdchem.Mol at 0x1aa53dac5d0>, 0),\n",
       " (<rdkit.Chem.rdchem.Mol at 0x1aa53dac800>, 0)]"
      ]
     },
     "execution_count": 20,
     "metadata": {},
     "output_type": "execute_result"
    }
   ],
   "source": [
    "benz_pattern = Chem.MolFromSmarts('c1ccccc1')\n",
    "hasCarbo = ((m, len(m.GetSubstructMatches(benz_pattern))) for m in drugs)\n",
    "list(filter(lambda x : x[1] == 0, hasCarbo))"
   ]
  },
  {
   "cell_type": "code",
   "execution_count": 37,
   "id": "e320b2a9",
   "metadata": {},
   "outputs": [
    {
     "data": {
      "image/svg+xml": [
       "<svg baseProfile=\"full\" height=\"300px\" version=\"1.1\" viewBox=\"0 0 300 300\" width=\"300px\" xml:space=\"preserve\" xmlns=\"http://www.w3.org/2000/svg\" xmlns:rdkit=\"http://www.rdkit.org/xml\" xmlns:xlink=\"http://www.w3.org/1999/xlink\">\n",
       "<!-- END OF HEADER -->\n",
       "<rect height=\"300\" style=\"opacity:1.0;fill:#FFFFFF;stroke:none\" width=\"300\" x=\"0\" y=\"0\"> </rect>\n",
       "<path d=\"M 111.257,177.508 L 107.432,202.308\" style=\"fill:none;fill-rule:evenodd;stroke:#FF7F7F;stroke-width:7.3px;stroke-linecap:butt;stroke-linejoin:miter;stroke-opacity:1\"/>\n",
       "<path d=\"M 111.257,177.508 L 87.5871,168.947\" style=\"fill:none;fill-rule:evenodd;stroke:#FF7F7F;stroke-width:7.3px;stroke-linecap:butt;stroke-linejoin:miter;stroke-opacity:1\"/>\n",
       "<path d=\"M 87.5871,168.947 L 60.5857,185.014\" style=\"fill:none;fill-rule:evenodd;stroke:#FF7F7F;stroke-width:7.3px;stroke-linecap:butt;stroke-linejoin:miter;stroke-opacity:1\"/>\n",
       "<path d=\"M 60.5857,185.014 L 56.5551,209.855\" style=\"fill:none;fill-rule:evenodd;stroke:#FF7F7F;stroke-width:7.3px;stroke-linecap:butt;stroke-linejoin:miter;stroke-opacity:1\"/>\n",
       "<path d=\"M 56.5551,209.855 L 80.0991,218.659\" style=\"fill:none;fill-rule:evenodd;stroke:#FF7F7F;stroke-width:7.3px;stroke-linecap:butt;stroke-linejoin:miter;stroke-opacity:1\"/>\n",
       "<path d=\"M 56.5551,209.855 L 29.9237,225.594\" style=\"fill:none;fill-rule:evenodd;stroke:#FF7F7F;stroke-width:7.3px;stroke-linecap:butt;stroke-linejoin:miter;stroke-opacity:1\"/>\n",
       "<path d=\"M 80.0991,218.659 L 107.432,202.308\" style=\"fill:none;fill-rule:evenodd;stroke:#FF7F7F;stroke-width:7.3px;stroke-linecap:butt;stroke-linejoin:miter;stroke-opacity:1\"/>\n",
       "<path d=\"M 80.0991,218.659 L 75.8973,244.973\" style=\"fill:none;fill-rule:evenodd;stroke:#FF7F7F;stroke-width:7.3px;stroke-linecap:butt;stroke-linejoin:miter;stroke-opacity:1\"/>\n",
       "<path d=\"M 75.8973,244.973 L 96.4338,252.591\" style=\"fill:none;fill-rule:evenodd;stroke:#FF7F7F;stroke-width:7.3px;stroke-linecap:butt;stroke-linejoin:miter;stroke-opacity:1\"/>\n",
       "<path d=\"M 75.8973,244.973 L 51.8692,259.22\" style=\"fill:none;fill-rule:evenodd;stroke:#FF7F7F;stroke-width:7.3px;stroke-linecap:butt;stroke-linejoin:miter;stroke-opacity:1\"/>\n",
       "<ellipse cx=\"111.257\" cy=\"177.508\" rx=\"6.85083\" ry=\"6.85083\" style=\"fill:#FF7F7F;fill-rule:evenodd;stroke:#FF7F7F;stroke-width:1px;stroke-linecap:butt;stroke-linejoin:miter;stroke-opacity:1\"/>\n",
       "<ellipse cx=\"87.5871\" cy=\"168.947\" rx=\"6.85083\" ry=\"6.85083\" style=\"fill:#FF7F7F;fill-rule:evenodd;stroke:#FF7F7F;stroke-width:1px;stroke-linecap:butt;stroke-linejoin:miter;stroke-opacity:1\"/>\n",
       "<ellipse cx=\"60.5857\" cy=\"185.014\" rx=\"6.85083\" ry=\"6.85083\" style=\"fill:#FF7F7F;fill-rule:evenodd;stroke:#FF7F7F;stroke-width:1px;stroke-linecap:butt;stroke-linejoin:miter;stroke-opacity:1\"/>\n",
       "<ellipse cx=\"56.5551\" cy=\"209.855\" rx=\"6.85083\" ry=\"6.85083\" style=\"fill:#FF7F7F;fill-rule:evenodd;stroke:#FF7F7F;stroke-width:1px;stroke-linecap:butt;stroke-linejoin:miter;stroke-opacity:1\"/>\n",
       "<ellipse cx=\"80.0991\" cy=\"218.659\" rx=\"6.85083\" ry=\"6.85083\" style=\"fill:#FF7F7F;fill-rule:evenodd;stroke:#FF7F7F;stroke-width:1px;stroke-linecap:butt;stroke-linejoin:miter;stroke-opacity:1\"/>\n",
       "<ellipse cx=\"107.432\" cy=\"202.308\" rx=\"6.85083\" ry=\"6.85083\" style=\"fill:#FF7F7F;fill-rule:evenodd;stroke:#FF7F7F;stroke-width:1px;stroke-linecap:butt;stroke-linejoin:miter;stroke-opacity:1\"/>\n",
       "<ellipse cx=\"75.8973\" cy=\"244.973\" rx=\"6.85083\" ry=\"6.85083\" style=\"fill:#FF7F7F;fill-rule:evenodd;stroke:#FF7F7F;stroke-width:1px;stroke-linecap:butt;stroke-linejoin:miter;stroke-opacity:1\"/>\n",
       "<ellipse cx=\"96.4338\" cy=\"252.666\" rx=\"6.85083\" ry=\"7.04356\" style=\"fill:#FF7F7F;fill-rule:evenodd;stroke:#FF7F7F;stroke-width:1px;stroke-linecap:butt;stroke-linejoin:miter;stroke-opacity:1\"/>\n",
       "<ellipse cx=\"53.7546\" cy=\"259.295\" rx=\"8.96402\" ry=\"7.04356\" style=\"fill:#FF7F7F;fill-rule:evenodd;stroke:#FF7F7F;stroke-width:1px;stroke-linecap:butt;stroke-linejoin:miter;stroke-opacity:1\"/>\n",
       "<ellipse cx=\"25.7858\" cy=\"225.669\" rx=\"12.1494\" ry=\"7.04356\" style=\"fill:#FF7F7F;fill-rule:evenodd;stroke:#FF7F7F;stroke-width:1px;stroke-linecap:butt;stroke-linejoin:miter;stroke-opacity:1\"/>\n",
       "<path class=\"bond-0\" d=\"M 170.025,89.0934 L 170.459,120.984\" style=\"fill:none;fill-rule:evenodd;stroke:#000000;stroke-width:2.0px;stroke-linecap:butt;stroke-linejoin:miter;stroke-opacity:1\"/>\n",
       "<path class=\"bond-0\" d=\"M 176.941,93.7838 L 177.244,116.107\" style=\"fill:none;fill-rule:evenodd;stroke:#000000;stroke-width:2.0px;stroke-linecap:butt;stroke-linejoin:miter;stroke-opacity:1\"/>\n",
       "<path class=\"bond-1\" d=\"M 170.025,89.0934 L 197.132,73.0488\" style=\"fill:none;fill-rule:evenodd;stroke:#000000;stroke-width:2.0px;stroke-linecap:butt;stroke-linejoin:miter;stroke-opacity:1\"/>\n",
       "<path class=\"bond-2\" d=\"M 197.132,73.0488 L 224.706,88.4746\" style=\"fill:none;fill-rule:evenodd;stroke:#000000;stroke-width:2.0px;stroke-linecap:butt;stroke-linejoin:miter;stroke-opacity:1\"/>\n",
       "<path class=\"bond-2\" d=\"M 197.923,81.3415 L 217.225,92.1396\" style=\"fill:none;fill-rule:evenodd;stroke:#000000;stroke-width:2.0px;stroke-linecap:butt;stroke-linejoin:miter;stroke-opacity:1\"/>\n",
       "<path class=\"bond-3\" d=\"M 224.706,88.4746 L 225.305,120.066\" style=\"fill:none;fill-rule:evenodd;stroke:#000000;stroke-width:2.0px;stroke-linecap:butt;stroke-linejoin:miter;stroke-opacity:1\"/>\n",
       "<path class=\"bond-4\" d=\"M 224.706,88.4746 L 239.906,79.3665\" style=\"fill:none;fill-rule:evenodd;stroke:#000000;stroke-width:2.0px;stroke-linecap:butt;stroke-linejoin:miter;stroke-opacity:1\"/>\n",
       "<path class=\"bond-4\" d=\"M 239.906,79.3665 L 255.105,70.2585\" style=\"fill:none;fill-rule:evenodd;stroke:#CCCC00;stroke-width:2.0px;stroke-linecap:butt;stroke-linejoin:miter;stroke-opacity:1\"/>\n",
       "<path class=\"bond-5\" d=\"M 225.305,120.066 L 198.374,136.403\" style=\"fill:none;fill-rule:evenodd;stroke:#000000;stroke-width:2.0px;stroke-linecap:butt;stroke-linejoin:miter;stroke-opacity:1\"/>\n",
       "<path class=\"bond-5\" d=\"M 217.712,116.659 L 198.86,128.095\" style=\"fill:none;fill-rule:evenodd;stroke:#000000;stroke-width:2.0px;stroke-linecap:butt;stroke-linejoin:miter;stroke-opacity:1\"/>\n",
       "<path class=\"bond-6\" d=\"M 198.374,136.403 L 170.459,120.984\" style=\"fill:none;fill-rule:evenodd;stroke:#000000;stroke-width:2.0px;stroke-linecap:butt;stroke-linejoin:miter;stroke-opacity:1\"/>\n",
       "<path class=\"bond-7\" d=\"M 170.459,120.984 L 159.285,127.68\" style=\"fill:none;fill-rule:evenodd;stroke:#000000;stroke-width:2.0px;stroke-linecap:butt;stroke-linejoin:miter;stroke-opacity:1\"/>\n",
       "<path class=\"bond-7\" d=\"M 159.285,127.68 L 148.11,134.376\" style=\"fill:none;fill-rule:evenodd;stroke:#0000FF;stroke-width:2.0px;stroke-linecap:butt;stroke-linejoin:miter;stroke-opacity:1\"/>\n",
       "<path class=\"bond-8\" d=\"M 142.812,142.486 L 141.445,151.36\" style=\"fill:none;fill-rule:evenodd;stroke:#0000FF;stroke-width:2.0px;stroke-linecap:butt;stroke-linejoin:miter;stroke-opacity:1\"/>\n",
       "<path class=\"bond-8\" d=\"M 141.445,151.36 L 140.078,160.235\" style=\"fill:none;fill-rule:evenodd;stroke:#000000;stroke-width:2.0px;stroke-linecap:butt;stroke-linejoin:miter;stroke-opacity:1\"/>\n",
       "<path class=\"bond-8\" d=\"M 146.465,145.774 L 145.508,151.986\" style=\"fill:none;fill-rule:evenodd;stroke:#0000FF;stroke-width:2.0px;stroke-linecap:butt;stroke-linejoin:miter;stroke-opacity:1\"/>\n",
       "<path class=\"bond-8\" d=\"M 145.508,151.986 L 144.551,158.198\" style=\"fill:none;fill-rule:evenodd;stroke:#000000;stroke-width:2.0px;stroke-linecap:butt;stroke-linejoin:miter;stroke-opacity:1\"/>\n",
       "<path class=\"bond-9\" d=\"M 140.078,160.235 L 111.257,177.508\" style=\"fill:none;fill-rule:evenodd;stroke:#000000;stroke-width:2.0px;stroke-linecap:butt;stroke-linejoin:miter;stroke-opacity:1\"/>\n",
       "<path class=\"bond-10\" d=\"M 111.257,177.508 L 107.432,202.308\" style=\"fill:none;fill-rule:evenodd;stroke:#000000;stroke-width:2.0px;stroke-linecap:butt;stroke-linejoin:miter;stroke-opacity:1\"/>\n",
       "<path class=\"bond-11\" d=\"M 111.257,177.508 L 87.5871,168.947\" style=\"fill:none;fill-rule:evenodd;stroke:#000000;stroke-width:2.0px;stroke-linecap:butt;stroke-linejoin:miter;stroke-opacity:1\"/>\n",
       "<path class=\"bond-11\" d=\"M 106.308,180.089 L 89.7394,174.096\" style=\"fill:none;fill-rule:evenodd;stroke:#000000;stroke-width:2.0px;stroke-linecap:butt;stroke-linejoin:miter;stroke-opacity:1\"/>\n",
       "<path class=\"bond-12\" d=\"M 87.5871,168.947 L 60.5857,185.014\" style=\"fill:none;fill-rule:evenodd;stroke:#000000;stroke-width:2.0px;stroke-linecap:butt;stroke-linejoin:miter;stroke-opacity:1\"/>\n",
       "<path class=\"bond-13\" d=\"M 60.5857,185.014 L 56.5551,209.855\" style=\"fill:none;fill-rule:evenodd;stroke:#000000;stroke-width:2.0px;stroke-linecap:butt;stroke-linejoin:miter;stroke-opacity:1\"/>\n",
       "<path class=\"bond-13\" d=\"M 64.0385,189.399 L 61.2171,206.787\" style=\"fill:none;fill-rule:evenodd;stroke:#000000;stroke-width:2.0px;stroke-linecap:butt;stroke-linejoin:miter;stroke-opacity:1\"/>\n",
       "<path class=\"bond-14\" d=\"M 56.5551,209.855 L 80.0991,218.659\" style=\"fill:none;fill-rule:evenodd;stroke:#000000;stroke-width:2.0px;stroke-linecap:butt;stroke-linejoin:miter;stroke-opacity:1\"/>\n",
       "<path class=\"bond-15\" d=\"M 56.5551,209.855 L 45.8526,216.18\" style=\"fill:none;fill-rule:evenodd;stroke:#000000;stroke-width:2.0px;stroke-linecap:butt;stroke-linejoin:miter;stroke-opacity:1\"/>\n",
       "<path class=\"bond-15\" d=\"M 45.8526,216.18 L 35.1501,222.505\" style=\"fill:none;fill-rule:evenodd;stroke:#FF0000;stroke-width:2.0px;stroke-linecap:butt;stroke-linejoin:miter;stroke-opacity:1\"/>\n",
       "<path class=\"bond-16\" d=\"M 80.0991,218.659 L 107.432,202.308\" style=\"fill:none;fill-rule:evenodd;stroke:#000000;stroke-width:2.0px;stroke-linecap:butt;stroke-linejoin:miter;stroke-opacity:1\"/>\n",
       "<path class=\"bond-16\" d=\"M 80.682,210.327 L 99.8148,198.881\" style=\"fill:none;fill-rule:evenodd;stroke:#000000;stroke-width:2.0px;stroke-linecap:butt;stroke-linejoin:miter;stroke-opacity:1\"/>\n",
       "<path class=\"bond-17\" d=\"M 80.0991,218.659 L 75.8973,244.973\" style=\"fill:none;fill-rule:evenodd;stroke:#000000;stroke-width:2.0px;stroke-linecap:butt;stroke-linejoin:miter;stroke-opacity:1\"/>\n",
       "<path class=\"bond-18\" d=\"M 75.1825,246.899 L 82.9504,249.781\" style=\"fill:none;fill-rule:evenodd;stroke:#000000;stroke-width:2.0px;stroke-linecap:butt;stroke-linejoin:miter;stroke-opacity:1\"/>\n",
       "<path class=\"bond-18\" d=\"M 82.9504,249.781 L 90.7183,252.663\" style=\"fill:none;fill-rule:evenodd;stroke:#FF0000;stroke-width:2.0px;stroke-linecap:butt;stroke-linejoin:miter;stroke-opacity:1\"/>\n",
       "<path class=\"bond-18\" d=\"M 76.6121,243.046 L 84.38,245.927\" style=\"fill:none;fill-rule:evenodd;stroke:#000000;stroke-width:2.0px;stroke-linecap:butt;stroke-linejoin:miter;stroke-opacity:1\"/>\n",
       "<path class=\"bond-18\" d=\"M 84.38,245.927 L 92.148,248.809\" style=\"fill:none;fill-rule:evenodd;stroke:#FF0000;stroke-width:2.0px;stroke-linecap:butt;stroke-linejoin:miter;stroke-opacity:1\"/>\n",
       "<path class=\"bond-19\" d=\"M 75.8973,244.973 L 67.2732,250.086\" style=\"fill:none;fill-rule:evenodd;stroke:#000000;stroke-width:2.0px;stroke-linecap:butt;stroke-linejoin:miter;stroke-opacity:1\"/>\n",
       "<path class=\"bond-19\" d=\"M 67.2732,250.086 L 58.6492,255.2\" style=\"fill:none;fill-rule:evenodd;stroke:#FF0000;stroke-width:2.0px;stroke-linecap:butt;stroke-linejoin:miter;stroke-opacity:1\"/>\n",
       "<path class=\"bond-20\" d=\"M 260.825,73.7334 L 267.587,79.6257\" style=\"fill:none;fill-rule:evenodd;stroke:#CCCC00;stroke-width:2.0px;stroke-linecap:butt;stroke-linejoin:miter;stroke-opacity:1\"/>\n",
       "<path class=\"bond-20\" d=\"M 267.587,79.6257 L 274.349,85.5181\" style=\"fill:none;fill-rule:evenodd;stroke:#FF0000;stroke-width:2.0px;stroke-linecap:butt;stroke-linejoin:miter;stroke-opacity:1\"/>\n",
       "<path class=\"bond-20\" d=\"M 265.326,68.5684 L 272.088,74.4608\" style=\"fill:none;fill-rule:evenodd;stroke:#CCCC00;stroke-width:2.0px;stroke-linecap:butt;stroke-linejoin:miter;stroke-opacity:1\"/>\n",
       "<path class=\"bond-20\" d=\"M 272.088,74.4608 L 278.85,80.3531\" style=\"fill:none;fill-rule:evenodd;stroke:#FF0000;stroke-width:2.0px;stroke-linecap:butt;stroke-linejoin:miter;stroke-opacity:1\"/>\n",
       "<path class=\"bond-21\" d=\"M 261.261,61.4306 L 259.174,52.4424\" style=\"fill:none;fill-rule:evenodd;stroke:#CCCC00;stroke-width:2.0px;stroke-linecap:butt;stroke-linejoin:miter;stroke-opacity:1\"/>\n",
       "<path class=\"bond-21\" d=\"M 259.174,52.4424 L 257.087,43.4543\" style=\"fill:none;fill-rule:evenodd;stroke:#FF0000;stroke-width:2.0px;stroke-linecap:butt;stroke-linejoin:miter;stroke-opacity:1\"/>\n",
       "<path class=\"bond-21\" d=\"M 254.587,62.9798 L 252.501,53.9916\" style=\"fill:none;fill-rule:evenodd;stroke:#CCCC00;stroke-width:2.0px;stroke-linecap:butt;stroke-linejoin:miter;stroke-opacity:1\"/>\n",
       "<path class=\"bond-21\" d=\"M 252.501,53.9916 L 250.414,45.0035\" style=\"fill:none;fill-rule:evenodd;stroke:#FF0000;stroke-width:2.0px;stroke-linecap:butt;stroke-linejoin:miter;stroke-opacity:1\"/>\n",
       "<path class=\"bond-22\" d=\"M 262.616,65.8908 L 263.957,65.1402\" style=\"fill:none;fill-rule:evenodd;stroke:#CCCC00;stroke-width:2.0px;stroke-linecap:butt;stroke-linejoin:miter;stroke-opacity:1\"/>\n",
       "<path class=\"bond-22\" d=\"M 263.957,65.1402 L 265.297,64.3895\" style=\"fill:none;fill-rule:evenodd;stroke:#0000FF;stroke-width:2.0px;stroke-linecap:butt;stroke-linejoin:miter;stroke-opacity:1\"/>\n",
       "<path class=\"atom-6\" d=\"M 141.505 132.199 L 144.684 137.337 Q 144.999 137.844, 145.506 138.762 Q 146.013 139.68, 146.041 139.735 L 146.041 132.199 L 147.329 132.199 L 147.329 141.9 L 146 141.9 L 142.588 136.282 Q 142.19 135.624, 141.766 134.871 Q 141.355 134.117, 141.231 133.884 L 141.231 141.9 L 139.971 141.9 L 139.971 132.199 L 141.505 132.199 \" fill=\"#0000FF\"/>\n",
       "<path class=\"atom-15\" d=\"M 91.9808 252.618 Q 91.9808 250.289, 93.1317 248.987 Q 94.2826 247.685, 96.4338 247.685 Q 98.5849 247.685, 99.7359 248.987 Q 100.887 250.289, 100.887 252.618 Q 100.887 254.975, 99.7222 256.318 Q 98.5575 257.647, 96.4338 257.647 Q 94.2963 257.647, 93.1317 256.318 Q 91.9808 254.988, 91.9808 252.618 M 96.4338 256.55 Q 97.9136 256.55, 98.7083 255.564 Q 99.5167 254.564, 99.5167 252.618 Q 99.5167 250.714, 98.7083 249.754 Q 97.9136 248.782, 96.4338 248.782 Q 94.954 248.782, 94.1456 249.741 Q 93.3509 250.7, 93.3509 252.618 Q 93.3509 254.577, 94.1456 255.564 Q 94.954 256.55, 96.4338 256.55 \" fill=\"#FF0000\"/>\n",
       "<path class=\"atom-16\" d=\"M 47.4161 259.247 Q 47.4161 256.918, 48.5671 255.616 Q 49.718 254.315, 51.8692 254.315 Q 54.0203 254.315, 55.1713 255.616 Q 56.3222 256.918, 56.3222 259.247 Q 56.3222 261.604, 55.1576 262.947 Q 53.9929 264.276, 51.8692 264.276 Q 49.7317 264.276, 48.5671 262.947 Q 47.4161 261.618, 47.4161 259.247 M 51.8692 263.18 Q 53.3489 263.18, 54.1436 262.193 Q 54.952 261.193, 54.952 259.247 Q 54.952 257.343, 54.1436 256.384 Q 53.3489 255.411, 51.8692 255.411 Q 50.3894 255.411, 49.581 256.37 Q 48.7863 257.329, 48.7863 259.247 Q 48.7863 261.207, 49.581 262.193 Q 50.3894 263.18, 51.8692 263.18 \" fill=\"#FF0000\"/>\n",
       "<path class=\"atom-16\" d=\"M 56.7744 255.898 L 60.0932 255.898 L 60.0932 256.622 L 56.7744 256.622 L 56.7744 255.898 \" fill=\"#FF0000\"/>\n",
       "<path class=\"atom-17\" d=\"M 17.1948 220.798 L 18.5102 220.798 L 18.5102 224.922 L 23.4702 224.922 L 23.4702 220.798 L 24.7856 220.798 L 24.7856 230.499 L 23.4702 230.499 L 23.4702 226.019 L 18.5102 226.019 L 18.5102 230.499 L 17.1948 230.499 L 17.1948 220.798 \" fill=\"#FF0000\"/>\n",
       "<path class=\"atom-17\" d=\"M 25.4706 225.621 Q 25.4706 223.292, 26.6216 221.99 Q 27.7725 220.689, 29.9237 220.689 Q 32.0748 220.689, 33.2258 221.99 Q 34.3767 223.292, 34.3767 225.621 Q 34.3767 227.978, 33.2121 229.321 Q 32.0474 230.65, 29.9237 230.65 Q 27.7862 230.65, 26.6216 229.321 Q 25.4706 227.992, 25.4706 225.621 M 29.9237 229.554 Q 31.4035 229.554, 32.1982 228.567 Q 33.0066 227.567, 33.0066 225.621 Q 33.0066 223.717, 32.1982 222.758 Q 31.4035 221.785, 29.9237 221.785 Q 28.4439 221.785, 27.6355 222.744 Q 26.8408 223.703, 26.8408 225.621 Q 26.8408 227.581, 27.6355 228.567 Q 28.4439 229.554, 29.9237 229.554 \" fill=\"#FF0000\"/>\n",
       "<path class=\"atom-18\" d=\"M 256.481 71.1214 Q 256.59 71.1625, 257.042 71.3543 Q 257.494 71.5462, 257.988 71.6695 Q 258.495 71.7791, 258.988 71.7791 Q 259.906 71.7791, 260.44 71.3406 Q 260.975 70.8885, 260.975 70.1075 Q 260.975 69.5731, 260.701 69.2443 Q 260.44 68.9154, 260.029 68.7373 Q 259.618 68.5592, 258.933 68.3537 Q 258.07 68.0933, 257.549 67.8467 Q 257.042 67.6001, 256.672 67.0794 Q 256.316 66.5588, 256.316 65.6819 Q 256.316 64.4624, 257.138 63.7088 Q 257.974 62.9552, 259.618 62.9552 Q 260.742 62.9552, 262.016 63.4896 L 261.701 64.5446 Q 260.536 64.0651, 259.659 64.0651 Q 258.714 64.0651, 258.193 64.4624 Q 257.673 64.8461, 257.686 65.5174 Q 257.686 66.0381, 257.947 66.3532 Q 258.221 66.6684, 258.604 66.8465 Q 259.002 67.0246, 259.659 67.2301 Q 260.536 67.5042, 261.057 67.7782 Q 261.578 68.0522, 261.947 68.614 Q 262.331 69.1621, 262.331 70.1075 Q 262.331 71.4503, 261.427 72.1764 Q 260.536 72.8889, 259.043 72.8889 Q 258.18 72.8889, 257.522 72.6971 Q 256.878 72.519, 256.111 72.2038 L 256.481 71.1214 \" fill=\"#CCCC00\"/>\n",
       "<path class=\"atom-19\" d=\"M 277.216 87.3807 Q 277.216 85.0514, 278.367 83.7498 Q 279.518 82.4481, 281.669 82.4481 Q 283.82 82.4481, 284.971 83.7498 Q 286.122 85.0514, 286.122 87.3807 Q 286.122 89.7374, 284.957 91.0802 Q 283.792 92.4092, 281.669 92.4092 Q 279.531 92.4092, 278.367 91.0802 Q 277.216 89.7511, 277.216 87.3807 M 281.669 91.3131 Q 283.148 91.3131, 283.943 90.3266 Q 284.752 89.3263, 284.752 87.3807 Q 284.752 85.4762, 283.943 84.5171 Q 283.148 83.5442, 281.669 83.5442 Q 280.189 83.5442, 279.381 84.5034 Q 278.586 85.4625, 278.586 87.3807 Q 278.586 89.34, 279.381 90.3266 Q 280.189 91.3131, 281.669 91.3131 \" fill=\"#FF0000\"/>\n",
       "<path class=\"atom-20\" d=\"M 247.983 38.5937 Q 247.983 36.2644, 249.134 34.9627 Q 250.285 33.6611, 252.436 33.6611 Q 254.587 33.6611, 255.738 34.9627 Q 256.889 36.2644, 256.889 38.5937 Q 256.889 40.9504, 255.725 42.2931 Q 254.56 43.6222, 252.436 43.6222 Q 250.299 43.6222, 249.134 42.2931 Q 247.983 40.9641, 247.983 38.5937 M 252.436 42.5261 Q 253.916 42.5261, 254.711 41.5395 Q 255.519 40.5393, 255.519 38.5937 Q 255.519 36.6892, 254.711 35.73 Q 253.916 34.7572, 252.436 34.7572 Q 250.956 34.7572, 250.148 35.7163 Q 249.353 36.6755, 249.353 38.5937 Q 249.353 40.553, 250.148 41.5395 Q 250.956 42.5261, 252.436 42.5261 \" fill=\"#FF0000\"/>\n",
       "<path class=\"atom-21\" d=\"M 267.019 57.3741 L 270.198 62.5122 Q 270.513 63.0192, 271.02 63.9372 Q 271.527 64.8552, 271.555 64.91 L 271.555 57.3741 L 272.843 57.3741 L 272.843 67.0749 L 271.514 67.0749 L 268.102 61.4572 Q 267.704 60.7995, 267.28 60.0459 Q 266.869 59.2923, 266.745 59.0594 L 266.745 67.0749 L 265.485 67.0749 L 265.485 57.3741 L 267.019 57.3741 \" fill=\"#0000FF\"/>\n",
       "<path class=\"atom-21\" d=\"M 274.007 57.3741 L 275.323 57.3741 L 275.323 61.4983 L 280.283 61.4983 L 280.283 57.3741 L 281.598 57.3741 L 281.598 67.0749 L 280.283 67.0749 L 280.283 62.5944 L 275.323 62.5944 L 275.323 67.0749 L 274.007 67.0749 L 274.007 57.3741 \" fill=\"#0000FF\"/>\n",
       "<path class=\"atom-21\" d=\"M 282.068 66.7345 Q 282.303 66.1286, 282.864 65.794 Q 283.425 65.4504, 284.202 65.4504 Q 285.17 65.4504, 285.713 65.9749 Q 286.255 66.4994, 286.255 67.4308 Q 286.255 68.3803, 285.55 69.2666 Q 284.853 70.1528, 283.407 71.2018 L 286.364 71.2018 L 286.364 71.9252 L 282.05 71.9252 L 282.05 71.3194 Q 283.244 70.4693, 283.949 69.8363 Q 284.664 69.2033, 285.007 68.6336 Q 285.351 68.0638, 285.351 67.476 Q 285.351 66.8611, 285.043 66.5175 Q 284.736 66.1738, 284.202 66.1738 Q 283.687 66.1738, 283.343 66.3818 Q 283 66.5898, 282.755 67.051 L 282.068 66.7345 \" fill=\"#0000FF\"/>\n",
       "</svg>"
      ],
      "text/plain": [
       "<IPython.core.display.SVG object>"
      ]
     },
     "metadata": {},
     "output_type": "display_data"
    },
    {
     "data": {
      "image/svg+xml": [
       "<svg baseProfile=\"full\" height=\"300px\" version=\"1.1\" viewBox=\"0 0 300 300\" width=\"300px\" xml:space=\"preserve\" xmlns=\"http://www.w3.org/2000/svg\" xmlns:rdkit=\"http://www.rdkit.org/xml\" xmlns:xlink=\"http://www.w3.org/1999/xlink\">\n",
       "<!-- END OF HEADER -->\n",
       "<rect height=\"300\" style=\"opacity:1.0;fill:#FFFFFF;stroke:none\" width=\"300\" x=\"0\" y=\"0\"> </rect>\n",
       "<path d=\"M 172.699,190.723 L 201.452,217.204\" style=\"fill:none;fill-rule:evenodd;stroke:#FF7F7F;stroke-width:9.5px;stroke-linecap:butt;stroke-linejoin:miter;stroke-opacity:1\"/>\n",
       "<path d=\"M 172.699,190.723 L 183.289,155.145\" style=\"fill:none;fill-rule:evenodd;stroke:#FF7F7F;stroke-width:9.5px;stroke-linecap:butt;stroke-linejoin:miter;stroke-opacity:1\"/>\n",
       "<path d=\"M 183.289,155.145 L 223.276,146.93\" style=\"fill:none;fill-rule:evenodd;stroke:#FF7F7F;stroke-width:9.5px;stroke-linecap:butt;stroke-linejoin:miter;stroke-opacity:1\"/>\n",
       "<path d=\"M 183.289,155.145 L 152.842,126.405\" style=\"fill:none;fill-rule:evenodd;stroke:#FF7F7F;stroke-width:9.5px;stroke-linecap:butt;stroke-linejoin:miter;stroke-opacity:1\"/>\n",
       "<path d=\"M 223.276,146.93 L 251.993,174.018\" style=\"fill:none;fill-rule:evenodd;stroke:#FF7F7F;stroke-width:9.5px;stroke-linecap:butt;stroke-linejoin:miter;stroke-opacity:1\"/>\n",
       "<path d=\"M 223.276,146.93 L 233.821,112.595\" style=\"fill:none;fill-rule:evenodd;stroke:#FF7F7F;stroke-width:9.5px;stroke-linecap:butt;stroke-linejoin:miter;stroke-opacity:1\"/>\n",
       "<path d=\"M 251.993,174.018 L 241.089,209.022\" style=\"fill:none;fill-rule:evenodd;stroke:#FF7F7F;stroke-width:9.5px;stroke-linecap:butt;stroke-linejoin:miter;stroke-opacity:1\"/>\n",
       "<path d=\"M 241.089,209.022 L 201.452,217.204\" style=\"fill:none;fill-rule:evenodd;stroke:#FF7F7F;stroke-width:9.5px;stroke-linecap:butt;stroke-linejoin:miter;stroke-opacity:1\"/>\n",
       "<path d=\"M 152.842,126.405 L 118.074,134.564\" style=\"fill:none;fill-rule:evenodd;stroke:#FF7F7F;stroke-width:9.5px;stroke-linecap:butt;stroke-linejoin:miter;stroke-opacity:1\"/>\n",
       "<path d=\"M 152.842,126.405 L 163.139,91.1318\" style=\"fill:none;fill-rule:evenodd;stroke:#FF7F7F;stroke-width:9.5px;stroke-linecap:butt;stroke-linejoin:miter;stroke-opacity:1\"/>\n",
       "<ellipse cx=\"172.699\" cy=\"190.723\" rx=\"8.87149\" ry=\"8.87149\" style=\"fill:#FF7F7F;fill-rule:evenodd;stroke:#FF7F7F;stroke-width:1px;stroke-linecap:butt;stroke-linejoin:miter;stroke-opacity:1\"/>\n",
       "<ellipse cx=\"183.289\" cy=\"155.145\" rx=\"8.87149\" ry=\"8.87149\" style=\"fill:#FF7F7F;fill-rule:evenodd;stroke:#FF7F7F;stroke-width:1px;stroke-linecap:butt;stroke-linejoin:miter;stroke-opacity:1\"/>\n",
       "<ellipse cx=\"223.276\" cy=\"146.93\" rx=\"8.87149\" ry=\"8.87149\" style=\"fill:#FF7F7F;fill-rule:evenodd;stroke:#FF7F7F;stroke-width:1px;stroke-linecap:butt;stroke-linejoin:miter;stroke-opacity:1\"/>\n",
       "<ellipse cx=\"251.993\" cy=\"174.018\" rx=\"8.87149\" ry=\"8.87149\" style=\"fill:#FF7F7F;fill-rule:evenodd;stroke:#FF7F7F;stroke-width:1px;stroke-linecap:butt;stroke-linejoin:miter;stroke-opacity:1\"/>\n",
       "<ellipse cx=\"241.089\" cy=\"209.022\" rx=\"8.87149\" ry=\"8.87149\" style=\"fill:#FF7F7F;fill-rule:evenodd;stroke:#FF7F7F;stroke-width:1px;stroke-linecap:butt;stroke-linejoin:miter;stroke-opacity:1\"/>\n",
       "<ellipse cx=\"201.452\" cy=\"217.204\" rx=\"8.87149\" ry=\"8.87149\" style=\"fill:#FF7F7F;fill-rule:evenodd;stroke:#FF7F7F;stroke-width:1px;stroke-linecap:butt;stroke-linejoin:miter;stroke-opacity:1\"/>\n",
       "<ellipse cx=\"239.49\" cy=\"112.692\" rx=\"16.172\" ry=\"9.12107\" style=\"fill:#FF7F7F;fill-rule:evenodd;stroke:#FF7F7F;stroke-width:1px;stroke-linecap:butt;stroke-linejoin:miter;stroke-opacity:1\"/>\n",
       "<ellipse cx=\"152.842\" cy=\"126.405\" rx=\"8.87149\" ry=\"8.87149\" style=\"fill:#FF7F7F;fill-rule:evenodd;stroke:#FF7F7F;stroke-width:1px;stroke-linecap:butt;stroke-linejoin:miter;stroke-opacity:1\"/>\n",
       "<ellipse cx=\"118.074\" cy=\"134.661\" rx=\"8.87149\" ry=\"9.12107\" style=\"fill:#FF7F7F;fill-rule:evenodd;stroke:#FF7F7F;stroke-width:1px;stroke-linecap:butt;stroke-linejoin:miter;stroke-opacity:1\"/>\n",
       "<ellipse cx=\"163.139\" cy=\"91.2294\" rx=\"8.87149\" ry=\"9.12107\" style=\"fill:#FF7F7F;fill-rule:evenodd;stroke:#FF7F7F;stroke-width:1px;stroke-linecap:butt;stroke-linejoin:miter;stroke-opacity:1\"/>\n",
       "<path class=\"bond-0\" d=\"M 141.752,32.0713 L 142.368,77.3129\" style=\"fill:none;fill-rule:evenodd;stroke:#000000;stroke-width:2.0px;stroke-linecap:butt;stroke-linejoin:miter;stroke-opacity:1\"/>\n",
       "<path class=\"bond-1\" d=\"M 142.368,77.3129 L 149.558,82.0967\" style=\"fill:none;fill-rule:evenodd;stroke:#000000;stroke-width:2.0px;stroke-linecap:butt;stroke-linejoin:miter;stroke-opacity:1\"/>\n",
       "<path class=\"bond-1\" d=\"M 149.558,82.0967 L 156.749,86.8804\" style=\"fill:none;fill-rule:evenodd;stroke:#FF0000;stroke-width:2.0px;stroke-linecap:butt;stroke-linejoin:miter;stroke-opacity:1\"/>\n",
       "<path class=\"bond-2\" d=\"M 142.368,77.3129 L 105.779,90.6455\" style=\"fill:none;fill-rule:evenodd;stroke:#000000;stroke-width:2.0px;stroke-linecap:butt;stroke-linejoin:miter;stroke-opacity:1\"/>\n",
       "<path class=\"bond-3\" d=\"M 94.5879,93.9842 L 85.3387,96.0436\" style=\"fill:none;fill-rule:evenodd;stroke:#000000;stroke-width:2.0px;stroke-linecap:butt;stroke-linejoin:miter;stroke-opacity:1\"/>\n",
       "<path class=\"bond-4\" d=\"M 85.3387,96.0436 L 75.6238,84.9046\" style=\"fill:none;fill-rule:evenodd;stroke:#000000;stroke-width:2.0px;stroke-linecap:butt;stroke-linejoin:miter;stroke-opacity:1\"/>\n",
       "<path class=\"bond-4\" d=\"M 75.6238,84.9046 L 65.909,73.7657\" style=\"fill:none;fill-rule:evenodd;stroke:#FF0000;stroke-width:2.0px;stroke-linecap:butt;stroke-linejoin:miter;stroke-opacity:1\"/>\n",
       "<path class=\"bond-5\" d=\"M 85.3387,96.0436 L 41.4573,103.788\" style=\"fill:none;fill-rule:evenodd;stroke:#000000;stroke-width:2.0px;stroke-linecap:butt;stroke-linejoin:miter;stroke-opacity:1\"/>\n",
       "<path class=\"bond-6\" d=\"M 41.4573,103.788 L 48.591,88.8025\" style=\"fill:none;fill-rule:evenodd;stroke:#000000;stroke-width:2.0px;stroke-linecap:butt;stroke-linejoin:miter;stroke-opacity:1\"/>\n",
       "<path class=\"bond-6\" d=\"M 48.591,88.8025 L 55.7247,73.8166\" style=\"fill:none;fill-rule:evenodd;stroke:#FF0000;stroke-width:2.0px;stroke-linecap:butt;stroke-linejoin:miter;stroke-opacity:1\"/>\n",
       "<path class=\"bond-7\" d=\"M 41.4573,103.788 L 13.6364,106.905\" style=\"fill:none;fill-rule:evenodd;stroke:#000000;stroke-width:2.0px;stroke-linecap:butt;stroke-linejoin:miter;stroke-opacity:1\"/>\n",
       "<path class=\"bond-8\" d=\"M 13.6364,106.905 L 21.6473,130.926\" style=\"fill:none;fill-rule:evenodd;stroke:#000000;stroke-width:2.0px;stroke-linecap:butt;stroke-linejoin:miter;stroke-opacity:1\"/>\n",
       "<path class=\"bond-8\" d=\"M 19.8875,108.824 L 25.4952,125.639\" style=\"fill:none;fill-rule:evenodd;stroke:#000000;stroke-width:2.0px;stroke-linecap:butt;stroke-linejoin:miter;stroke-opacity:1\"/>\n",
       "<path class=\"bond-9\" d=\"M 21.6473,130.926 L 57.1274,155.344\" style=\"fill:none;fill-rule:evenodd;stroke:#000000;stroke-width:2.0px;stroke-linecap:butt;stroke-linejoin:miter;stroke-opacity:1\"/>\n",
       "<path class=\"bond-10\" d=\"M 57.1274,155.344 L 72.9511,167.648\" style=\"fill:none;fill-rule:evenodd;stroke:#000000;stroke-width:2.0px;stroke-linecap:butt;stroke-linejoin:miter;stroke-opacity:1\"/>\n",
       "<path class=\"bond-10\" d=\"M 56.2334,161.391 L 67.3101,170.005\" style=\"fill:none;fill-rule:evenodd;stroke:#000000;stroke-width:2.0px;stroke-linecap:butt;stroke-linejoin:miter;stroke-opacity:1\"/>\n",
       "<path class=\"bond-11\" d=\"M 72.9511,167.648 L 107.089,191.368\" style=\"fill:none;fill-rule:evenodd;stroke:#000000;stroke-width:2.0px;stroke-linecap:butt;stroke-linejoin:miter;stroke-opacity:1\"/>\n",
       "<path class=\"bond-12\" d=\"M 105.037,193.064 L 108.004,196.652\" style=\"fill:none;fill-rule:evenodd;stroke:#000000;stroke-width:2.0px;stroke-linecap:butt;stroke-linejoin:miter;stroke-opacity:1\"/>\n",
       "<path class=\"bond-12\" d=\"M 108.004,196.652 L 110.97,200.24\" style=\"fill:none;fill-rule:evenodd;stroke:#FF0000;stroke-width:2.0px;stroke-linecap:butt;stroke-linejoin:miter;stroke-opacity:1\"/>\n",
       "<path class=\"bond-12\" d=\"M 109.14,189.672 L 112.106,193.26\" style=\"fill:none;fill-rule:evenodd;stroke:#000000;stroke-width:2.0px;stroke-linecap:butt;stroke-linejoin:miter;stroke-opacity:1\"/>\n",
       "<path class=\"bond-12\" d=\"M 112.106,193.26 L 115.073,196.848\" style=\"fill:none;fill-rule:evenodd;stroke:#FF0000;stroke-width:2.0px;stroke-linecap:butt;stroke-linejoin:miter;stroke-opacity:1\"/>\n",
       "<path class=\"bond-13\" d=\"M 107.089,191.368 L 129.495,199.642\" style=\"fill:none;fill-rule:evenodd;stroke:#000000;stroke-width:2.0px;stroke-linecap:butt;stroke-linejoin:miter;stroke-opacity:1\"/>\n",
       "<path class=\"bond-14\" d=\"M 129.495,199.642 L 172.699,190.723\" style=\"fill:none;fill-rule:evenodd;stroke:#000000;stroke-width:2.0px;stroke-linecap:butt;stroke-linejoin:miter;stroke-opacity:1\"/>\n",
       "<path class=\"bond-15\" d=\"M 172.699,190.723 L 201.452,217.204\" style=\"fill:none;fill-rule:evenodd;stroke:#000000;stroke-width:2.0px;stroke-linecap:butt;stroke-linejoin:miter;stroke-opacity:1\"/>\n",
       "<path class=\"bond-15\" d=\"M 183.022,188.17 L 203.149,206.707\" style=\"fill:none;fill-rule:evenodd;stroke:#000000;stroke-width:2.0px;stroke-linecap:butt;stroke-linejoin:miter;stroke-opacity:1\"/>\n",
       "<path class=\"bond-16\" d=\"M 172.699,190.723 L 183.289,155.145\" style=\"fill:none;fill-rule:evenodd;stroke:#000000;stroke-width:2.0px;stroke-linecap:butt;stroke-linejoin:miter;stroke-opacity:1\"/>\n",
       "<path class=\"bond-17\" d=\"M 183.289,155.145 L 223.276,146.93\" style=\"fill:none;fill-rule:evenodd;stroke:#000000;stroke-width:2.0px;stroke-linecap:butt;stroke-linejoin:miter;stroke-opacity:1\"/>\n",
       "<path class=\"bond-17\" d=\"M 191.072,162.603 L 219.063,156.853\" style=\"fill:none;fill-rule:evenodd;stroke:#000000;stroke-width:2.0px;stroke-linecap:butt;stroke-linejoin:miter;stroke-opacity:1\"/>\n",
       "<path class=\"bond-18\" d=\"M 183.289,155.145 L 152.842,126.405\" style=\"fill:none;fill-rule:evenodd;stroke:#000000;stroke-width:2.0px;stroke-linecap:butt;stroke-linejoin:miter;stroke-opacity:1\"/>\n",
       "<path class=\"bond-19\" d=\"M 223.276,146.93 L 251.993,174.018\" style=\"fill:none;fill-rule:evenodd;stroke:#000000;stroke-width:2.0px;stroke-linecap:butt;stroke-linejoin:miter;stroke-opacity:1\"/>\n",
       "<path class=\"bond-20\" d=\"M 223.276,146.93 L 227.405,133.485\" style=\"fill:none;fill-rule:evenodd;stroke:#000000;stroke-width:2.0px;stroke-linecap:butt;stroke-linejoin:miter;stroke-opacity:1\"/>\n",
       "<path class=\"bond-20\" d=\"M 227.405,133.485 L 231.534,120.04\" style=\"fill:none;fill-rule:evenodd;stroke:#FF0000;stroke-width:2.0px;stroke-linecap:butt;stroke-linejoin:miter;stroke-opacity:1\"/>\n",
       "<path class=\"bond-21\" d=\"M 251.993,174.018 L 241.089,209.022\" style=\"fill:none;fill-rule:evenodd;stroke:#000000;stroke-width:2.0px;stroke-linecap:butt;stroke-linejoin:miter;stroke-opacity:1\"/>\n",
       "<path class=\"bond-21\" d=\"M 241.887,176.63 L 234.255,201.133\" style=\"fill:none;fill-rule:evenodd;stroke:#000000;stroke-width:2.0px;stroke-linecap:butt;stroke-linejoin:miter;stroke-opacity:1\"/>\n",
       "<path class=\"bond-22\" d=\"M 241.089,209.022 L 201.452,217.204\" style=\"fill:none;fill-rule:evenodd;stroke:#000000;stroke-width:2.0px;stroke-linecap:butt;stroke-linejoin:miter;stroke-opacity:1\"/>\n",
       "<path class=\"bond-23\" d=\"M 241.089,209.022 L 251.808,219.076\" style=\"fill:none;fill-rule:evenodd;stroke:#000000;stroke-width:2.0px;stroke-linecap:butt;stroke-linejoin:miter;stroke-opacity:1\"/>\n",
       "<path class=\"bond-23\" d=\"M 251.808,219.076 L 262.527,229.13\" style=\"fill:none;fill-rule:evenodd;stroke:#FF0000;stroke-width:2.0px;stroke-linecap:butt;stroke-linejoin:miter;stroke-opacity:1\"/>\n",
       "<path class=\"bond-24\" d=\"M 201.452,217.204 L 195.923,235.563\" style=\"fill:none;fill-rule:evenodd;stroke:#000000;stroke-width:2.0px;stroke-linecap:butt;stroke-linejoin:miter;stroke-opacity:1\"/>\n",
       "<path class=\"bond-24\" d=\"M 195.923,235.563 L 190.394,253.921\" style=\"fill:none;fill-rule:evenodd;stroke:#00CC00;stroke-width:2.0px;stroke-linecap:butt;stroke-linejoin:miter;stroke-opacity:1\"/>\n",
       "<path class=\"bond-25\" d=\"M 151.828,122.086 L 137.774,125.384\" style=\"fill:none;fill-rule:evenodd;stroke:#000000;stroke-width:2.0px;stroke-linecap:butt;stroke-linejoin:miter;stroke-opacity:1\"/>\n",
       "<path class=\"bond-25\" d=\"M 137.774,125.384 L 123.72,128.682\" style=\"fill:none;fill-rule:evenodd;stroke:#FF0000;stroke-width:2.0px;stroke-linecap:butt;stroke-linejoin:miter;stroke-opacity:1\"/>\n",
       "<path class=\"bond-25\" d=\"M 153.855,130.723 L 139.801,134.021\" style=\"fill:none;fill-rule:evenodd;stroke:#000000;stroke-width:2.0px;stroke-linecap:butt;stroke-linejoin:miter;stroke-opacity:1\"/>\n",
       "<path class=\"bond-25\" d=\"M 139.801,134.021 L 125.747,137.319\" style=\"fill:none;fill-rule:evenodd;stroke:#FF0000;stroke-width:2.0px;stroke-linecap:butt;stroke-linejoin:miter;stroke-opacity:1\"/>\n",
       "<path class=\"bond-26\" d=\"M 152.842,126.405 L 156.901,112.501\" style=\"fill:none;fill-rule:evenodd;stroke:#000000;stroke-width:2.0px;stroke-linecap:butt;stroke-linejoin:miter;stroke-opacity:1\"/>\n",
       "<path class=\"bond-26\" d=\"M 156.901,112.501 L 160.959,98.5976\" style=\"fill:none;fill-rule:evenodd;stroke:#FF0000;stroke-width:2.0px;stroke-linecap:butt;stroke-linejoin:miter;stroke-opacity:1\"/>\n",
       "<path class=\"atom-2\" d=\"M 94.9583 92.8765 Q 94.9583 89.7537, 96.4133 88.1214 Q 97.8859 86.4713, 100.672 86.4713 Q 103.262 86.4713, 104.646 88.2988 L 103.475 89.2569 Q 102.464 87.9262, 100.672 87.9262 Q 98.7731 87.9262, 97.7617 89.2037 Q 96.7681 90.4634, 96.7681 92.8765 Q 96.7681 95.3605, 97.7972 96.638 Q 98.844 97.9155, 100.867 97.9155 Q 102.251 97.9155, 103.865 97.0816 L 104.362 98.4123 Q 103.706 98.8381, 102.712 99.0865 Q 101.718 99.3349, 100.618 99.3349 Q 97.8859 99.3349, 96.4133 97.6671 Q 94.9583 95.9993, 94.9583 92.8765 \" fill=\"#000000\"/>\n",
       "<path class=\"atom-5\" d=\"M 53.5699 66.265 Q 53.5699 63.2487, 55.0603 61.5631 Q 56.5507 59.8775, 59.3364 59.8775 Q 62.122 59.8775, 63.6124 61.5631 Q 65.1028 63.2487, 65.1028 66.265 Q 65.1028 69.3168, 63.5947 71.0556 Q 62.0865 72.7767, 59.3364 72.7767 Q 56.5684 72.7767, 55.0603 71.0556 Q 53.5699 69.3345, 53.5699 66.265 M 59.3364 71.3572 Q 61.2526 71.3572, 62.2817 70.0797 Q 63.3285 68.7845, 63.3285 66.265 Q 63.3285 63.7987, 62.2817 62.5567 Q 61.2526 61.297, 59.3364 61.297 Q 57.4201 61.297, 56.3733 62.539 Q 55.3442 63.781, 55.3442 66.265 Q 55.3442 68.8022, 56.3733 70.0797 Q 57.4201 71.3572, 59.3364 71.3572 \" fill=\"#FF0000\"/>\n",
       "<path class=\"atom-11\" d=\"M 112.882 205.385 Q 112.882 202.368, 114.372 200.683 Q 115.863 198.997, 118.648 198.997 Q 121.434 198.997, 122.924 200.683 Q 124.415 202.368, 124.415 205.385 Q 124.415 208.436, 122.906 210.175 Q 121.398 211.896, 118.648 211.896 Q 115.88 211.896, 114.372 210.175 Q 112.882 208.454, 112.882 205.385 M 118.648 210.477 Q 120.564 210.477, 121.593 209.199 Q 122.64 207.904, 122.64 205.385 Q 122.64 202.918, 121.593 201.676 Q 120.564 200.417, 118.648 200.417 Q 116.732 200.417, 115.685 201.659 Q 114.656 202.901, 114.656 205.385 Q 114.656 207.922, 115.685 209.199 Q 116.732 210.477, 118.648 210.477 \" fill=\"#FF0000\"/>\n",
       "<path class=\"atom-19\" d=\"M 183.407 261.47 Q 183.407 258.347, 184.862 256.715 Q 186.335 255.065, 189.12 255.065 Q 191.711 255.065, 193.095 256.893 L 191.924 257.851 Q 190.912 256.52, 189.12 256.52 Q 187.222 256.52, 186.21 257.797 Q 185.217 259.057, 185.217 261.47 Q 185.217 263.954, 186.246 265.232 Q 187.293 266.509, 189.315 266.509 Q 190.699 266.509, 192.314 265.675 L 192.811 267.006 Q 192.154 267.432, 191.161 267.68 Q 190.167 267.929, 189.067 267.929 Q 186.335 267.929, 184.862 266.261 Q 183.407 264.593, 183.407 261.47 \" fill=\"#00CC00\"/>\n",
       "<path class=\"atom-19\" d=\"M 194.621 254.302 L 196.253 254.302 L 196.253 267.769 L 194.621 267.769 L 194.621 254.302 \" fill=\"#00CC00\"/>\n",
       "<path class=\"atom-20\" d=\"M 263.493 235.48 Q 263.493 232.463, 264.983 230.778 Q 266.474 229.092, 269.259 229.092 Q 272.045 229.092, 273.535 230.778 Q 275.026 232.463, 275.026 235.48 Q 275.026 238.532, 273.518 240.27 Q 272.01 241.991, 269.259 241.991 Q 266.492 241.991, 264.983 240.27 Q 263.493 238.549, 263.493 235.48 M 269.259 240.572 Q 271.176 240.572, 272.205 239.294 Q 273.252 237.999, 273.252 235.48 Q 273.252 233.013, 272.205 231.771 Q 271.176 230.512, 269.259 230.512 Q 267.343 230.512, 266.296 231.754 Q 265.267 232.996, 265.267 235.48 Q 265.267 238.017, 266.296 239.294 Q 267.343 240.572, 269.259 240.572 \" fill=\"#FF0000\"/>\n",
       "<path class=\"atom-20\" d=\"M 276.534 229.234 L 278.237 229.234 L 278.237 234.575 L 284.66 234.575 L 284.66 229.234 L 286.364 229.234 L 286.364 241.796 L 284.66 241.796 L 284.66 235.994 L 278.237 235.994 L 278.237 241.796 L 276.534 241.796 L 276.534 229.234 \" fill=\"#FF0000\"/>\n",
       "<path class=\"atom-21\" d=\"M 228.054 112.63 Q 228.054 109.614, 229.545 107.928 Q 231.035 106.243, 233.821 106.243 Q 236.606 106.243, 238.097 107.928 Q 239.587 109.614, 239.587 112.63 Q 239.587 115.682, 238.079 117.421 Q 236.571 119.142, 233.821 119.142 Q 231.053 119.142, 229.545 117.421 Q 228.054 115.7, 228.054 112.63 M 233.821 117.723 Q 235.737 117.723, 236.766 116.445 Q 237.813 115.15, 237.813 112.63 Q 237.813 110.164, 236.766 108.922 Q 235.737 107.662, 233.821 107.662 Q 231.905 107.662, 230.858 108.904 Q 229.829 110.146, 229.829 112.63 Q 229.829 115.168, 230.858 116.445 Q 231.905 117.723, 233.821 117.723 \" fill=\"#FF0000\"/>\n",
       "<path class=\"atom-21\" d=\"M 241.095 106.385 L 242.799 106.385 L 242.799 111.725 L 249.222 111.725 L 249.222 106.385 L 250.925 106.385 L 250.925 118.947 L 249.222 118.947 L 249.222 113.145 L 242.799 113.145 L 242.799 118.947 L 241.095 118.947 L 241.095 106.385 \" fill=\"#FF0000\"/>\n",
       "<path class=\"atom-23\" d=\"M 112.308 134.599 Q 112.308 131.583, 113.798 129.897 Q 115.289 128.212, 118.074 128.212 Q 120.86 128.212, 122.351 129.897 Q 123.841 131.583, 123.841 134.599 Q 123.841 137.651, 122.333 139.39 Q 120.825 141.111, 118.074 141.111 Q 115.307 141.111, 113.798 139.39 Q 112.308 137.669, 112.308 134.599 M 118.074 139.691 Q 119.991 139.691, 121.02 138.414 Q 122.067 137.119, 122.067 134.599 Q 122.067 132.133, 121.02 130.891 Q 119.991 129.631, 118.074 129.631 Q 116.158 129.631, 115.111 130.873 Q 114.082 132.115, 114.082 134.599 Q 114.082 137.136, 115.111 138.414 Q 116.158 139.691, 118.074 139.691 \" fill=\"#FF0000\"/>\n",
       "<path class=\"atom-24\" d=\"M 157.372 91.1673 Q 157.372 88.1509, 158.863 86.4654 Q 160.353 84.7798, 163.139 84.7798 Q 165.924 84.7798, 167.415 86.4654 Q 168.905 88.1509, 168.905 91.1673 Q 168.905 94.219, 167.397 95.9579 Q 165.889 97.6789, 163.139 97.6789 Q 160.371 97.6789, 158.863 95.9579 Q 157.372 94.2368, 157.372 91.1673 M 163.139 96.2595 Q 165.055 96.2595, 166.084 94.982 Q 167.131 93.6868, 167.131 91.1673 Q 167.131 88.701, 166.084 87.459 Q 165.055 86.1992, 163.139 86.1992 Q 161.222 86.1992, 160.176 87.4412 Q 159.147 88.6832, 159.147 91.1673 Q 159.147 93.7045, 160.176 94.982 Q 161.222 96.2595, 163.139 96.2595 \" fill=\"#FF0000\"/>\n",
       "</svg>"
      ],
      "text/plain": [
       "<IPython.core.display.SVG object>"
      ]
     },
     "metadata": {},
     "output_type": "display_data"
    }
   ],
   "source": [
    "salicylic_acid_pattern = Chem.MolFromSmarts('c1ccc(c(c1)C(=O)O)O')\n",
    "# get all salicylic acid derivates from DrugBank\n",
    "drugbank_salicylics = [m for m in suppl if m.HasSubstructMatch(salicylic_acid_pattern)]\n",
    "for sal in drugbank_salicylics: visualize_match(sal, salicylic_acid_pattern)"
   ]
  },
  {
   "cell_type": "code",
   "execution_count": 23,
   "id": "b4cbfa4f",
   "metadata": {},
   "outputs": [],
   "source": [
    "from itertools import chain\n",
    "# load PAINS structures in SMARTS format from two files in data\n",
    "pains = []\n",
    "with open('../data/pains/p_l15.txt', 'r') as f, open('../data/pains/p_m150.txt', 'r') as p:\n",
    "    for line in chain(f, p):\n",
    "        pattern, text = line.strip().split('\\t') # split by tab\n",
    "        pains.append([Chem.MolFromSmarts(pattern),\n",
    "                      text.lstrip(\"<regId=\\\"\").rstrip(\"\\\">\")]) # remove the xml tags"
   ]
  },
  {
   "cell_type": "code",
   "execution_count": 29,
   "id": "0b0dcc55",
   "metadata": {},
   "outputs": [
    {
     "data": {
      "text/plain": [
       "[[(<rdkit.Chem.rdchem.Mol at 0x1aa53da63a0>, 1),\n",
       "  (<rdkit.Chem.rdchem.Mol at 0x1aa53da63f0>, 1)],\n",
       " [(<rdkit.Chem.rdchem.Mol at 0x1aa53da9e90>, 1)]]"
      ]
     },
     "execution_count": 29,
     "metadata": {},
     "output_type": "execute_result"
    }
   ],
   "source": [
    "# pain structures in my actives\n",
    "hasPattern = []\n",
    "for p in pains:\n",
    "    hasPain = list(filter(lambda x : x[1] > 0,((m, len(m.GetSubstructMatches(p[0]))) for m in drugs)))\n",
    "    if len(hasPain) > 0 : hasPattern.append(hasPain)\n",
    "hasPattern"
   ]
  }
 ],
 "metadata": {
  "kernelspec": {
   "display_name": "Python 3 (ipykernel)",
   "language": "python",
   "name": "python3"
  },
  "language_info": {
   "codemirror_mode": {
    "name": "ipython",
    "version": 3
   },
   "file_extension": ".py",
   "mimetype": "text/x-python",
   "name": "python",
   "nbconvert_exporter": "python",
   "pygments_lexer": "ipython3",
   "version": "3.7.16"
  }
 },
 "nbformat": 4,
 "nbformat_minor": 5
}
