{
 "cells": [
  {
   "cell_type": "code",
   "execution_count": 2,
   "id": "ef379c02",
   "metadata": {},
   "outputs": [],
   "source": [
    "from rdkit.Chem import AllChem as Chem\n",
    "from rdkit.Chem import Draw\n",
    "from rdkit.Chem.Draw import IPythonConsole\n",
    "from rdkit.Chem import MACCSkeys\n",
    "from rdkit.Chem.Scaffolds import MurckoScaffold\n",
    "import csv"
   ]
  },
  {
   "cell_type": "code",
   "execution_count": 3,
   "id": "1a566cde",
   "metadata": {},
   "outputs": [
    {
     "name": "stderr",
     "output_type": "stream",
     "text": [
      "[13:29:27] Explicit valence for atom # 7 N, 4, is greater than permitted\n",
      "[13:29:27] ERROR: Could not sanitize molecule ending on line 20009\n",
      "[13:29:27] ERROR: Explicit valence for atom # 7 N, 4, is greater than permitted\n",
      "[13:29:28] Can't kekulize mol.  Unkekulized atoms: 1 2 3 5 6 7 8 9 10\n",
      "[13:29:28] ERROR: Could not sanitize molecule ending on line 250947\n",
      "[13:29:28] ERROR: Can't kekulize mol.  Unkekulized atoms: 1 2 3 5 6 7 8 9 10\n",
      "[13:29:28] Explicit valence for atom # 17 O, 3, is greater than permitted\n",
      "[13:29:28] ERROR: Could not sanitize molecule ending on line 258130\n",
      "[13:29:28] ERROR: Explicit valence for atom # 17 O, 3, is greater than permitted\n",
      "[13:29:28] Can't kekulize mol.  Unkekulized atoms: 57 58 59 60 61 62 63 64 65\n",
      "[13:29:28] ERROR: Could not sanitize molecule ending on line 261581\n",
      "[13:29:28] ERROR: Can't kekulize mol.  Unkekulized atoms: 57 58 59 60 61 62 63 64 65\n",
      "[13:29:28] Can't kekulize mol.  Unkekulized atoms: 0 1 2 6 7 8 9 10 11 12 13 14 15 16 17\n",
      "[13:29:28] ERROR: Could not sanitize molecule ending on line 280661\n",
      "[13:29:28] ERROR: Can't kekulize mol.  Unkekulized atoms: 0 1 2 6 7 8 9 10 11 12 13 14 15 16 17\n",
      "[13:29:28] Explicit valence for atom # 13 Cl, 5, is greater than permitted\n",
      "[13:29:28] ERROR: Could not sanitize molecule ending on line 282635\n",
      "[13:29:28] ERROR: Explicit valence for atom # 13 Cl, 5, is greater than permitted\n",
      "[13:29:28] Can't kekulize mol.  Unkekulized atoms: 3 4 5 6 7 8 10 11 12\n",
      "[13:29:28] ERROR: Could not sanitize molecule ending on line 292762\n",
      "[13:29:28] ERROR: Can't kekulize mol.  Unkekulized atoms: 3 4 5 6 7 8 10 11 12\n",
      "[13:29:28] Can't kekulize mol.  Unkekulized atoms: 0 1 2 4 5 6 7 8 9 10\n",
      "[13:29:28] ERROR: Could not sanitize molecule ending on line 293836\n",
      "[13:29:28] ERROR: Can't kekulize mol.  Unkekulized atoms: 0 1 2 4 5 6 7 8 9 10\n",
      "[13:29:28] Can't kekulize mol.  Unkekulized atoms: 2 3 4 5 6 7 8 9 10\n",
      "[13:29:28] ERROR: Could not sanitize molecule ending on line 302815\n",
      "[13:29:28] ERROR: Can't kekulize mol.  Unkekulized atoms: 2 3 4 5 6 7 8 9 10\n",
      "[13:29:28] Can't kekulize mol.  Unkekulized atoms: 13 14 15 16 22\n",
      "[13:29:28] ERROR: Could not sanitize molecule ending on line 304047\n",
      "[13:29:28] ERROR: Can't kekulize mol.  Unkekulized atoms: 13 14 15 16 22\n",
      "[13:29:28] Explicit valence for atom # 27 N, 4, is greater than permitted\n",
      "[13:29:28] ERROR: Could not sanitize molecule ending on line 317905\n",
      "[13:29:28] ERROR: Explicit valence for atom # 27 N, 4, is greater than permitted\n",
      "[13:29:28] Explicit valence for atom # 16 N, 4, is greater than permitted\n",
      "[13:29:28] ERROR: Could not sanitize molecule ending on line 318439\n",
      "[13:29:28] ERROR: Explicit valence for atom # 16 N, 4, is greater than permitted\n",
      "[13:29:28] Can't kekulize mol.  Unkekulized atoms: 3 4 5 6 54\n",
      "[13:29:28] ERROR: Could not sanitize molecule ending on line 324910\n",
      "[13:29:28] ERROR: Can't kekulize mol.  Unkekulized atoms: 3 4 5 6 54\n",
      "[13:29:28] Can't kekulize mol.  Unkekulized atoms: 3 4 5 6 7\n",
      "[13:29:28] ERROR: Could not sanitize molecule ending on line 326050\n",
      "[13:29:28] ERROR: Can't kekulize mol.  Unkekulized atoms: 3 4 5 6 7\n",
      "[13:29:28] Can't kekulize mol.  Unkekulized atoms: 2 3 4 5 11\n",
      "[13:29:28] ERROR: Could not sanitize molecule ending on line 331986\n",
      "[13:29:28] ERROR: Can't kekulize mol.  Unkekulized atoms: 2 3 4 5 11\n",
      "[13:29:28] Can't kekulize mol.  Unkekulized atoms: 1 2 3 4 5 6 7 8 9\n",
      "[13:29:28] ERROR: Could not sanitize molecule ending on line 333287\n",
      "[13:29:28] ERROR: Can't kekulize mol.  Unkekulized atoms: 1 2 3 4 5 6 7 8 9\n",
      "[13:29:28] Can't kekulize mol.  Unkekulized atoms: 3 4 5 6 7\n",
      "[13:29:28] ERROR: Could not sanitize molecule ending on line 347574\n",
      "[13:29:28] ERROR: Can't kekulize mol.  Unkekulized atoms: 3 4 5 6 7\n",
      "[13:29:28] Can't kekulize mol.  Unkekulized atoms: 5 6 7 8 9 10 11 12 13\n",
      "[13:29:28] ERROR: Could not sanitize molecule ending on line 357505\n",
      "[13:29:28] ERROR: Can't kekulize mol.  Unkekulized atoms: 5 6 7 8 9 10 11 12 13\n",
      "[13:29:28] Can't kekulize mol.  Unkekulized atoms: 3 4 5 6 7\n",
      "[13:29:28] ERROR: Could not sanitize molecule ending on line 371006\n",
      "[13:29:28] ERROR: Can't kekulize mol.  Unkekulized atoms: 3 4 5 6 7\n",
      "[13:29:28] Can't kekulize mol.  Unkekulized atoms: 1 2 3 4 5 6 7 8 9\n",
      "[13:29:28] ERROR: Could not sanitize molecule ending on line 378618\n",
      "[13:29:28] ERROR: Can't kekulize mol.  Unkekulized atoms: 1 2 3 4 5 6 7 8 9\n",
      "[13:29:28] Explicit valence for atom # 56 O, 3, is greater than permitted\n",
      "[13:29:28] ERROR: Could not sanitize molecule ending on line 398455\n",
      "[13:29:28] ERROR: Explicit valence for atom # 56 O, 3, is greater than permitted\n",
      "[13:29:28] Can't kekulize mol.  Unkekulized atoms: 9 10 11 12 18\n",
      "[13:29:28] ERROR: Could not sanitize molecule ending on line 407765\n",
      "[13:29:28] ERROR: Can't kekulize mol.  Unkekulized atoms: 9 10 11 12 18\n",
      "[13:29:28] Can't kekulize mol.  Unkekulized atoms: 1 2 3 12 13 14 15 16 17\n",
      "[13:29:28] ERROR: Could not sanitize molecule ending on line 422810\n",
      "[13:29:28] ERROR: Can't kekulize mol.  Unkekulized atoms: 1 2 3 12 13 14 15 16 17\n",
      "[13:29:28] Can't kekulize mol.  Unkekulized atoms: 44 45 46 47 49\n",
      "[13:29:28] ERROR: Could not sanitize molecule ending on line 425190\n",
      "[13:29:28] ERROR: Can't kekulize mol.  Unkekulized atoms: 44 45 46 47 49\n",
      "[13:29:28] Explicit valence for atom # 8 N, 5, is greater than permitted\n",
      "[13:29:28] ERROR: Could not sanitize molecule ending on line 426332\n",
      "[13:29:28] ERROR: Explicit valence for atom # 8 N, 5, is greater than permitted\n",
      "[13:29:28] Can't kekulize mol.  Unkekulized atoms: 54 55 56 57 58 59 60 61 62\n",
      "[13:29:28] ERROR: Could not sanitize molecule ending on line 427901\n",
      "[13:29:28] ERROR: Can't kekulize mol.  Unkekulized atoms: 54 55 56 57 58 59 60 61 62\n",
      "[13:29:28] Can't kekulize mol.  Unkekulized atoms: 0 1 2 3 4 5 6 7 8\n",
      "[13:29:28] ERROR: Could not sanitize molecule ending on line 432118\n",
      "[13:29:28] ERROR: Can't kekulize mol.  Unkekulized atoms: 0 1 2 3 4 5 6 7 8\n",
      "[13:29:28] Can't kekulize mol.  Unkekulized atoms: 3 4 5 6 8 9 10\n",
      "[13:29:28] ERROR: Could not sanitize molecule ending on line 442989\n",
      "[13:29:28] ERROR: Can't kekulize mol.  Unkekulized atoms: 3 4 5 6 8 9 10\n",
      "[13:29:28] Can't kekulize mol.  Unkekulized atoms: 3 4 5 6 9\n",
      "[13:29:28] ERROR: Could not sanitize molecule ending on line 447465\n",
      "[13:29:28] ERROR: Can't kekulize mol.  Unkekulized atoms: 3 4 5 6 9\n",
      "[13:29:28] Can't kekulize mol.  Unkekulized atoms: 16 17 18 19 20\n",
      "[13:29:28] ERROR: Could not sanitize molecule ending on line 466177\n",
      "[13:29:28] ERROR: Can't kekulize mol.  Unkekulized atoms: 16 17 18 19 20\n",
      "[13:29:28] Can't kekulize mol.  Unkekulized atoms: 7 8 9 10 17\n",
      "[13:29:28] ERROR: Could not sanitize molecule ending on line 468852\n",
      "[13:29:28] ERROR: Can't kekulize mol.  Unkekulized atoms: 7 8 9 10 17\n",
      "[13:29:28] Can't kekulize mol.  Unkekulized atoms: 3 4 5 6 7 8 9 10 11\n",
      "[13:29:28] ERROR: Could not sanitize molecule ending on line 469201\n",
      "[13:29:28] ERROR: Can't kekulize mol.  Unkekulized atoms: 3 4 5 6 7 8 9 10 11\n",
      "[13:29:28] Explicit valence for atom # 53 N, 4, is greater than permitted\n",
      "[13:29:28] ERROR: Could not sanitize molecule ending on line 472285\n",
      "[13:29:28] ERROR: Explicit valence for atom # 53 N, 4, is greater than permitted\n",
      "[13:29:28] Can't kekulize mol.  Unkekulized atoms: 2 3 4 5 12\n",
      "[13:29:28] ERROR: Could not sanitize molecule ending on line 480504\n",
      "[13:29:28] ERROR: Can't kekulize mol.  Unkekulized atoms: 2 3 4 5 12\n",
      "[13:29:28] Explicit valence for atom # 2 O, 3, is greater than permitted\n",
      "[13:29:28] ERROR: Could not sanitize molecule ending on line 499305\n",
      "[13:29:28] ERROR: Explicit valence for atom # 2 O, 3, is greater than permitted\n",
      "[13:29:28] Can't kekulize mol.  Unkekulized atoms: 1 2 3 4 5 6 7 8 9\n",
      "[13:29:28] ERROR: Could not sanitize molecule ending on line 503342\n",
      "[13:29:28] ERROR: Can't kekulize mol.  Unkekulized atoms: 1 2 3 4 5 6 7 8 9\n",
      "[13:29:28] Can't kekulize mol.  Unkekulized atoms: 0 1 2 4 5 6 7 8 9 10\n",
      "[13:29:28] ERROR: Could not sanitize molecule ending on line 508068\n",
      "[13:29:28] ERROR: Can't kekulize mol.  Unkekulized atoms: 0 1 2 4 5 6 7 8 9 10\n",
      "[13:29:28] Can't kekulize mol.  Unkekulized atoms: 1 2 3 4 5 6 7 8 9\n",
      "[13:29:28] ERROR: Could not sanitize molecule ending on line 510069\n",
      "[13:29:28] ERROR: Can't kekulize mol.  Unkekulized atoms: 1 2 3 4 5 6 7 8 9\n",
      "[13:29:28] Can't kekulize mol.  Unkekulized atoms: 3 4 5 6 7 8 10\n",
      "[13:29:28] ERROR: Could not sanitize molecule ending on line 511111\n",
      "[13:29:28] ERROR: Can't kekulize mol.  Unkekulized atoms: 3 4 5 6 7 8 10\n",
      "[13:29:28] Can't kekulize mol.  Unkekulized atoms: 1 2 3 5 6 7 8 9 10\n",
      "[13:29:28] ERROR: Could not sanitize molecule ending on line 512030\n",
      "[13:29:28] ERROR: Can't kekulize mol.  Unkekulized atoms: 1 2 3 5 6 7 8 9 10\n",
      "[13:29:28] Explicit valence for atom # 2 O, 3, is greater than permitted\n",
      "[13:29:28] ERROR: Could not sanitize molecule ending on line 519056\n",
      "[13:29:28] ERROR: Explicit valence for atom # 2 O, 3, is greater than permitted\n",
      "[13:29:29] Explicit valence for atom # 6 B, 4, is greater than permitted\n",
      "[13:29:29] ERROR: Could not sanitize molecule ending on line 541262\n",
      "[13:29:29] ERROR: Explicit valence for atom # 6 B, 4, is greater than permitted\n"
     ]
    },
    {
     "name": "stderr",
     "output_type": "stream",
     "text": [
      "[13:29:29] Can't kekulize mol.  Unkekulized atoms: 2 3 17 19 20\n",
      "[13:29:29] ERROR: Could not sanitize molecule ending on line 557517\n",
      "[13:29:29] ERROR: Can't kekulize mol.  Unkekulized atoms: 2 3 17 19 20\n",
      "[13:29:29] Can't kekulize mol.  Unkekulized atoms: 0 1 2 4 5 6 7 8 9 10\n",
      "[13:29:29] ERROR: Could not sanitize molecule ending on line 561344\n",
      "[13:29:29] ERROR: Can't kekulize mol.  Unkekulized atoms: 0 1 2 4 5 6 7 8 9 10\n",
      "[13:29:29] Can't kekulize mol.  Unkekulized atoms: 10 11 12 13 19\n",
      "[13:29:29] ERROR: Could not sanitize molecule ending on line 562947\n",
      "[13:29:29] ERROR: Can't kekulize mol.  Unkekulized atoms: 10 11 12 13 19\n",
      "[13:29:29] Explicit valence for atom # 27 N, 4, is greater than permitted\n",
      "[13:29:29] ERROR: Could not sanitize molecule ending on line 567073\n",
      "[13:29:29] ERROR: Explicit valence for atom # 27 N, 4, is greater than permitted\n",
      "[13:29:29] Can't kekulize mol.  Unkekulized atoms: 9 10 11 12 13 14 15 16 17\n",
      "[13:29:29] ERROR: Could not sanitize molecule ending on line 568252\n",
      "[13:29:29] ERROR: Can't kekulize mol.  Unkekulized atoms: 9 10 11 12 13 14 15 16 17\n",
      "[13:29:29] Can't kekulize mol.  Unkekulized atoms: 23 24 25 26 27\n",
      "[13:29:29] ERROR: Could not sanitize molecule ending on line 574645\n",
      "[13:29:29] ERROR: Can't kekulize mol.  Unkekulized atoms: 23 24 25 26 27\n",
      "[13:29:29] Can't kekulize mol.  Unkekulized atoms: 5 6 7 8 9\n",
      "[13:29:29] ERROR: Could not sanitize molecule ending on line 592639\n",
      "[13:29:29] ERROR: Can't kekulize mol.  Unkekulized atoms: 5 6 7 8 9\n",
      "[13:29:29] Explicit valence for atom # 12 N, 4, is greater than permitted\n",
      "[13:29:29] ERROR: Could not sanitize molecule ending on line 595909\n",
      "[13:29:29] ERROR: Explicit valence for atom # 12 N, 4, is greater than permitted\n",
      "[13:29:29] Explicit valence for atom # 0 Br, 2, is greater than permitted\n",
      "[13:29:29] ERROR: Could not sanitize molecule ending on line 599041\n",
      "[13:29:29] ERROR: Explicit valence for atom # 0 Br, 2, is greater than permitted\n",
      "[13:29:29] Explicit valence for atom # 1 N, 4, is greater than permitted\n",
      "[13:29:29] ERROR: Could not sanitize molecule ending on line 601819\n",
      "[13:29:29] ERROR: Explicit valence for atom # 1 N, 4, is greater than permitted\n",
      "[13:29:29] Explicit valence for atom # 6 Be, 4, is greater than permitted\n",
      "[13:29:29] ERROR: Could not sanitize molecule ending on line 604427\n",
      "[13:29:29] ERROR: Explicit valence for atom # 6 Be, 4, is greater than permitted\n",
      "[13:29:29] Can't kekulize mol.  Unkekulized atoms: 4 5 6 7 8 9 10 11 12\n",
      "[13:29:29] ERROR: Could not sanitize molecule ending on line 604912\n",
      "[13:29:29] ERROR: Can't kekulize mol.  Unkekulized atoms: 4 5 6 7 8 9 10 11 12\n",
      "[13:29:29] Can't kekulize mol.  Unkekulized atoms: 5 6 7 8 9 10 11 12 13\n",
      "[13:29:29] ERROR: Could not sanitize molecule ending on line 616025\n",
      "[13:29:29] ERROR: Can't kekulize mol.  Unkekulized atoms: 5 6 7 8 9 10 11 12 13\n",
      "[13:29:29] Can't kekulize mol.  Unkekulized atoms: 1 2 3 5 6 7 8 9 10\n",
      "[13:29:29] ERROR: Could not sanitize molecule ending on line 623202\n",
      "[13:29:29] ERROR: Can't kekulize mol.  Unkekulized atoms: 1 2 3 5 6 7 8 9 10\n",
      "[13:29:29] Can't kekulize mol.  Unkekulized atoms: 5 6 7 8 9 10 11 12 13\n",
      "[13:29:29] ERROR: Could not sanitize molecule ending on line 628065\n",
      "[13:29:29] ERROR: Can't kekulize mol.  Unkekulized atoms: 5 6 7 8 9 10 11 12 13\n",
      "[13:29:29] Explicit valence for atom # 19 N, 4, is greater than permitted\n",
      "[13:29:29] ERROR: Could not sanitize molecule ending on line 636938\n",
      "[13:29:29] ERROR: Explicit valence for atom # 19 N, 4, is greater than permitted\n",
      "[13:29:29] Explicit valence for atom # 0 O, 3, is greater than permitted\n",
      "[13:29:29] ERROR: Could not sanitize molecule ending on line 640674\n",
      "[13:29:29] ERROR: Explicit valence for atom # 0 O, 3, is greater than permitted\n",
      "[13:29:29] Explicit valence for atom # 4 F, 2, is greater than permitted\n",
      "[13:29:29] ERROR: Could not sanitize molecule ending on line 645068\n",
      "[13:29:29] ERROR: Explicit valence for atom # 4 F, 2, is greater than permitted\n",
      "[13:29:29] Can't kekulize mol.  Unkekulized atoms: 0 1 2 4 5 6 7 8 9 10\n",
      "[13:29:29] ERROR: Could not sanitize molecule ending on line 659994\n",
      "[13:29:29] ERROR: Can't kekulize mol.  Unkekulized atoms: 0 1 2 4 5 6 7 8 9 10\n",
      "[13:29:30] Explicit valence for atom # 0 Be, 3, is greater than permitted\n",
      "[13:29:30] ERROR: Could not sanitize molecule ending on line 995692\n",
      "[13:29:30] ERROR: Explicit valence for atom # 0 Be, 3, is greater than permitted\n",
      "[13:29:31] Explicit valence for atom # 0 C greater than permitted\n",
      "[13:29:31] ERROR: Could not sanitize molecule ending on line 1151592\n",
      "[13:29:31] ERROR: Explicit valence for atom # 0 C greater than permitted\n"
     ]
    }
   ],
   "source": [
    "suppl_ligands = Chem.SDMolSupplier('../ohusak/Data/actives_final.sdf')\n",
    "suppl = Chem.SDMolSupplier('../data/drugbank.sdf')\n",
    "drugs = [m for m in suppl if m]\n",
    "ligands = [m for m in suppl_ligands if m]"
   ]
  },
  {
   "cell_type": "code",
   "execution_count": 4,
   "id": "7d7c8718",
   "metadata": {
    "scrolled": true
   },
   "outputs": [
    {
     "data": {
      "image/png": "[encoded data removed]",
      "text/html": [
       "<table><tr><td colspan=\"2\" style=\"text-align: center;\"><image src=\"data:image/png;base64,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\"></td></tr>\n",
       "<tr><th style=\"text-align: right\">DATABASE_ID</th><td style=\"text-align: left\">DB00006</td></tr>\n",
       "<tr><th style=\"text-align: right\">DATABASE_NAME</th><td style=\"text-align: left\">drugbank</td></tr>\n",
       "<tr><th style=\"text-align: right\">SMILES</th><td style=\"text-align: left\">CC[C@H](C)[C@H](NC(=O)[C@H](CCC(O)=O)NC(=O)[C@H](CCC(O)=O)NC(=O)[C@H](CC1=CC=CC=C1)NC(=O)[C@H](CC(O)=O)NC(=O)CNC(=O)[C@H](CC(N)=O)NC(=O)CNC(=O)CNC(=O)CNC(=O)CNC(=O)[C@@H]1CCCN1C(=O)[C@H](CCCNC(N)=N)NC(=O)[C@@H]1CCCN1C(=O)[C@H](N)CC1=CC=CC=C1)C(=O)N1CCC[C@H]1C(=O)N[C@@H](CCC(O)=O)C(=O)N[C@@H](CCC(O)=O)C(=O)N[C@@H](CC1=CC=C(O)C=C1)C(=O)N[C@@H](CC(C)C)C(O)=O</td></tr>\n",
       "<tr><th style=\"text-align: right\">INCHI_IDENTIFIER</th><td style=\"text-align: left\">InChI=1S/C98H138N24O33/c1-5-52(4)82(96(153)122-39-15-23-70(122)92(149)114-60(30-34-79(134)135)85(142)111-59(29-33-78(132)133)86(143)116-64(43-55-24-26-56(123)27-25-55)89(146)118-67(97(154)155)40-51(2)3)119-87(144)61(31-35-80(136)137)112-84(141)58(28-32-77(130)131)113-88(145)63(42-54-18-10-7-11-19-54)117-90(147)66(45-81(138)139)110-76(129)50-107-83(140)65(44-71(100)124)109-75(128)49-106-73(126)47-104-72(125)46-105-74(127)48-108-91(148)68-21-13-38-121(68)95(152)62(20-12-36-103-98(101)102)115-93(150)69-22-14-37-120(69)94(151)57(99)41-53-16-8-6-9-17-53/h6-11,16-19,24-27,51-52,57-70,82,123H,5,12-15,20-23,28-50,99H2,1-4H3,(H2,100,124)(H,104,125)(H,105,127)(H,106,126)(H,107,140)(H,108,148)(H,109,128)(H,110,129)(H,111,142)(H,112,141)(H,113,145)(H,114,149)(H,115,150)(H,116,143)(H,117,147)(H,118,146)(H,119,144)(H,130,131)(H,132,133)(H,134,135)(H,136,137)(H,138,139)(H,154,155)(H4,101,102,103)/t52-,57+,58-,59-,60-,61-,62-,63-,64-,65-,66-,67-,68-,69-,70-,82-/m0/s1</td></tr>\n",
       "<tr><th style=\"text-align: right\">INCHI_KEY</th><td style=\"text-align: left\">OIRCOABEOLEUMC-GEJPAHFPSA-N</td></tr>\n",
       "<tr><th style=\"text-align: right\">FORMULA</th><td style=\"text-align: left\">C98H138N24O33</td></tr>\n",
       "<tr><th style=\"text-align: right\">MOLECULAR_WEIGHT</th><td style=\"text-align: left\">2180.2853</td></tr>\n",
       "<tr><th style=\"text-align: right\">EXACT_MASS</th><td style=\"text-align: left\">2178.985813062</td></tr>\n",
       "<tr><th style=\"text-align: right\">JCHEM_ACCEPTOR_COUNT</th><td style=\"text-align: left\">37</td></tr>\n",
       "<tr><th style=\"text-align: right\">JCHEM_AVERAGE_POLARIZABILITY</th><td style=\"text-align: left\">215.45560313091494</td></tr>\n",
       "<tr><td colspan=\"2\" style=\"text-align: center\">Property list truncated.<br />Increase IPythonConsole.ipython_maxProperties (or set it to -1) to see more properties.</td></tr></table>"
      ],
      "text/plain": [
       "<rdkit.Chem.rdchem.Mol at 0x28c590ce150>"
      ]
     },
     "execution_count": 4,
     "metadata": {},
     "output_type": "execute_result"
    }
   ],
   "source": [
    "scaff = MurckoScaffold.GetScaffoldForMol(drugs[0])\n",
    "scaff"
   ]
  },
  {
   "cell_type": "code",
   "execution_count": 69,
   "id": "d54c8afa",
   "metadata": {},
   "outputs": [],
   "source": [
    "scaffolds = []\n",
    "for l in ligands:\n",
    "    scaffolds.append(scaffold(l))"
   ]
  },
  {
   "cell_type": "code",
   "execution_count": 70,
   "id": "1c0b03a5",
   "metadata": {},
   "outputs": [],
   "source": [
    "scaffolds_drug = []\n",
    "for l in drugs:\n",
    "    scaffolds_drug.append(scaffold(l))"
   ]
  },
  {
   "cell_type": "code",
   "execution_count": 27,
   "id": "e9c76904",
   "metadata": {},
   "outputs": [],
   "source": [
    "def scaffold(mol):\n",
    "    Chem.rdmolops.RemoveStereochemistry(mol) # get rid of stereo, doesn't matter much in scaffolds\n",
    "    try:\n",
    "        scaff = MurckoScaffold.MakeScaffoldGeneric(mol) # all atoms->C all bonds-> single\n",
    "    except ValueError: # if the structure can't be represented by C atoms, just return no scaffold.\n",
    "        # if such functionality is really desired, then generic graphs can be used instead of C\n",
    "        return None\n",
    "    scaff = MurckoScaffold.GetScaffoldForMol(scaff) # remove all sidechains\n",
    "    smile = Chem.MolToSmiles(scaff)\n",
    "    return smile"
   ]
  },
  {
   "cell_type": "code",
   "execution_count": 19,
   "id": "2cdbf8ac",
   "metadata": {
    "scrolled": true
   },
   "outputs": [
    {
     "data": {
      "text/plain": [
       "'C1CCC(C2CCCCC2CCC2CCCC2)CC1'"
      ]
     },
     "execution_count": 19,
     "metadata": {},
     "output_type": "execute_result"
    }
   ],
   "source": [
    "Chem.MolToSmiles(scaffolds[0])"
   ]
  },
  {
   "cell_type": "code",
   "execution_count": 22,
   "id": "30d106e5",
   "metadata": {},
   "outputs": [],
   "source": [
    "from collections import Counter"
   ]
  },
  {
   "cell_type": "code",
   "execution_count": 67,
   "id": "a3530b2d",
   "metadata": {},
   "outputs": [
    {
     "data": {
      "text/plain": [
       "dict_keys(['C1CCC(C2CCCCC2CCC2CCCC2)CC1', 'C1CCC(CCC2CCCC2C2CCCCC2)CC1', 'C1CCC(C2CCCCC2CC2CCCC2)CC1', 'C1CCC(CC2CCC(C3CCCCC3)C(CC3CCCCC3)C2)CC1', 'C1CCC(CCC2CC(C3CCCCC3)C(C3CCCCC3)C2)CC1', 'C1CCC(CC2CC(CC3CCC(C4CCC5CCCCC5C4)C3)C3CCCCC23)CC1', 'C1CCC(CC2CCCC2)CC1', 'C1CCC(C2CCCC2CC2CCCC2)CC1', 'C1CCC(CC2CCCC3CCCCC32)CC1', 'C1CCC(C2CCCC2CC2CCC2)CC1', 'C1CCC(C2CC(C3CCCCC3)C(C3CCCC3)C2)CC1', 'C1CCC(CC2CCC(C3CCCCC3)C(C3CCCCC3)C2)CC1', 'C1CCC(C2CC3(CCCC3)C2C2CCCCC2)CC1', 'C1CCC(C2CC(C3CCCCC3)C3CCCCCC23)CC1', 'C1CCC(CCC2CCC3CCCC3C2)C1', 'C1CCC(CCC2CCCCC2)CC1', 'C1CCC(C2CC3CCCCC3C(C3CCCCC3)C2C2CCCCC2)CC1', 'C1CCC(C2CCCC2C2CCC3CCCCC3C2)CC1', 'C1CCC(C2CC3CCCCC3CC2C2CCCCC2)CC1', 'C1CCC(CC2CCC3CCCC3C2)CC1', 'C1CCC(CC2CCCC2C2CCCCC2)CC1', 'C1CCC(C2CC(C3CCCCC3)C(C3CCCCC3)C2)CC1', 'C1CCC(CCC2CCCC3CCCCC32)CC1', 'C1CCC(C2CCCC2)CC1', 'C1CCC(C2CCCCC2C2CCCCC2)CC1', 'C1CCC2CC3C(CC2C1)CC1CCCCC13', 'C1CCC(CCC2CCCC2)CC1', 'C1CCC(CC2CCC3CCCC3C2)C1', 'C1CCC(C2CCCC2C2CCCC2)CC1', 'C1CCC(C2CC3CCCCC3C2C2CCCCC2)CC1', 'C1CCC2C(C1)CC1CCCCC12', 'C1CCC(C2CC(C3CCCCC3)C3C4CCC(C4)C23)CC1', 'C1CCC(C2CC3CCCCC3C2)CC1', 'C1CCC(CCCC2CCCCC2)CC1', 'C1CCC(C2CCCC2C2CCCCC2)CC1', 'C1CCC(CCCCCC2CC(CC3CCCCC3)C3CCCCC23)CC1', 'C1CCC(CC2CCC(C3CCCCC3)C2C2CCCCC2)CC1', 'C1CCC(C2CCCC(CCC3CC(C4CCCCC4)C(C4CCCCC4)C3)C2)CC1', 'C1CC2CCC3C(CC4CC45CC4CC4C4CC435)C2C1', 'C1CCC(CC(CC2CCCCC2)C2CCCCC2)CC1', 'C1CCC(C2CCC3CCCC3C2C2CCCCC2)CC1', 'C1CCC(CC2CCCCC2)CC1', 'C1CCC2CC3CCCC3CC2C1', 'C1CCC(CC2CCC(C3CCCCC3)CC2)CC1', 'C1CCC(C2CCCCC2)CC1', 'C1CCC(CCCC2CC(CC3CCCCC3)C3CCCCC23)CC1', 'C1CCC(C2CCC2C2CCCCC2)CC1', 'C1CCC(C2CCCC2C2CCC3CCCCC32)CC1', 'C1CCCC1', 'C1CCC(CC2CCCCC2C2CCCC2)CC1', 'C1CCC2CC3CCCCC3CCC2C1', 'C1CCC(CC2CCC3CCCCC32)CC1', 'C1CCC(CCC2CCCC(C3CCCCC3)C2)CC1', 'C1CCC(CC2CCC(CCCC3C4CCCCC4CCC4CCCCC43)CC2)CC1', 'C1CCC(C2CCCC(CCC3CCCC3)C2)CC1', 'C1CCC(CCCC2CCC3C(CCC4C5CCCCC5CCC5CCCCC54)CCC3C2)CC1', 'C1CCC(C2CC3CCCC3C2C2CCCCC2)CC1', 'C1CCC(C2CCCC2C2CCC3CCCC3C2)CC1', 'C1CCC(CCC2CC3C4CCCCC4CCC4CCCC2C43)C1', 'C1CCC(C2CCC3CCCC3C2)CC1', 'C1CCC(CC2CC(C3CCCC3)C3CCCCC23)CC1', 'C1CCC(C2CCC(C3CCCCC3)C(C3CCCCC3)C2)CC1', 'C1CCC(C2CC3(CC3)CC2C2CCCCC2)CC1', 'C1CCC(C2CCC(CCC3CC3)CC2C2CCCCC2)CC1', 'C1CCC(C2CCC(C3CC3)CC2C2CCCCC2)CC1', 'C1CCC2CC3CCCCC3CC2C1', 'C1CCC(CC2CC3CCCCC3C(CC3CCCCC3)C2)CC1', 'C1CCC(CCCC2CC(C3CCCCC3)C(C3CCCCC3)C2)CC1', 'C1CCC(CC2CCC3CCCCC3C2)CC1', 'C1CCC(CCC2CC3CCCCC3CC2C2CCCCC2)CC1', 'C1CCC(CCC2CC3C4CCCCC4CCC4CCCC2C43)CC1', 'C(CCC1CCC2CCCC2C1)CC1CC1', 'C1CCC(CC2CCCC(C3CCCCC3)C2)CC1', 'C1CCC(CC2CCC3CCCCC32)C1', 'C1CCC(C2CCCC2CC2CCC3CCCCC3C2)CC1', 'C1CCC(CC2CCCC3CC4CCCCC4C23)CC1', 'C1CCC(CCC2CCC3CCCCC32)CC1', 'C1CCC(C2CCC(CCCC3C4CCCCC4CCC4CCCCC43)CC2)CC1', 'C1CCC(C2CC3CCCC3CC2C2CCCCC2)CC1', 'C1CCC(CC2CC(CC3CCCC3)C3CCCCC23)CC1', 'C1CCC(C2CCC3CCC4CCCCC4C32)CC1', 'C1CCC(C2CCCCC2C2CCC3CCCC3C2)CC1', 'C1CCC(C2CCC3CCCCC3C2)CC1', 'C1CCC2CC(CCCC3C4CCCCC4CCC4CCCCC43)CCC2C1', 'C1CCC(C2CCCC(CCC3CCC(C4CCCCC4)C3)C2)CC1', 'C1CCC(C2CCCC2CCC2CC2)CC1', 'C1CCC2CCCCC2C1', 'C1CCC2CCCC2C1', 'C1CCC(C2CCC(CC3CCCC3)CC2C2CCCCC2)CC1', 'C1CCC(CCC2CC3C4CCCCC4CC4CCCC2C43)CC1', 'C1CCC(C2CC(C3CCCCC3)C3C4CCC(CC4)C23)CC1', 'C1CCC(CC2CCC3CC(CCC4CCC5CCCCC5C4)CCC23)CC1', 'C1CCC(CC2CC3CCCCC3CC2C2CCCCC2)CC1', 'C1CCC(C2CC(C3CCCCC3)C3CCCCC23)CC1', 'C1CCC(CC2CC3CCCC3CC2C2CCCCC2)CC1', 'C1CCC2C(C1)CCC2CCC1C2CCCCC2CCC2CCCCC21', 'C(CCCC(CC1CCCCC1)C1CCCCC1)CCC1CCCC1', 'C1CCC2CC3C(CCC4C5CCCCC5CC34)CC2C1', 'C1CCC(C2CCC(C3CCCCC3)C2)CC1', 'C1CCC(C2CCCC(C3CCCCC3)C2)CC1', 'C1CCC(C2CCCC(C3CCCCC3)C2C2CCCCC2)CC1', 'C1CCC(C2CCCCC2C2CCC3CCCCC3C2)CC1', 'C1CCC(CC2CCC(C3CCCCC3)C2)CC1', 'C1CCC(CCC2CCC3CCCCC3C2)C1', 'C1CCC(CC2CCCCC2C2CCCCC2)CC1', 'C1CCC(CCCCCC2CC(C3CCCCC3)C(C3CCCCC3)C2)CC1', 'C1CCC(C2CCC3CCC4CCCCC4C3C2)CC1', 'C1CCC(CCC2CCC(CCCC3CC(CC4CCCCC4)C4CCCCC34)CC2)CC1', 'C1CCC(C2CCCC2CC2CCC(C3CC3)CC2)CC1', 'C1CCC(C2CCCC2CC2CCC3CCCC3C2)CC1', 'C1CCC(C2CCCC2C2CC3CCCCC3C2)CC1', 'C1CCC(C2CCC3CCCC3C2)C1', 'C1CCC(CCC2CC3C4CCCCC4CC4CCCC2C43)C1', 'C1CCC(CC2CC(CC3CCC(C4CCC5CCCCC54)C3)C3CCCCC23)CC1', 'C1CCC(CC2CCC(C3CCCCC3)C(CCC3CC3)C2)CC1', 'C1CCC(CC2CCCC3CCCC32)CC1', 'C1CCC2C(C1)CCC2C1CCC(CCCC2C3CCCCC3CCC3CCCCC32)CC1', 'C1CCC2CC3CCCCC3C2CC1', 'C1CCC(CCCCCC2CCCCC2CC2CCCCC2)CC1', 'C1CCC(CCCCC2CC(CC3CCCCC3)C3CCCCC23)CC1', 'C1CCC(C2CCC3CCCC(C4CCCCC4)C3C2)CC1', 'C1CCC(CCC2CC2)C2CCCC2C2CC2CC1', 'C1CCC(CCCC2CCC3CCC(CCC4C5CCCCC5CCC5CCCCC54)C3C2)CC1', 'C1CCC(C2CC(C3CCCC3)CC2C2CCCCC2)CC1', 'C1CCC(CC2CC(C3CCCCC3)C(C3CCCCC3)C2)CC1', 'C1CCC(C2CCCC2CC2CCCC3CCCCC32)CC1', 'C1CCC(C2CCC(CC3CC3)CC2C2CCCCC2)CC1', 'C1CCCC(CC2CCCC(C3CCCCC3)C2)CCC1', 'C1CCC(CCCC2CCCC3CCCCC32)CC1', 'C1CCCC(CC2CCCC(C3CCCCC3)C2)CC1', 'C1CCC(C2CC3(CCCC3)CC2C2CCCCC2)CC1', 'C1CCC(CCC2CC3CCCCC3C2)CC1', 'C1CCCC2CC2CCCCC2CCCCC2CC1', 'C1CC2CCC(CCC3CC3)CC2C1', 'C1CCCC(CC2CC3CCCC3CC2C2CCCCC2)CC1', 'C1CCC(C2CCCC2C2CCC(C3CCCC3)CC2)CC1', 'C1CCCC(C2CCCC2C2CCCCC2)CC1', 'C1CCC(C2CCCC(CCC3CC4CCCCC4C3)C2)CC1', 'C1CCC(CC(C2CCCCC2)C2CCCCC2)CC1', 'C1CCC(C2CC(CCC3CCC4CCCC4C3)CC2C2CCCCC2)CC1', 'C1CCC(C2CC(CCC3CCCC3)CC(CC3CCCC3)C2)CC1', 'C1CCC(CCC2CCC3CCCCC3C2)CC1', 'C1CCC(C2CC3(CCC3)CC2C2CCCCC2)CC1', 'C1CCC(CCCCCC2CC(CC3CCCCC3)CC(C(C3CCCCC3)C3CCCCC3)C2)CC1', 'C(CCCCC1CCCCC1)CCCCC1CC(CC2CCCCC2)C2CCCCC12', 'C1CCC(CC2CCC(CCC3C4CCCCC4CCC4CCCCC43)CC2)CC1', 'C1CCCCC1', 'C1CCC(C2CC(C3CCC(C4CCCC4)CC3)C3CCCCC23)CC1', 'C1CCC(C2CC(C3CCCCC3)C3CCCC23)CC1', 'C1CCC(CC2CC(CCCC3CCCC3)C3CCCCC23)CC1', 'C1CCC(CCC2CCCCC2C2CCCCC2)CC1', 'C1CCC(C2CCCC(CC3CCC3)C2)CC1', 'C1CCC(CCCCC2CCCCC2)CC1', 'C1CCC(CC2CC(CC3CCC(C4CCCCC4)C3)C3CCCCC23)CC1', 'C1CC2CC3CCC(CCC4C5CCCCC5CCC5CCCCC54)C3CC2C1', 'C1CCC(CC2CCC(C3CC3)C2)CC1', 'C1CC2CCC(C3CC4CCCC4C3)CC2C1', 'C1CCC(C2CC3(CC3)CC2C2CCC3CCCC3C2)CC1', 'C1CCC(CC2CC(CCCC3CCC(C4CCCCC4)CC3)C3CCCCC23)CC1', 'C1CCC(C2CCCC(CC3CCCC3)C2)CC1', 'C1CCC(CC2CC(CC3CC3)C3CCCCC23)CC1', 'C1CCC(C2CCCCC2C2CCC(C3CC3)CC2)CC1', 'C1CCC(CCC2CCC(C3CCCCC3)C(C3CCCCC3)C2)CC1', 'C1CCC(C2CCCC2C2CCCC3CCCC32)CC1', 'C1CCC(CCCCCC2C3CCCCC3CCC3CCCCC32)CC1', 'C1CCC(CCC2CCCC3CCCCC32)C1', 'C1CCC(C2CCCC3CCCCC32)CC1', 'C(CCCCCCCCCCCC(CCCCCCCCCCC1CCCC1CCCCCCCCCCC1CCCCC1)CC1CCCCC1)CCCCCCCCCCCC1CCCC1CCCCC1CCCC1CCCC1CCCCC1', 'C(CCCCCC(CCCCCC(CCC(CCC1CCCC1)CC1CCCC1)CC1CCC2CCCCC21)CC1CCCCC1)CCCCC1CCCC1', 'C1CCCCC(CC2CCCCC2)CCC(CC2CCCCC2)CCCCCCCC(CC2CCCC2)CCC1', 'C(CCCCCC(CCCCCC(CCC(CCCCC1CCC2CCCCC2C1)CC1CCCCC1)CC1CCCCC1)CC1CCCCC1)CCCCC1CCCC1', 'C1CCCCCCCCCCCCCCCCCCCCCCCCCCCCCCCC1', 'C1CCCCCCC(CCCCC2CCCCC2)CCC(CC2CCCCC2)CCC(CC2CCC3CCCCC32)CCCCCC1', None, 'C1CCC2C(C1)CCC2C1CCCC1', '', 'C1CC2CCCC2C1', 'C1CCC(CCC2CCCC3CCCC32)CC1', 'C(CCCCCCCCCC1CCCCC1)CCCCCCCCC1CCCCC1', 'C(CCCC1CCC(C2CCCCC2)C1)CCCC1CCC(C2CCC3CCCCC32)C1', 'C1CCC(C2CCCCC2C2CCCC2)CC1', 'C(CCCC1CCC2CCCC12)CCC1CCCCC1', 'C1CCC2C(C1)CCC1C2CCC2C3CCCC3CC21', 'C(CCCCCCC1CCC2CCCCC12)CCCCCC1CCCCC1', 'C1CCC2(C1)CC1CCC2CC1', 'C1CCC(C2CCCCC3CCCCC32)CC1', 'C1CCC(CCCCC2CC2)CC1', 'C1CCC(C(CC2CCCC2)CC2CCCC2)CC1', 'C1CCC(CC2CCC(CCC3CCC4CCCCC4C3)CC2)C1', 'C1CCCCCC(CC2CCCCC2)CC(CC2CCCCC2)CCCCC1', 'C1CCC(CC2CCCC(C3CCC4CCCC4C3)C2)CC1', 'C(CCCC1CCCCC1)CCC1CCCCC1', 'C1CCC(CCC2CCC3CC4C(CCC5C6CCCCC6CC45)CC3C2)CC1', 'C1CCCCCCC(CC2CCCCC2)CC(CC2CCCCC2)CCCCC1', 'C1CCC(C(CCC2CC3CCC(C2)C32CCCC2)C2CCCCC2)CC1', 'C1CCC2CC(C3CCCC(C45CC6CC(CC(C6)C4)C5)C3)CCC2C1', 'C1CCC(CCCCC(CCC(CCC2CC2)CC2CCCCC2)CC2CCCC2)CC1', 'C1CCC(C2CCC3CCCCC32)CC1', 'C1CCC(CCCC2CCC3CCC(CC4CCCC4)C3C2)CC1', 'C1CCC2CC(C3CCC4CCCC(C5CC5)C4C3)CC2C1', 'C1CCC(CCC(CCC2CCCCC2)CCC2CCC3CCCCC3C2)CC1', 'C1CCC(CCCCC2CCC(CCCCC3CCCC3)CC2)CC1', 'C1CCC2C(C1)CCC1C3CCCC3CCC21', 'C1CCC(CC2CCC(CCCC(CCC3CCC4CCCCC43)CC3CCCCC3)CC2)CC1', 'C1CCC2(CC1)CCCC2', 'C1CCC(CCCC2CC3CC(CCC4CCCC4)CCC23)C1', 'C1CCC2C(C1)CCC1CCCCC1C2C1CC1', 'C1CCC(CCCC(CC2CCCC2)C2CCCCC2)CC1', 'C1CCC(CCCCC2CCC(CCCC3CCCCC3)CC2)CC1', 'C1CCC(C(CC2CC3CCC(C3)C2)C2CCCCC2)CC1', 'C1CC2CCC(CCC3CCC(C4CCC5CCCCC54)CC3)CC2C1', 'C1CCC2C(C1)CC1CCC3CCCC2C31', 'C1CCC(C2CCC(CCC3CCC(CC4CCCC4)(C4CCCCC4)C3)CC2)CC1', 'C1CCC(C2(C3CCCCC3)CCCC2)CC1', 'C1CCC2CC3CC4CCCCC4CC3CC2C1', 'C1CCC(C(C2CCCCC2)(C2CCCCC2)C2CCCC2)CC1', 'C1CCC2CC(CC3CCC4CCCCC4C3)CCC2C1', 'C1CCC(C2CCCC3CCCC32)CC1', 'C1CC2CCC3CCCC3C2C1', 'C1CCC(CCC2CCC3CCC3C2)C1', 'C1CCC(CC2CCC(C3CCCCC3C3CCCC3)CC2)C1', 'C1CCC(CC2C3CCCCC3CC3CCCCC32)CC1', 'C1CCC(CCCCC2CCCC3CCCCC23)CC1', 'C1CCC(C(CCCC2CCCC2)C2CCCCC2)CC1', 'C1CCC(CC2CCC(CC3CCC(CC4CCCCC4)CC3)CC2)CC1', 'C1CCC(CCCCCC2CCCC2)CC1', 'C1CCC2C(C1)CCC1C2CCC2C3CC4(CCCC4)CC3CC21', 'C(CCCCCCC(CCC1CCCCC1)C(CC1CCCCC1CC1CCCCC1)C1CCCC1)CCCCCC1CCC(C2CCCC2)C1', 'C1CC2CC3CCCC45C(CCCC34)CC(C1)C25', 'C1CCC(C2CCC(CCC3CCC4CCCCC43)CC2)CC1', 'C1CCC(C2CCCC2CCC2CC3CCCC32)CC1', 'C1CCC(CCC2CCC(CC3CC4CCC4C3)C2)CC1', 'C1CCC2C(C1)CC1C3CC3CC21', 'C1CC2CCC3C4CCCCC4CC3C(C3CCC4CC5CCC6CCCC7CCC5(C4C3)C67)CC(C1)C2', 'C1CCCCCCCC(C2CCCCC2)CCCCCCC1.C1CCCCCCCC(C2CCCCC2)CCCCCCC1', 'C1CCC(CCCCC2CCC3CCCC(CC4CCCCC4)C3C2)CC1', 'C1CCC(CCC(CCC2CC3CCCC32)C2CCCCC2)CC1', 'C1CCC(CC2CC3CCCC3C3CC(CCC4CCC5CC6CCC7CCCC(C5C4)C76)CC23)CC1', 'C1CCC(CCCC2CC3CCC(C2)C3)CC1', 'C1CCC(C2CC3CCCCC3CC3CCCC32)CC1', 'C1CCCCCC(CCC2CCCCC2)CCC2CCCCC2CCC2CCCC(CCCCC1)C2', 'C1CCC(C(C2CCCCC2)C2CCCCC2)CC1', 'C1CCC(CCCCC2CCC(C(C3CCCCC3)C3CCCCC3)CC2)CC1', 'C1CCC(C2CCCC3CCCCC3C2)CC1', 'C(CCCC1CCC2CCCCC2C1)CCC1CCCC1', 'C1CCC(CC2CCC(C(C3CCCCC3)C3CCCCC3)CC2)CC1', 'C1CCC(CCCC2CCC2)C1', 'C1CC2CC(C1)CC1C3CCCCC3CC1C(C1CCC3CC4CCC5CCCC6CCC4(C3C1)C56)C2', 'C1CCC(CCC2CCCCC3CCCC3CCCCCC(CCC3CCC(C4CCC(C5CCCCC5)CC4)CC3)CCCCC3CCCC3CC2)CC1', 'C1CCC(C2CC3CCCCC3CC3CCCCC32)CC1', 'C1CCC(C2CCC3CCCC(C4CC4)C3C2)CC1', 'C1CCC2C(C1)CC1CCCCC1C1CCCCC21', 'C1CCC(CCCC2C3CCCCC3CC3CCCCC32)CC1', 'C1CC1', 'C1CCC(CCC(C2CCCCC2)C2CCCCC2)CC1', 'C1CC2CCCC3CC(C4CC5CCC4CC5)CC(C1)C23', 'C1CCC(CCCC(C2CCCCC2)C2CCCCC2)CC1', 'C1CCC(CC2CCCC3CC4CC5CCCCC5CC4CC23)CC1', 'C1CCC(C(CCC2CCCC2)C2CCCCC2)CC1', 'C1CCC(CC2CCC(CC3CCC(CC4CCC5C(CCC6C5CCC5C(C7CCCC7)CCC56)C4)CC3)CC2)CC1', 'C1CCC(CCCC2CCCC2)CC1', 'C1CCC(CCCC2CCC(CC3CCCCC3)CC2)CC1', 'C1CCC2(CC1)CC1CCCCC1C2', 'C1CCC(CCC2C3CCCCC3CC2C2CCCCC2)CC1', 'C(CCCCCC(CCCCCCCCC(CCCCCCCCC1CCCC1)CC1CCCCC1)CC1CCC2CCCCC21)CCCCC1CCCCC1', 'C1CCC(C2CCC3CCCC3C3CCCCC23)CC1', 'C1CCC(CC2CC2)CC1', 'C1CCC(CCCCC2CCC(CC3CCCC3)CC2)CC1', 'C1CCC(CCCC2CC3CCCC23)CC1', 'C1CC2CC(C1)CC1CCCC3CCCC(CC4CCC(CC4)CC4CCCC5CCC(C2)CC54)C31', 'C1CCC(CCCCC2CC3CCCC23)CC1', 'C1CCC2C(C1)CCC1C2CCC2C1CCC21CCCC1', 'C1CCC(CCC(CCC2CC3CC(CCC4CCCC4)CCC23)C2CCCCC2)CC1', 'C1CCC(C2C3CCCCC3CCC3CCCCC32)CC1', 'C1CCC(CC2CCC3C(CCCC4CCCC4)CC3C2)CC1', 'C1CCC(C2C3CCCC3C(CC3CCC4CC(C5CCCC5)CCC4C3)C3CC4CCCC4CC32)CC1', 'C1CCC(CCCC2CC3CCCCC32)CC1', 'C1CCC(CCCCC2CCC(C3CCC4CCCCC43)CC2)CC1', 'C1CCC(CC2CCC(CC3CCCCC3CC3CCCCC3)C2)CC1', 'C1CCC(CCCC2CC3CCCCC32)C1', 'C1CCC(CC2CCC(C3CCC4CCCCC4C3)CC2)C1', 'C1CCC2C3CC4CCC(CC5CCC(C5)CC5CCC(C5)CC(C3)C2C1)C4', 'C1CCC(CCCC2CC3CC(C2)C2CC32)CC1', 'C1CCC(CC2CCC3CCCC32)CC1', 'C1CC2CC1C1CCC34CC3CC2C14.C1CC2CC1C1CCC34CC3CC2C14', 'C1CCC2C(C1)CCCC2CC1CC2CCC1CC2', 'C1CCC(CCC2CCC3CCCC3C2)CC1', 'C1CCC2C(C1)CCC1CCCCC12', 'C1CCC(CCC(CCC2CC2)C2CCCC(CCC3CCC4CCCCC4C3)C2)CC1', 'C1CCC(CCCCCC2CCCCC2)CC1', 'C1C2CC3CC1CC(C2)C3', 'C1CCC(CC2CCCC(CC3CCCCC3)C2)CC1', 'C1CCC(CCCC2CCC(CC3C4CCCCC4CC3C3CCCCC3)CC2)CC1', 'C1CCC(CC2CCC3CCCCC3C2)C1', 'C1CCC(C2CCC(CCCCC3CCC4(CCCC4)CC3)CC2)CC1', 'C(CCCC1CCCCC1)CCCC1CCC(C2CCCCC2)C1', 'C1CCC(C(C2CCCCC2)C2CCC(CCC3CCC4CCCC4C3)C2)CC1', 'C1CCC(CCCCC2CCC(C3CCCCC3)CC2)CC1', 'C(CCCC1CCCC1)CCCC(CCC(CCCCC1CCCC1)CC1CCCCC1)CC1CCCCC1', 'C1CCC2C(C1)CC1CCCC23CCCCC13', 'C1CCCC2CCC(CC2)CC2CC3CC(CC4CCC(CC4)CC4CCCC5CCCCC5C5CCCC(C5)C(CC4)CCC3CCC1)C2CC1CCCCC1CC1CCCCC1', 'C1CC2CCC(C1)C2', 'C(CCCC1CCC2CCCCC12)CCC1CCCCC1', 'C1CCCCCC2CCCC2CCC(CCC2CCCCC2)CCCCC2CCCC2CCCC1', 'C1CCC(CCC(CCC2CCCCC2)CC2CCCCC2)CC1', 'C1CCC(CCCC2CCC3CCCCC3C2)CC1', 'C1CCC2CC3(CCCC3)CC2C1', 'C(CCCC1CCCCC1C1CCCCC1)CCCC(C1CCCCC1)C1CCCCC1', 'C1CCC(CCCCC2CCC3CCCCC3CC2)CC1', 'C1CCC(CCCC2CCC(CC3CCC4CCC(CCCC5CCCC5)CC43)CC2)CC1', 'C1CCC2CCC(C3CCCC3)C2CC1', 'C1CCC(CCC2CC(C3CCCCC3)CCC2CC2CCCCC2)CC1', 'C1CCC(CCC2CCCC2(C2CCCCC2)C2CCCCC2)CC1', 'C(CCCCCCC1CCC2CCCCC2C1CC1CCCCC1)CCCCCCC1CCC2CCCCC2C1CC1CCCCC1.C1CCCCC1.C1CCCCC1', 'C1CCC(CCCC2CCC(C(C3CCCCC3)C3CCCCC3)CC2)CC1', 'C1CCC(CC2CCC(CC3CCC(CC4CCC(CC5CCCCC5)CC4)CC3)CC2)CC1', 'C1CCC(C2C3CCCCC3C3CCCC32)CC1', 'C1CCC(CC(CC2CCCC2)C2CCCCC2)CC1', 'C(CCCC1CCCC1)CCC1CCCCC1', 'C1CCC(CCC2CCC(C3CCC3)C2)CC1', 'C1CCC2CC(CC3CCC(C4CCC5CCCCC5C4)CC3)CCC2C1', 'C1CCCCCCCCCCC1', 'C1CCC(C2CCC(C3CCCC3)CC2)CC1', 'C1CCC(CC2CCC(CC3CCCCC4CCC5CCCC(CCC6CC(CCC3)CC3(CCCCC3)C6)C45)CC2)CC1.C1CCC(CC2CCC(CC3CCCCC4CCC5CCCC(CCC6CC(CCC3)CC3(CCCCC3)C6)C45)CC2)CC1', 'C1CCC(CCCCC2CCC(CCC3CCCCC3)CC2)CC1', 'C1CCC2CC(C3CC4CCC3C4)CCC2C1', 'C1CCC2C(C1)CCCC2CCC1CC2CCCC21', 'C1CC(CC2CCC34CCCCC3C2CC2CCCCC24)C1', 'C1CCC(CCC2CCCC2)C1', 'C1CCCCCCCCC2CC3CCC4CC(CCCCCCCC1)C1CC5(CCCCC5)CC1C4C3C2', 'C1CCC(CCC2(CCCCC3CCC4CCCC4C3)CCCC2)CC1', 'C1CCC(CC2CCC(CCC3CCCC(CC4CCCC(C5CCCCC5)C4)C3)CC2)CC1', 'C(CCCC1CCCCC1C1CCCCC1)CCC1CCCCC1', 'C1CCC2C(C1)CCCC2CCC1CC1', 'C1CCCCCCC(CC2CCCC2)CCC(CC2CCCCC2)CCCCCCCCC(CCCCCCCCCCCC2CCCC2)CCCCC1', 'C1CCC(CCC2CCC(CC3CC4CCCCC4C3CC3CCCCC3)CC2)CC1', 'C1CCC(CC2(CCC3(CCC4(CCC5(CCC6(CCC7(CCC8(CCC9(CCC%10(CCC%11(CCC%12(CCC%13(CCC%14(CCC%15(CCC%16(CCC%17(CCC%18(CCC%19(CCC%20(CCC%21(CCC%22(CCC%23(CCC%24(CCC%25(CCC%26(CCC%27(CCC%28(CCC%29(CCC%30(CCC%31(CCC%32(CCC%33(CCC%34(CCC%35(CCC%36(CCC%37(CCC%38CCCC%38)CCCC%37)CCCC%36)CCCC%35)CCCC%34)CCCC%33)CCCC%32)CCCC%31)CCCC%30)CCCC%29)CCCC%28)CCCC%27)CCCC%26)CCCC%25)CCCC%24)CCCC%23)CCCC%22)CCCC%21)CCCC%20)CCCC%19)CCCC%18)CCCC%17)CCCC%16)CCCC%15)CCCC%14)CCCC%13)CCCC%12)CCCC%11)CCCC%10)CCCC9)CCCC8)CCCC7)CCCC6)CCCC5)CCCC4)CCCC3)CCCC2)CC1', 'C1CCC(CCC(CC2CCCCC2)CC2CCCC2)CC1', 'C1CCCCCCCCCCCCCCCCCCC(CC2CCCCC2)CCCCCCCCCCCCCCCCCC1', 'C1CCC2C(C1)CC1CCCC2C1', 'C1CCC(C2CCC(CCCC3CC4CCCCC4C3)CC2)CC1', 'C1CC2CCC1C2', 'C(CCCC1CCCCC1)CCCC1CCCCC1', 'C(CCCC1CCCC1)CCCC(CCC(CCCCCC(CCC(CCC1CCCC1)CC1CCCC1)CC1CCC2CCCCC21)CC1CCCCC1)CC1CCC2CCCCC2C1', 'C1CCC(CCC2C3CCCCC3CCC3CCCCC32)CC1', 'C1CCC(CCC2CCCC(CC3CCCC3)C2C2CCCCC2)CC1', 'C1CCC23CCCCC2CC2CCCC(C1)C23', 'C1CCC(CCC2C3CCCCC3CC3CCCCC32)CC1', 'C1CCCCCCCCCCCCCCCC2CCCC(C2)CC(CC2CCCCC2)CCCCCCCCCCCCCCC1', 'C1CCC(C2CCCC3CCC(C4CC5CC5C4)CC32)CC1', 'C(CCCCC1CCCCC1)CCCCC1CCC2CCCC2C1', 'C(CCCC1CCC2CCCCC2C1)CCC1CCCCC1', 'C1CCC(C(CC2CCCC2)C2CCCCC2)CC1', 'C1CCC2C(C1)CCC21C2CCCCC2CC2CCCCC21', 'C1CCC(CC2CCCC3CCCC32)C1', 'C1CCC(CCCC2CCC3CC4CCC5CCCC(C3C2)C54)CC1', 'C1CCC2C(C1)CCC1C3CCC4(CCCC4)C3CC3CC321', 'C1CCC(CCCCC(CCCC2CCCC2)CC2CCCCC2)CC1', 'C1CC2CC3C(CC4CC4)CCC45C(CCCC34)CC(C1)C25', 'C1CCC(C2CCC(CC3CC4CCCCC4C3)CC2)CC1', 'C(CCC1CC2CC3CCC(CC4CCC(C4)CC4CCC(C4)CC1C2)C3)CCC1CC2CC3CCC(C3)CC3CC(CC4CCC(C4)CC1C2)CC3CCCC1CC2CC3CCC(CC4CCC(C4)CC4CCC(C4)CC1C2)C3', 'C1CCC(CC2CCC(CCC3CCCC3)CC2)CC1', 'C1CCC2C(C1)CC1CCCC3CCCC2C31', 'C1CCC(C2CCCCC2CCC2CCC3CCCC3C2)CC1', 'C1CCC2C(C1)CCC1CCCC12', 'C1CCC(C2CCC3CCC4C5CC(C6CCCC6)CC5CCC4C3C2)CC1', 'C1CCC(C2CC3CCCCC3C2)C1', 'C1CCC2CC(CCC3CCC(C4CCC5CCCCC54)CC3)CCC2C1', 'C1CCC(CCCCCC2CCCC3CCCCC23)CC1', 'C1CCC(C2CCC(C3CC4CCCC43)C2)CC1', 'C1CCC2C(C1)CC1CCCCC1C1CCCC21', 'C1CCC(C2CC2)CC1', 'C1CCC2C(C1)CCC2CCC1CC2CC3CCC2C(C1)C3', 'C1CCC(CC2CC3CCC3C2)C1', 'C1CCC(C2CCC(CCC3CCC4CC5C(CC4C3)CC3CC4CCCCC4CC35)CC2)CC1', 'C1CC2CCC2C1', 'C1CCC(C(CCC2CC3CCC2CC3)C2CCCCC2)CC1', 'C1CCC(C2C3CCCC3C(CC3CCC4CCCCC4C3)C3CC4CCCC4CC32)CC1', 'C1CCCCCCCCCCCC(CC2CCCCC2)CCCCCCCCCC1', 'C1CCC(CCC2CCC(CCC3CCCCC3)CC2)CC1', 'C1CCC2C(C1)CCC2CC1CCC(C2CCCCC2C2CCCC2)CC1', 'C1CCCCCCCCCCCCCCCCCCCCCC1', 'C1CCC(CCCC2CCC(C3CCCCC3)CC2)CC1', 'C1CCC(CCC(C2CCCCC2)C2CC3CCC2C3)CC1', 'C1CCC(C2CCCC2)C1', 'C1CCC(CCC2CCC(CC3CCCCC3)CC2)CC1', 'C1CC2CCC(C3C4CCCCC4CC4C5CCCCC5CC43)CC2C1', 'C1CCCCCCCC2CC2CCCC2CCCC(C2)CC(CC2CCCCC2)CCCCCC1', 'C1CCC(C2CC3CCCC3C3CCC4CCCCC4C23)CC1', 'C1CCC(C2CCC(CCC(C3CCCCC3)C3CCCCC3)CC2)CC1', 'C1CCCC(CCCCC2CCCCC2)CC1', 'C1CCC(CC2CCC(CC3CC4CCCCC4C3)CC2)CC1', 'C1CC(CC2CCC34C5CCCC3C2CC2CCCC(C5)C24)C1', 'C1CCC(CC2CCC3C(C2)CC2CCCCC2C3C2CCCCC2)CC1', 'C1CCC(C2CC3CCCC3C2)CC1', 'C1CCC(C2CCCCC2CCC2CCC(CC3CCC4CCCC4C4CCCCC34)CC2)CC1', 'C1CCC(CC2CCCC2CCCC2CCCC2)CC1', 'C1CCCCCCCCCC(CCC2CCCCC2)CCC2CCCCC2CCC2CCCC(CCCCCCCCC1)C2', 'C(CCCCCCCCC1CCCCC1)CCCCCCCC1CCCCC1', 'C1CCC2CC(C3CCCC3)CCC2C1', 'C1CCC(CCCCC2CCCC3CCCCC3C2)CC1', 'C1CC2CC(C1)CC(CCC1CCC3CCCCC31)C2', 'C1CCC2C(C1)CCC1C3CCCCC3CCC21', 'C1CCC(CCCCC2CCCC2)CC1', 'C1CCC(CCC2CCCCC2CCC2CCCCC2)CC1', 'C1CCC(CC2C3CCCCC3CC3CCCCC32)C1', 'C1CCC(CC2CCC3CC4CCCCC4C3C2)C1', 'C1CCC(CCCC(C2CCCC2)C2CCCC2)CC1', 'C1CCC(CCC2CC3CCC(C2)C3)CC1', 'C1CCC(CCCCC2CCCCC2C2CCCCC2)CC1', 'C1CCC(CCC2CCC(C3CCCCC3)CC2)CC1', 'C1CCC(C2C3CCCCC3CCC3CCCC32)CC1', 'C1CC2CC3C(CC4CC4)CCC45C(CC(C1)C24)C1CCC35CC1', 'C1CCC(CCCC2CC3CC(CCC4CCCC4)CCC23)CC1', 'C1CCC(CCC2CCC(CC3CCCC(CCC4CCCCC4)C3)CC2)CC1', 'C1CCC2C(C1)C1CCC2C2CCCCC21', 'C(CCCCCCCC1CCCCC1)CCCCCCC1CCCCC1', 'C(CCCCC1C2CCCCC2C2CCCCC12)CCCC1C2CCCCC2C2CCCCC12', 'C1CCC(CCC(C2CCCCC2)C2CCCC2)CC1', 'C1CCC(C(CCC2CCCC2)CCC2CC3CCCC32)CC1', 'C1CCC(CC2CCCCCC3CCCC(CCCC(CC4CCCCC4)C2)C3)CC1', 'C1CCC2(CC1)CCC2', 'C1CCC(C2CCC(CC3CCC4CCC(C5CC6CCCCC6C5)CC43)CC2)CC1', 'C1CCCCC(CCC2CCCC3CC4CCCC(CCC5CCCCCCCCCC6CCCC6CCCC5)C4CC23)CCCCC2CCCC2CCCC1', 'C1CCC(CC2CC(C3CCCCCC3)CC3CCCCC32)CC1', 'C1CCC(CCCC2CC(C3CCCCC3)C2C2CCCCC2)CC1', 'C1CCC(C2CCCC3C(C4CCCCC4)CCCC23)CC1', 'C1CCCC2CCC(CCCCC3CCC(C4CCCCC4)C3)C2CCCCCC(CC2CCCCC2)CC1', 'C1CCC2C(C1)CC1CCCC12', 'C1CCC(CCCCC2CCC3C2CCC2C4CCCCC4CCC32)CC1', 'C1CCC(CC2CCCCC2)CC1.C1CCC2CCCC2C1', 'C1CCC(C(CCC2CCCC2)C2CCCC2)CC1', 'C1CCC(CCC2CC3CCCC32)CC1', 'C(CCC1CCCC2CCCCC12)CCC1CCCC2CCCCC12', 'C1CCC(C(C2CCCCC2)C2CCCC2)CC1', 'C1CCC(C(CCC2CCCC2)CC2CCCC2)CC1', 'C1CCC(CCCCC2CCC(CCCCC3CCCCC3)CC2)CC1', 'C1CCC(C2CCCCC2C2CCC(CC3CCC4(CCCC4)C3)CC2)C1', 'C1CCC2CC3C(CC2C1)CC1CC2CCCCC2CC13', 'C1CCCCCCCCC2CC3CCC4CC(CCCCCCCC1)C(CCC1CCCCC1)CC4C3C2', 'C1CCC(C2CCC3C(CC4CC4)CCCC23)C1', 'C1CC2CCC3CC(CCC4CCC5CC6CCC7CCCC(C5C4)C76)CC3C2C1', 'C1CCC(CCC2CCC3CC(CC4CCCCC4)CCC3C2)CC1', 'C1CCC(CC2CCC3CCC4CCCCC4C3C2)CC1', 'C1CCC2C(C1)CC1CCCCC1C2CC1CC2CCC1CC2', 'C(CCCC1CCC(C2CCCCC2)CC1)CCC1CCCCC1', 'C1CCC(CCC2CCC(C3CCCCC3)C2C2CCCCC2)CC1', 'C1CCC(CC2CCC(CC3CCC(CC4CCC(CC5CCC6C(CCC7C6CCC6C(C8CCCC8)CCC67)C5)CC4)CC3)CC2)CC1', 'C1CCC(CC2CCCC2CC2CCCCC2)CC1', 'C1CCC1', 'C1CCCC(C2CC3CCCCC3C2)CC1', 'C1CCC(CC2CCCC2)C1', 'C(CCC1CCCC1)CCC1CCCC1', 'C1CCC(CC2CCC3C(CCC4C3CCC3C(C5CCCC5)CCC34)C2)CC1', 'C1CCC(C(CCCC2CCC(C3CCC4CCCCC43)CC2)C2CCCCC2)CC1', 'C1CCC(C2CCC2)CC1', 'C1CCC(C2CCC(C3CCC(C4CCCCC4)CC3)CC2)CC1', 'C1CC2CCC3C(CCC45CC4CCCC35)C2C1', 'C1CCC(CCC(CC2CCCC2)C2CCCCC2)CC1', 'C1CCC(CC2CC(CC3CCCCC3)C3C4CCCC4CC23)CC1', 'C1CCC(C2CCC(C3CCC4CCCCC4C3)CC2)CC1', 'C1CCC(CCCCC2CC3CCCC3C2)CC1', 'C(CCCCCCC1CCCCC1)CCCCCC1CCCCC1', 'C1CCC(CCC2CCC3C2CCC2C4CCCCC4CCC32)CC1', 'C1CCC(CCCC2CCC(CC3CCCC3)CC2)CC1', 'C(CCCCCCC1CCC2CCCCC2C1CC1CCCCC1)CCCCCC1CCC2CCCCC2C1CC1CCCCC1', 'C(CCCCC1CCCC2CC3CCCCC3C12)CCCC1CCCCC1', 'C1CCC(C2CCC3CCCC4CCCC2C43)CC1', 'C1CCC(CCCCC2CC3CCCCC23)CC1', 'C1CCC(CCC2CCCCC3CCCC3CCCCCC(CCC3CCC(C4CCC(C5CCCCC5)C4)CC3)CCCCC3CCCC3CC2)CC1', 'C1CCC(CCCCC2CCCC3CCC(C4CCCCC4)CC23)CC1', 'C1CCC(CCCC2CCC(CCCC3CCC(C4CCCCC4)CC3)C2)CC1', 'C1CCCCCCCC(CCCCCCC2CCCCC2)CCCCCCCCCCCCCCCC(CC2CCCCC2)CC2CCCC(CCCCCCC1)C2', 'C1CCC(C(CCC2CCC3CCCCC32)CC2CCCC2)CC1', 'C1CCC(C2CCC3CCCC(C4CC4)C3C2)C1', 'C1CCCC(CCC2CC3CCCC32)CC1', 'C1CCC(C2CCCC2CCCCCC2CCC3CCCCC3C2)CC1', 'C1CCC(C2(CC3CCCC3)CCC(CCC3CCC(C4CCC(C5CCC(C6CCCC6)CC5)CC4)CC3)C2)CC1', 'C1CCCCCCC1', 'C1CCC(C2C3CCCC3CC3CC4CCCC4CC32)CC1', 'C1CCC(CCCCC2CCC3CC4C(CCC5C6CCCCC6CC45)CC3C2)CC1', 'C1CCC2C(C1)CCC2CCCC1CCC(C2CCC3CCCCC32)CC1', 'C1CCCCCCCCC2CC3CCC4CC(CCCCCCCC1)C(CCC1CCC(C5CCCC5)CC1)CC4C3C2', 'C1CCC2C(C1)CCCC1CCCC12', 'C1CCC2CC(CC1)C1CCCCC1C2', 'C1CCC(CCC2CCC3C(CCCC4CCCC4)CC3C2)CC1', 'C1CCC(C2CCC(CCC3CCCC3)C2)CC1', 'C1CCCCCCCCC2CC3CCC4CC(CCCCCCCC1)C1C5CCCCC5CC1C4C3C2', 'C1CCC2CCCC2C1.C1CCC2CCCC2C1', 'C(CCCCCCCCC1CCC2CCCCC2C1CC1CCCCC1)CCCCCCCC1CCC2CCCCC2C1CC1CCCCC1', 'C1CCC(CCC(CCCC2CC3CCC4CCC5CCC5C4C(CCC4CCCCC4)C(C2)C3)C2CCCCC2)CC1', 'C1CCC(CC(CCCCCC2CCC3CCCCC3C2)CCC2CCC3CCCCC3C2)CC1', 'C(CCC1CCC(C2CCCCC2)CC1)CCC1CCC2CCCCC2C1', 'C1CCC(CC(CCC2CCCC2)C2CCCCC2)CC1', 'C1CCC(CCCCC2CC3CCC4CCC5CCC5C4C(CCC4CCCCC4)C(C2)C3)CC1', 'C1CCC(CCCCC2CCC(CCC3CCC4CCCCC4C3)CC2)CC1', 'C1CCC(CCCCC2CC3CCCCC3C2)CC1', 'C1CCC(CCC2CCC(CC3CCCC(C4CCCCC4)C3)C2)CC1', 'C(CCC1CCCCC23CCCC1C2CCC3)CC1CC2CCC(C1)C2', 'C1CCC(CCC2CCC(CC3CCCC4CCC(C5CCCC5)CC43)CC2)CC1', 'C1CCC(CCCCC2CCC3CCCC3C2)CC1', 'C1CCC(CCCCC(CCCC2CCC3CCCC23)CC2CCCCC2)CC1', 'C1CCC2CC3C4CCCC(C4)C3CC2C1', 'C1CCCCCC(CC2CCCCC2)CCCCCCCC(CC2CCCC2)CCCCC1', 'C(CCCCCCCCCC1CCCC1CCCCCCCCCCCC(CC1CCCCC1)CC1CCCC1)CCCCCCCCCC1CCCC1CCCCCCCC(CCCCCC(CCC(CCCCCCCCCCCCCC1CCCCC1)CC1CCCC1)CC1CCCCC1)CC1CCC2CCCCC21', 'C1CCCC(CCCCC2CCC(CCCCC3CCCC3)CC2)CC1', 'C1CCC(CCCC2CCC3CC4CC5CCCCC5CC4CC3C2)C1', 'C1CCCCCCCC(CC2CCC(CC3CCCCC3)CC2)CCCCCCC1', 'C1CCC(CCC2CCC3C(CCC4CCC4)CC3C2)C1', 'C1CCC(C2CCC3CCC4C5CC(C6CCCCC6)CC5CCC4C3C2)CC1', 'C1CCC(C2CCCCC2)CC1.C1CCC2C(C1)CCCC2CC1CC2CCC1CC2', 'C1CCC(C2CC3CCC(CC4CCC(C5CC5)C4)CC3C2)CC1', 'C(CCCC1CCC2(CCCC2)C1)CCC1CCCCC1', 'C1CCC2C(C1)CCCC2CC1CCC(C2CCCCC2C2CCCC2)CC1', 'C1CCCC(C2CCCCC2)CC1', 'C1CCCCC2(CCC(CC3CCCCC3)CC(CC3CCCCC3)CCC1)CC2', 'C1CCC(CCC2CCCCC3CCCC3CCC(CC3CCCCC3)CC3CC(CCC4CC5CCC4CC5)CCC3CCC(C3CCCCC3)CCC2)CC1', 'C(CCCC1CC2CCCCC2C1)CCC1CCC2CCCCC2C1', 'C1CCC2CCCC3CCCCC3C2CC1', 'C1CCC2C(C1)C1CC1C1C2CCC2C1C1CC1C21CCCC1', 'C1CCCCC1.C1CCCCC1', 'C1CCCCC1.C1CCCCC1.C1CCCCC1', 'C1CC2CC3CCC4C5CCCC5CCC4C3CC2C1', 'C1CCC(C(CCC2CC3CC(C2)C2CC32)C2CCCC2)C1', 'C1CCC(C2CC3CC4C(CCC5C6CCCCC6CCC54)C3C2)CC1', 'C1CCC(CCCCCC2CCC(CCC3CCCC4CCC(C5CCCC5)CC34)CC2)CC1', 'C1CCC(CCCC2CC3CC(CC4CCCC4)CCC23)C1', 'C1CCC2CCC2C1', 'C1CCC(C2CCC(CCCCC3CCCCC3CC3CCCC4CCCCC43)CC2)CC1', 'C1CCC(CCCC2CCC3CCCC3C2)C1', 'C1CCC2C(C1)CC1C3CC4CCC3C3CC21CC43', 'C1CCC(CC2CC3CCCCC3C2)CC1', 'C1CCC(C2CCC(C(C3CCCCC3)C3CCCCC3)CC2)CC1', 'C1CC2CC3CCCC45C(CC(C1)C24)C1CCC35CC1', 'C1CCC(C(CCC2CCC(C3CCC4CCCCC43)CC2)C2CCCCC2)CC1', 'C1CCC(C2CC3CCC2C3)CC1', 'C1CCC(C2CCC(CCCCC3CCCC3)CC2)CC1', 'C1CCC(C23CCCC2CCCC2CCCCC23)CC1', 'C1CCC(CCCCCC2CCC3CCCCC23)CC1', 'C1CCC(C2(C3CCCC3)CCCCC2)CC1', 'C1CCC(CCC(CC2CCCC2)(C2CCCCC2)C2CCCCC2)CC1', 'C1CCC(C2CCCCC3CCCC32)CC1', 'C1CCC(CCC2CCC3CC4CCCC56C(CCCC45)CC2C36)CC1', 'C1CCC(CC2CCCCC2)CC1.C1CCC(CC2CCCCC2)CC1', 'C1CCC(C23CCCCC2CCCC2CCCCC23)CC1', 'C1CCC(C2CCCC(CC3CC3)C3CCCCC23)CC1', 'C1CCC(C2C(CCC3CC4CCC3CC4)CCC3CCCCC32)CC1', 'C1CCC(CCCCC(CCC(CCCC2CCCCC2)CC2CCCCC2)CC2CCCCC2)CC1', 'C1CCC(CCCC2CC3CCCC23)C1', 'C1CCC(C2C3CCCCC3C3CCCCC32)CC1', 'C1CCC(CC2CCC(CC3CCCCC3)CC2)CC1', 'C1CC2CC1CC1CCC(C1)CC1CCC(C1)CC1CCC(C1)C2', 'C1CCC(CC2CCCCC2CC2CCC(C3CCCCC3)CC2)CC1', 'C(CCCCC1CCC(C2CCC3CCCCC32)C1)CCCCC1CCC(C2CCC3CCCCC32)C1', 'C(CCCCCCCCCC1CCCCC1)CCCCCCCCCC1CCC(C2CCC3CCCCC32)C1', 'C1CCC(CCC2CCCC(CCC3CC3)C2)CC1', 'C1CCC(CC2CC2C2CCCCC2)CC1', 'C1CCC(C2CCC3C(CCC3C3CCCC3)C2)C1', 'C1CCC2CC3C(CCC4CCCC43)CC2C1', 'C1CCCCCCCCC2CCC(C2)CC2CCCC2CCCCCCCC1', 'C(CCCC1CCC(C2CCCCC2)C1)CCC1CCCCC1', 'C1CCC(CCCCC2CCCCC(CC3CCC(C4CCCCC4)CC3)C2)CC1', 'C(CCCC1CCCCC1)CCCC(CCCCCC1CCCCC1)C1CCCCC1', 'C(CCC1CCC2CCCCC2C1)CCC1CCC2CCCCC12', 'C1CCC(CCC2CCCC(CC3CC4CCCCC4CC3C3CCCCC3)C2)CC1', 'C1CC2CC3CCC4CC5CCC6CC7CCC8CC1C2C(C87)(C34)C65', 'C1CCC(CCCCC2CCCCC2CC2CCCCC2)CC1', 'C(CCCCCCC1CCC(C2CCC3CCCCC32)C1)CCCCCCC1CCC(C2CCC3CCCCC32)C1', 'C1CCC(CCCCC2CCC(CC3CCCCC3)CC2)CC1', 'C1CCC(CC(CCCC2CCC(CC3CCC4CCCC4C3)CC2)CCC2CCC3CCCCC32)CC1', 'C1CCC(CCC2CCCCC2CCC(CCC2CCCCC2)C2CCCCC2)CC1', 'C1CCC(CCC2CCC(CCC3CCCCC3)C(CC3CCCCC3)CC2CC2CCCCC2)CC1', 'C1CCC(C2CCCC(C3CC4CCCCC4C3)C2)CC1', 'C1CCCCCCCC(CCCCCCCCCCCCCCC2CCCC3CCC4CCCCC4C23)CCCCCCC1', 'C1CCC(CC(CCC2CCC3CCCCC3C2)CC2CCCCC2)CC1', 'C1CCC(CCC2CCCC(C3CC(C4CCCCC4)CC3C3CCCCC3)C2)CC1', 'C1CCC2C(C1)CCC1CC3CCCCC3C12', 'C1CCC2CC(CC3CC4CCCCC4C3)CC2C1', 'C1CCC(CC2CCCC(C3CC4CCCCC4C3)C2)C1', 'C(CCCCCC1CCCCC1)CCCCC1CCCCC1', 'C(CCCC1CCC(C2CCC3CCCCC32)C1)CCC1CCCCC1', 'C1CCC(CC2CCC3CCCC3CC3CCCC23)CC1', 'C1CCC2C(C1)CC1CCCC3CCC2C31', 'C1CCC2CC(C3CCC4CCCCC43)CC2C1', 'C1CCC(CCC2CCCC(CC3CCCC3)C2)CC1', 'C1CCC(C2CCC(CCCCC3CCC(C4CCC5CCCCC54)C3)C2)CC1', 'C1CCC2CC3CCCCC3CC2C1.C1CCC2CC3CCCCC3CC2C1', 'C1CCC(CC2CCC(CC3CCC(CC4CCCC5CC6CC7CCCCC7CC6CC45)CC3)CC2)CC1', 'C1CCC(CCCC2CCCC2C2CCCCC2)CC1', 'C1CCC(CC(CCCC2CCCC2)CCC2(CC3CCCCC3)CCC(C3CCC4CCCCC43)C2)CC1', 'C1CCC(CCCCC2CCCCC3CC(CCC4CCCCC4)CCC23)CC1', 'C(CCCC1CCC(C2CCC3CCCCC32)C1)CCCC1CCC2CCCCC12', 'C1CCC(C2CCC(CC3CCC(CC4CCC5CCCCC5C4)CC3)CC2)CC1', 'C(CCCCC1(CC2CCCCC2)CCC1)CCCC1CCCC1', 'C1CCC(CCCCCC2CC3CCCCC3C2)CC1', 'C1CCC(CCCCC(CCCCC2CCCCC2)CC2CCCCC2)CC1', 'C1CCCCCCCC(CCC2CCCC2)CCCCCCC1', 'C1CCC2CC(CCC3CCC(CCC4CCC5CCCCC5C4)CC3)CCC2C1', 'C1CCC(CCC(CCC2CCCC2)CCC(CCC2CCCCC2)CCC2CCC3CCCCC32)CC1', 'C1CCC(CC2CC3CCCC3C(CC3CCCCC3)C2)CC1', 'C1CC2CCCC(C1)C2', 'C1CCC(CCC2CCCC3C(C4CCCC4)CCC23)CC1', 'C1CCC(CCC2CC(C3CCC4CCCCC4C3)C(C3CC4CCCCC4C3)C2)CC1', 'C1CC2CCC1CC1CCC(CC1)CC1CCC(CC1)CC1CCC(CC1)CC1CCC(CC1)CC1CCC(CC1)C2', 'C1CCCC2CCCCC(C2)CC23CCC(CCCCC(CC1)CCC1CCC(C1)C1CCCCC1C2)C3', 'C1CC2CC(C1)C1C3CCCCC3C3C4CCCC4C4C5CCCCC5C2C4C13', 'C1CCCCC2CCCC(C2)C2CCCC(CCC1)C2', 'C1CCC(CCCCC2CCC3CCCCC3C2)C1', 'C1CCC(CCC2CCCCCC2CCC2CCC(CC3CCCCC3)CC2)CC1', 'C1CCC(C2(C3CCC4CCCCC4C3)CC2)CC1', 'C1CCC(C2CCC3CC4CCCCC4CC32)CC1', 'C1CCC2C(C1)CCC2C1CCCC1C1CCC2CCCCC21', 'C1CCC(C2CC(C3CCCCC3)C3CCCC(C4CCCCC4)C3C2)CC1', 'C1CCC(CC2CCCC(C3CCCC3)C2)C1', 'C1CCC2C(C1)CC1C3CCCCC3CCC21', 'C(CCCC1CCCC1)CCCC1CCC(C2CCC3CCCCC32)C1', 'C(CCCCCC1CCCCC1)CCCCCC(CCCCC1CCCCC1)CC1CCCCC1', 'C1CCC(CC2CCCC(C3CCC(C4CCC5CCCCC5C4)C(C4CCCCC4)C3)C2)CC1', 'C1CCC(CCCC2CCCC2CCCCCC(CCCCC2CCCC2)CC2CCCCC2)CC1', 'C1CCC(C2C3CCC(C3)C(C3CCCCC3)C3CCC(C3)C(C3CCCCC3)C3CCC(C3)C(C3CCCCC3)C3CCC2C3)CC1', 'C1CCC(C2CCC(CC3CCCC4CCCCC43)CC2)CC1', 'C1CCC(CC2CC3CC(C4CCCCC4)CC(CC4CCCCC4)C3C2)CC1', 'C1CCC(CC2CCC3CC(CC4CCCCC4)CC3C2)CC1', 'C1CCC(CC(CCCC2CCC(CC3CC4CCCCC4C3)CC2)CCC2CCC3CCCCC32)CC1', 'C1CCC(CCCCC2CCCC(C3CCCC3)C2)CC1', 'C1CC2CCCC3CCCC(C1)C23', 'C1CCC2C(C1)CCCC21CCCC1', 'C1CCC(CCC2CCCC(C(C3CC3)C3CCC4CCCCCCC4C3)C2)CC1', 'C(CCCC1CCCC1)CCCC1CCC2CCCCC12', 'C1CCC(CCCCC(CCC2CCCCC2)CCC(CCCCC2CCCCC2)CC2CCCCC2)CC1', 'C1CCC(C2CCC(CC3CCC4CCCCC43)CC2)CC1', 'C1CCC(CC2CCCCC(CC3CCCCC3)C2)CC1', 'C1CCC(C(C2CCCCC2)(C2CCCCC2)C2CCCCC2)CC1', 'C(CCCCCCC1CC2CCCCC2C1)CCCCCC1CC2CCCCC2C1', 'C1CCCCCC1', 'C1CCC(CC2CCC(CC3CCCCC3)C(CC3CCCCC3)CC2CC2CCCCC2)CC1', 'C1CCC(CCCCC2CCCC(CC3CCCCC3)C2)CC1', 'C1CCC(CC2CCC3C4CCCCC4C(CC4CCC5CCCCC5C4)C3C2)CC1', 'C1CCC(CC2CCC3CC(C4CCCCC4)CCC3C2)CC1', 'C1CCC(CCCCCC(CCCCC2CCCCC2)CC2CCCCC2)CC1', 'C1CCC2C(C1)C1C3CCC(C3)C3C4CCCCC4C4C5CCCC5C2C1C34', 'C(CCC1CCC2CCCC2C1)CC1CCC2CCCC2C1', 'C1CCC(C2CC3CCCCC3C3CCCCC23)CC1', 'C1CCC2(CC1)CCCC(CCCC1CCC3CC4(CCC(CCCC5CCCC6(CCCCC6)C5)C4)CCC3C1)C2', 'C1CCC(CC2CCCC(C3CCC4CCCCC43)C2)CC1', 'C1CCC(C2CCC3CC(C4CCCCC4)CC3C2)CC1', 'C(CCCC1C2CCCCC2C2CCCCC2C1C1CCCCC1)CCC1CCC(CCCC2C3CCCCC3CC3CCCCC32)C1', 'C(CCCC(CCC1CCC(C2CCCCC2)CC1)CC1CCCCC1)CCC1CCCCC1', 'C1CC2CCC3CCCC4(CC5CCC(CC67CCCC8CCC9CCCC(CC6)C987)CC5)CCC(C1)C234', 'C1CCC(CCC2CCC3C(CC4CCCCC4)CCC3C2)CC1', 'C1CCC(CCCC2CC3CC(CCC4CCCCC4)CCC3C2CC2CCCCC2)CC1', 'C1CCC2CCC3CCCCC3C2CC1', 'C1CCC(CCC2CCC(CCC3CCCC3)C2)C1', 'C1CCC(CCC2CCCC3C(CCCCC4CC4)CCC23)CC1', 'C1CCC(C2CC3CCC4CCCCC4C3C2)CC1', 'C1CCC(CC(CCCCCC2CCCC2)CCCCC2CCCC2)CC1', 'C(CCCCCC1CCC(C2CCC3CCCCC32)C1)CCCCCC1CC2CCC3C4CCCCC4CCC3C2C1', 'C1CCC2C(C1)CCC1C2CCC2C3CCCCC3CCC21', 'C1CCC(CCC(CC2CCCCC2)CC2CCC(C3CC4CCCCC4C3)C2)CC1', 'C(CCCCCC1CCC(C2CCC3CCCCC32)C1)CCCCCC1C2CCCCC2CC2CCCCC21', 'C1CCC(CC2CCC(CCCCC3CCCC3)CC2)CC1', 'C1CCCC(CC2CCCCC2)CC1', 'C1CCC(CCC2CC3CCC(CC4CCC5CCCCC54)CC3C2)CC1', 'C1CCC2CC(CCC3CCCC4CCCCC43)CCC2C1', 'C1CCCCCCCC(CCCCCCCCCCCCC2CCCCC2)CCCCCCC1', 'C1CCC(CC2CCCC(C3CC(C4CCCCC4)CC3C3CCCCC3)C2)CC1', 'C1CCC2CC2C1', 'C1CC2CCC(C3CC3)CC2C1', 'C1CCCCC2CCC(CC2)CC(CCCCC2CCCCC2)CCCC1', 'C1CCCCCCCCC2CCCC(CCCCCCC1)C2', 'C1CCC(CC2CCC3CCC45CCC(CCC4C3C2)C5)CC1', 'C1CCC(C2C3CCCCC3CC3CCCCC32)CC1', 'C1CC2CC1CC1CCC(C1)CC1CCC(C1)C1CCC(C2)C1', 'C1CCC(C2C3CCC4CC5CCC6CC7CCC8CC9CCC2C9C(C65)(C78)C43)CC1', 'C1CCC2CC(CCC3CCC4CCCCC4C3)CCC2C1', 'C(CCCCCC1CCCCC1)CCCCCC1CCC(CCCCC2CCCC2)CC1', 'C(CCCC1CCCC1)CCCC1CCC(C2CCC3C4CCCC4CCC23)C1', 'C1CCC(CCCCC2CCC(C3CCCCC3)C2)CC1', 'C1CCC(CCC2CCC(CC3CCCC(C4CCCCC4)C3)CC2)CC1', 'C1CCC2(C1)CCCC2', 'C1CCC(CC(CC2CCC(C3CCCCC3)CC2)C2CCC(CC3CCCC3)CC2)CC1', 'C(CCC1CCCC1)CCC1CCC(C2CCC3CCCCC32)C1', 'C1CCC(CCCCC2CCC3CCCCC3C2)CC1', 'C1CCC2(CC1)CC1CCC(C3CCC4CCCCC43)C1C2', 'C1CCC(CC(CC2CCC(C3CCCCC3)CC2)C2CCCCC2)CC1', 'C1CCC(CCC2CCC(C3CCC(C4CCCCC4)C3)CC2)CC1', 'C(CCCCC1CCC2CCCCC12)CCCC1CCCCC1', 'C1CCC2CC(CC3CCC4CCCCC43)CCC2C1', 'C(CCCCCCCCCCCCCCCCCCC1CCC1CCCCC1CCC(CCCCCC2CCCC(CC3CCCCC3)C2)CC1)CCCCCCCCCCCCCCCCCCC1CCC1CCCCC1CCC(CCCCCC2CCCC(CC3CCCCC3)C2)CC1', 'C(CCCCCCCC1CCC(CCCCCC2CCCC(CC3CCCCC3)C2)CC1)CCCCCCCC1CCC(CCCCCC2CCCC(CC3CCCCC3)C2)CC1', 'C1CCC(C2CCC(C3CCC(CCC4CCCC4)CC3)C2)CC1', 'C1CCC(CCC2CCCCCC2CCC2CCCCC2)CC1', 'C1CCC(C2CC3CCCCC3CC2C2CCC(CCCC3CCCC3)CC2)CC1', 'C1CCC(C2CCC(CCC3CC4CCCCC4C3)C2)C1', 'C1CCCCCCC2CC(CCCCCC1)CC(C1CCCC1)C2', 'C1CCCCCCCCC(CC2CCCCC2)CCCCCCCC1', 'C1CCC(CCC(CCC(CCC2CCCCC2)CCC2CCC3CCCCC32)CCC2CCC3CCCCC32)CC1', 'C1CCC(CC2CCCC(CC3CCC(CC4CCCC5CC6CCCCC6CC45)CC3)C2)CC1', 'C1CCC2C(C1)CCC1CCC3CCCC3C12', 'C1CCC(CCCC2CC2)CC1', 'C1CCC(CCC2CCC(C3CC3)C2)CC1', 'C1CCC(CC(CC2CCCCC2)(C2CCCCC2)C2CCC3CCCCC32)CC1', 'C1CCC2C(C1)CCC2C1CCC2CCCC21', 'C(CCCCC1CCC(C2CCC3CCCCC32)C1)CCCCC1CC2C3CCC4CC5CCC6CC7CCC8CC1C2C(C65)(C78)C43', 'C1CCC(CCCC2CCCC2CCC(CCC2CCCCC2)CC2CCCCC2)CC1', 'C(CCCC1CCCC1C1CCCCC1)CCC1CCCCC1', 'C(CCCCC1CCC23CCCCC2CC2CCCC(C1)C23)CCCC1CC2CCCCC2C1', 'C1CCC(CC2CCCCC2CC2CCCCC2)CC1', 'C(CCCCC1CCC(C2CCCCC2)CC1)CCCC1CCC(C2CCCCC2)CC1', 'C1CCC(CC2CCC(CC3CCCCC3)C(CC3CCCC(CCC4CCCC4)C3)CC2CC2CCCC(CCC3CCCC3)C2)CC1', 'C(CCCC1CCC(CC2CCCC2)C1)CCC1CCCCC1', 'C1CCC(CCCC2CCC3CC(CCC4CCCCC4)CCC23)CC1', 'C1CCC(CC2CCC(CCC3CC4CCCCC4C3)C2)CC1', 'C(CCCCC1CCCCC1)CCCC1CCCCC1', 'C1CC2CCCC3CCC(C1)C23', 'C1CCC(CC2CCC(CC3CCC4CCCCC4C3)CC2)CC1', 'C1CCC(CC(CCCC2CCC(CC3CCC(C4CCCCC4)CC3)CC2)CCC2CCCC2)CC1', 'C1CCCC2CCC(CC2)CC2CC3CC4CCC(CC4)C(CC4CCCCC4)C4CCCC5CCCCC5C5CCCC(C5)C(CCC(CCC1)C(C2)C3)CC4', 'C1CCC(C(CCCCCC2CCCC2)CC2CCC3CCCCC3C2)CC1', 'C1CCC(CCCCC2CC3CCCCC3C2)C1', 'C1CCCC(C2CCCC2)CC1', 'C(CCCC1CCC(C2CCC(C3CC4CCC(C(CC5CCCCCC5)C5CCCCC5)CC4C3)CC2)C1)CCCC1CCC(C2CCC3CCCCC32)C1', 'C1CC2CCCC2C(CCC2CCC3CCCCC32)C1', 'C1CCC(CCCCC2CCC3CCC(CCCC4CCCC4)C3C2)CC1', 'C1CCC(CC2CCCC(C3CCCC3)C2)CC1', 'C1CCC(CCCC2CC3CCCCC3C2)CC1', 'C1CCC(C2CCCC(CC3CCCC4CCCCC43)C2)C1', 'C1CCC(CCC2CC2)CC1', 'C1CCC(CCC2CCC(CC3CCCCC3)C2)CC1', 'C1CCCCC2CCCC(CCCC(C3CCCCC3)CCCC1)C2', 'C1CCC(CCCC2CCCC3(CCCC3)C2)C1', 'C1CCC(CC2CCC(CC3CCC(CC4CCCC4)C3)C2)C1', 'C1CCC(CC2C(C3CCCCC3)CC(C3CCCCC3)C2C2CCCCC2)CC1', 'C1CCC(C(CCCC2CCCC3CCCCC32)C2CCCCC2)CC1', 'C1CCC(CCCC(CCCC2CCCCC2)CCC2CCCCC2CCC2CCCCC2)CC1', 'C(CCCCCCCC1CCC1CCCCC1CCC(CCCCCC2CCCC(CC3CCCCC3)C2)CC1)CCCCCCCC1CCC1CCCCC1CCC(CCCCCC2CCCC(CC3CCCCC3)C2)CC1', 'C1CCC(CCC2CCC(C3CCCCC3)C2)CC1', 'C1CCC(C23CCCC2C3)CC1', 'C1CCC(CC2CCC(CCCC3CCCC4CCCCC4C3)CC2)CC1', 'C1CCC(C2CCCCC3CCCC32)C1', 'C1CCC(CC2CCCCCC3CCC(CCCC4CCC(CCCC5CCC(C5)C5CCC(C6CCC(C7CCC(CC8CCCC8)C7)C6)CC5C5CCC(C5)C5CCC2C5)C4)C3)CC1', 'C1CCC(CCCC2CCCC2)C1', 'C(CCCCCC1CCCCC1)CCCCCC1CCC(CCC23CCCCC2C3)C1', 'C(CCCC1C2CCCCC2C2CCCCC2C1C1CCCCC1)CCC1CCCC1CCCC1C2CCCCC2CC2CCCCC21', 'C1CCCCCCC2CC2CC(CCC2CCCC2)CCCCC1', 'C1CCCCCCCCC2CCC(C2)C2CCC(C2)C2CCC(CCCCCCC1)C2', 'C1CCC(CC2CCC(C3CCCC3)C2)CC1', 'C(CCCCCCC12CC3CC(CC(C3)C1)C2)CCCCCC1CCCC2CCCCC12', 'C1CCC(CCCC2CCC(CCCC3CCCC3C3CCCCC3)C3CCCCC23)CC1', 'C1CCC2C(C1)CCCC2C1CCCC1', 'C(CCCC1CCCC2CC(CC3CCCC3)CC12)CCC1CCCCC1', 'C1CCC(CCC2CCC(CCC(CCC(CCCC3CC4CCCCC4C3)CCC3CCC4CCCC4C3)CC3CCCCC3)CC2)CC1', 'C1CCC(CCC2CCC(CC3CCCCC3)C(CCC3CCCCC3)C2)CC1', 'C(CCCC1CCC(C2CCCC2)C1)CCCC1CCC(C2CCC3CCCCC32)C1', 'C1CCC(C2CCC(CCCC3CCC4CCCCC4C3)CC2)CC1', 'C1CCC(CCCCCC(CC2CCCCC2)CC2CCCCC2)CC1', 'C1CCC(CCC2CC3CCCCC3C(CC3CCCCC3)C2)CC1', 'C1CCC(C2CC(C3CCCCC3)C(C3CCCC(CC4CC4)C3)C2)CC1', 'C1CCC(CCCC2CCC3CCCCC32)C1', 'C1CCC(CCC2CCC(C3CCC4CCCCC43)C2)CC1', 'C12C34C5C13C254', 'C(CCC1CCCC2CCCCC12)CC1CCC(CCC2CCCC3CCCCC32)CC1', 'C(CCCC1CCC(C2CCC(C3CCCCC3)CC2)C1)CCCC1CCC(C2CCC3CCCCC32)C1', 'C(CCCCCCC1CC1CCCCCCC1CCC(C2CCC3CCCCC32)C1)CCCCCC1CCCCC1', 'C(CCCC1CCC(C2CCC3CCCCC32)C1)CCC1CCC(C2CCCCC2)C1', 'C1CC2CCC3CCCC4CCC(C1)C234', 'C1CCC(CC2CCC(CC3CCC(CC4CCC(CC5CCC(CC6CCCCC6)CC5)CC4)CC3)CC2)CC1', 'C1CCC(C2CCC(CC3CCC4CCCCC4C3)CC2)CC1', 'C1CCC(CCCC2CC(CCC3CCCCC3)C(CCC3CCCCC3)C(CCC3CCCCC3)C2CCC2CCCCC2)CC1', 'C1CCC(CCCC2CCCC3CCCCC32)C1', 'C1CCC(CC2CCCCC2CCCC2CCCC(C3CC4CCCCC4C3)C2)CC1', 'C1CCC(CCCCCC2CCCC(CC3CCCCC3)C2)CC1', 'C1CCCC2(CCCCC2)CCCC(C2CCCCC2)CCCC(CC2CCCC3CCCCC32)CC1', 'C(CCCCCCC1CCC(C2CCCCC2)C1)CCCCCCC1CCC(C2CCC3CCCCC32)C1', 'C(CCC1CCCC1)CCC1CC2CCCCC2C1', 'C(CCCC1CCC(C2CCCCC2)C1)CCCC1CCC2CC3CCCCC3CC2C1', 'C1CCC(CC2CCC3CC(CCC4CCC(CCC5CCCC5)CC4)CCC23)CC1', 'C(CCCC1CCCCC1)CCCC1CCC(C2CCC3CCCCC32)C1', 'C1CCC(CCC2CCCC2C2CCC3C(CCC4CCCC5CCCCC54)CCCC32)CC1', 'C(CCCCCCCCCCCC1CCC(C2CCC3CCCCC32)C1)CCCCCCCCCCCC1CCC2CCCCC12', 'C1CCC(CCCC2CCC(C3CCC(C4CCCCC4)CC3)C2)CC1', 'C1CCC(CC(CCC2CC3CCCCC3C2)CC2CCCCC2)CC1', 'C1CCCCCCCC(CC2CCCCC2)CC2CCCC(CCC(CCCCCCCCCC3CCCC4(CCCCC4)C3)CCCCCC1)C2', 'C1CCC(CCCCC(CCCCC2CCCCC2)CC2CCCC2)CC1', 'C(CCCC1CCCCC1)CCCC1CCC(CCCCCCC2CCCCC2)C1', 'C1CCC(CCCCC2CCCC2)C1', 'C1CCC(CCCC2CCCC(CC3CCCCC3)C2)CC1', 'C1CCC(C2CCCC2CCCCC2CCC(C3CCC4CCCCC43)C2)CC1', 'C1CCC(CCCCC2CCC(CCC3CCCC3)CC2)CC1', 'C1CCC(CCCCCC2CCC(CCC3CCCCC3)CC2)CC1', 'C(CCCC1CCCCC1)CCCC1CCCC1', 'C(CCCCCCCCCC12CCCCC1C2)CCCCCCCCC12CCCCC1C2', 'C(CCCCCC1CCCCC1)CCCCCC1CCCCC1', 'C(CCCC1CCCCC1)CCCC1CCC(CC2CCCCC2)CC1', 'C1CCC(CCC2CCC3CCCC(CC4CCCCC4)C3C2)CC1', 'C1CCC(C2CC2C2CCC3CCCCC3C2)CC1', 'C(CCCC1CCC(C2CC3CCC4CCCCC4C3C2)CC1)CCC1CCCC1', 'C1CCC(C2CCC3C4CCCCC4CC23)CC1', 'C1CCC(CCC2CCC(CC3CCC(CC4CCCCC4)CC3)CC2)CC1', 'C1CCC(CCCC2CC3CC4CC(C5CCCCC5)CC4C3C2)CC1', 'C1CCC(CCCCCC2CC(CCCC3CCCC3)CC(CC3CCCCC3)C2)CC1', 'C1CCC(CCCC2CCCC2CC2CCCC2)CC1', 'C1CCC(CCCC2CCCC(C3CC4CCCCC4C3)C2)CC1', 'C1CCC(C2(C3CCCCC3)CCCCC2)CC1', 'C1CCC(CC2CCC3CCC(C4CC5CCCCC5C4)C3C2)CC1', 'C1CCC(CCC(CC2CCCCC2)CC2CCCCC2)CC1', 'C(CCCCCCCCCCC1CCC(C2CCC3CCCCC32)C1)CCCCCCCCCC1CCCCC1', 'C1CCC(CC2CCCCC2CC2CCCC2)CC1', 'C1CCCCCC(CCC2CCC(CC3CCC4CCCC4C3)CC2)CCC2CCCCC2CCC2CCCC(CCCCC1)C2', 'C1CCCCCCCCC(CC2CCCCC2)CCCCCCC1', 'C(CCCC1CCCC(CCCCCCC2CCCCC2)C1)CCC1CCCCC1', 'C1CCC(CC2CCCC(CCCCCC3CC4CCCCC4C3)CC2)CC1', 'C1CCC2C(C1)CCC1C2CCC2C(C3CCCC3)CCC21', 'C1CCC(C(CCC2CCCC3CCCCC32)C2CCCCC2)CC1', 'C1CCC(CCCC2CCC(CCCC(C3CCCCC3)C3CCCCC3)CC2)CC1', 'C1CCC(CCCC2CCC(C3CC4CCCCC4CC3C3CCCCC3)CC2)CC1', 'C1CCC(CC(CCC2CC3CCCCC3C2)CC2CCC2)CC1', 'C1CCC(CCCC2CCC(C3CCC(CC4CCCCC4)CC3)CC2)CC1', 'C(CCCCC1CCCCC1)CCCCC1CCCCC1', 'C1CCC(CCCCC23CC4CC(CC(C4)C2)C3)CC1', 'C1CCC(CCCCC(CC2CCCCC2)CC(C2CCCCC2)C2CCCCC2)CC1', 'C1CCC(C2CCC3CCCCC3C2C2CCC(C3CCC4CCCCC4C3)CC2)CC1', 'C(CCCC(CCC1CCCCC1)CCC(CCCCCCC1CCCCC1)CCC1CCCCC1)CCC1CCCCC1', 'C1CCC(C2CCCC(C3CCCC3)C2)C1', 'C1CCC(CCCCCC(CCCC2CCCCC2)CCC2CCCCC2)CC1', 'C1CC2CCC1CC2', 'C1CCC(CCC2CCC3CC(CC4CCCC(CC5CCC6CC(CCC7CCCCC7)CCC6C5)C4)CCC3C2)CC1', 'C1CCC(CCC2CCCC(CC3CCCC(C4CCCCC4)C3)C2)CC1', 'C(CCCCC1CCCC1)CCCC1CCCCC1', 'C(CCCCCCCCC1CCCCC1)CCCCCCCCC1CCCCC1', 'C1CCC(C2CCC(C3C4CCCCC4CC4CCCCC43)CC2)C1', 'C1CCC(CC2CCCC(C3CCCC(C4CCCCC4)C3)C2)CC1', 'C1CCC(C2CCCC2C2CCCC3CCCCC32)CC1', 'C(CCCCCCCCCCC1CCCCC1)CCCCCCCCCCC1CCC(C2CCC3CCCCC32)C1', 'C1CCC(C2CCCCC2CCCCCC2CCCC2)CC1', 'C1CCC2CC(CC3CCCCC3CCC3CCCC4CCCCC43)CCC2C1', 'C1CCC(CC23CCCC2C2CC4CCC2C3CC2CCC(CCCCCC4CCC3CCCC4CCCCC43)CC2)CC1', 'C1CCC(CC2CCCC3CC(C4CCCCC4)CCC23)CC1', 'C1CCC(CC2CC3CC(C4CCCCC4)CC(CC4CCCC4)C3C2)CC1', 'C1CCCC(C2CC3CC4CCCC4C3C2)CC1', 'C1CCC(CCC2CCC(CC3CCC(CC4CCC(CC5CCC(CC6CCCCC6)CC5)CC4)CC3)CC2)CC1', 'C1CCC(C2CCC(CC3CC3)C2C2CCCCC2)CC1', 'C(CCCC(CCC1CCCCC1)CC1CCCCC1)CCC1CCCCC1', 'C1CCC(CC2CCCC(CC3CCCC(CC4CCCCC4)C3)C2)CC1', 'C1CC2CCC1CC1CCC(CC1)CC1CCC(CC1)CC1CCC(CC1)CC1CCC(CC1)CC1CCC(CC1)CC1CCC(CC1)C2', 'C1CCC(CC2CCC3CCC(CC4CCCCC4)C3C2)CC1', 'C1CCC(C2CCC3CC(C4CCC5CC(C6CCCCC6)CC5C4)CC3C2)CC1', 'C1CCC2C(C1)CC1C3CCCCC3CCCC21', 'C1CCC2CC(CC3CCC(CCC4CC5CCCCC5CC4CCC4CCCC5CCCCC54)CC3)CCC2C1', 'C1CCC(CCCCC2CC(CCCC3CCCCC3)CC(C3CCCCC3)C2)CC1', 'C1CCC(CC2CCC3C4CCCCC4C(CC4CCCCC4)C3C2)CC1', 'C(CCCCC12CC3CC(CC(C3)C1)C2)CCCC1CCCC2CCCCC12', 'C1CCC(CC(CC2CCCCC2)C2CCCC2)CC1', 'C1CCC(CC2CCCC(CCC(CC3CCCCC3)CC3CCCCC3)C2)CC1', 'C1CCC(CCC2CCC(CCCCC3CCCC3)CC2)CC1', 'C1CCC(CCC2CCCCC2CC2CCCCC2)CC1', 'C1CCC(CCCC2CCC(C3CCCCC3)CC2CC2CCCCC2)CC1', 'C1CCC(C(CCCC2CCCC2C2CCCC2)CC2CCC3CCCCC3C2)CC1', 'C1CCC(CC2CCC2)C1', 'C1CCCCCCCCCCCCC1', 'C(CCCCC1CCCCC1)CCCCC1CCC(CC2CCCCC2)CC1', 'C1CC1C1CCC(C2CC2)CC1', 'C1CCC(CCCCC2CCCC2CC2CCCC2)CC1', 'C1CCC(CCC2CC3CCC(C4(CC5CCCCC5)CC4)CC3C2)CC1', 'C1CCCC2CCC(CC2)CC2CC3CC(CC4CCC(CC4)C(CC4CCCCC4)C4CCCC5CCCCC5C5CCCC(C5)C(CCC3CCC1)CC4)C2CC1CCCCC1', 'C1CCC2CC3C4CCCC(C4)CC3CC2C1', 'C1CCC2CC3C(CCC4CC5CCCC5CC43)CC2C1', 'C1CCC(CC2CC(C3CCCCC3)CC3CC(CC4CCC5CCCCC5C4)CC23)CC1', 'C(CCCCCC1CCC(CCCCCCCC2CCCCC2)C1)CCCCC1CCCCC1', 'C1CCC2CCCC2CC1', 'C1CCC(C2CCC3CCC(C4CCCCC4)C3C2)CC1', 'C(CCCCCC1CCC2CCCCC2C1)CCCCCC1CCC(C2CCC3CCCCC32)C1', 'C1CCC(CCCC2CCCC3CC4CCCC4C23)CC1', 'C(CCCCCC1CCCC2CCCCC12)CCCCC1CCCC2CCCCC12', 'C1CCCCCC(CCCCCCC2CCCCC2)CCCCCC2CC3CCC4CC(CCCCC1)C(C1CCCCC1)CC4C3C2', 'C(CCCCC1CCCC(C2CCCCC2)C1)CCCC1CCCCC1', 'C1CC2CCC(CC3CC4CCCCC4C3)CC2C1', 'C1CCC(CCCCCC(CCC2CCCCC2)CCC2CCC3CCCCC32)CC1', 'C1CCC(CC2CCC(CC3CCC(CC4CCC5CCCCC5C4)CC3)CC2)CC1', 'C1CCCC(CC2CCCCC2)CCC(CC2CCCCC2)CCCCCCC2CCCC2CCC1', 'C1CCC(CCCC2C3CCCCC3C3CCCCC32)CC1', 'C1CCC2CCCCC2CC1', 'C1CCC(CCCC(CC2CCCCC2)(C2CC3CCCCC3C2)C2CCC3CCCCC32)CC1', 'C(CCCCCC1CCC(CCC2CCCCC2)CC1)CCCCC1CCCCC1', 'C1CCC(CCC2CC(CC3CCCCC3)CC3C(C4CCCC4)CCC23)CC1', 'C1CC2CCC(CC3CCC(C4C5CCCCC5C5CCCCC54)CC3)CC2C1', 'C1CCC(CCC2(C3CCCC3)CCC(CC3CCCCC3)CC2)CC1', 'C1CCC(C2CC3(CC4CCCCC4C3)CC2CCC2CCC(C3CCCC3)CC2)CC1', 'C1CCC(C2CCC(C3CCCCC3)C2C2CCCCC2)CC1', 'C1CCCC2CCCC2CCC2CCC(C2)C(CC2CCCC2)CCC1', 'C(CCCC1CCCCC1)CCCC(CCCCC1CCCCC1)CC1CCCCC1', 'C(CCCCC1CCC(C2CCC3CCCCC32)C1)CCCC1CCCC1', 'C1CC2CCCC3C4CC4CCC3C2C1', 'C(CCC1CCC(C2CCCCC2)CC1)CCC1CC2CCCCC2C1', 'C1CCC(CC2C(CCC3CCCC4CCCCC43)CC3CCC4(C5CCCC5)CC4CCCC32)CC1', 'C1CCC(CCCCCC2CCC(C3CCCCC3)CC2)CC1', 'C(CCCC(CCC1CCCCC1)CCC(CCC1CCCCC1)CC1CCCCC1)CCC1CCCCC1', 'C1CCC(CC2CCC(CCCC3CCCC3)CC2)CC1', 'C1CCCC2CCC(CC2)CC2CC3CC(CC4CCC(CC4)C(CC4CCCCC4)C4CCCC5CCCCC5C5CCCC(C5)C(CCC3CCC1)CC4)C2CC1CCCCC1CC1CCCCC1', 'C(CC1CCC2CCCCC2C1)CC1CCC2CCCCC2C1', 'C1CCC(CCCC2CCC(C3C4CCCCC4CCC3C3CCCCC3)CC2)CC1', 'C1CCC(CCC2CCCC2C2CCC3C(CC4CCCC5CCCCC54)CCCC32)CC1', 'C1CCC(CC2CCC(CC3CC(CCC4CCCC(CC5CCCCC5)C4)CC(CC4CCCCC4CC4CCCCC4CC4CCCCC4)C3)CC2)CC1', 'C1CCCC2CCC(CC2)CC2CC3CC(CC4CCC(CC4)CC4CCCC5CCCCC5C5CCCC(C5)C(CC4)CCC3CCC1)C2CC1CCCCC1', 'C(CCCCC1CCC(C2CCCC2)CC1)CCCC1CCC(C2CCCC2)CC1', 'C1CC1C(C1CC1)C1CC1', 'C1CCC(CC2CCC3C(CCC4C5CCCC5CCC34)C2)C1', 'C1CCC(C2CCC(C3CCCCC3)CC2)CC1', 'C1CCC(CCCC2CCCC3CC(CC4CCCCC4C4CCCC4)CC23)CC1', 'C(CCCCCC1CCCC1)CCCCCC(CCCCCC1CCCCC1)CC1CCCC1', 'C1CCC(CC(C2CCCCC2)C2CCCC2)CC1', 'C1CCC(C2CC3CC4CCCCC4C3C3CCCC23)CC1', 'C1CCC(CC2CCC(CC3CCCCC3)C(CC3CCCC(CCC4CCCC4)C3)CC2CC2CC2)CC1', 'C1CCC(CC2CCC(CCC3CCCC4CCCCC43)C2)CC1', 'C(CCCCCCC1CCCC1)CCCCCCC1CCCC1', 'C(CCCCCCC1C2CCCCC2CC2CCCCC21)CCCCCC1CCCC2CCCCC12', 'C(CCCCCC1C2CCCCC2CC2CCCCC21)CCCCC1CCCC2CCCCC12', 'C1CCC(CCCCC2(CC3CCCCC3)CCC(C3C4CCCCC4C4CCCC43)C2)CC1', 'C1CCC(CC2CCC3CC(CC4CCCCC4)CCC3C2)CC1', 'C1CCC(CC2CCC(CC3CC4CCCC4C3)CC2)CC1', 'C1CCCCCCCCCCCCCCCCCCCCCCC1', 'C1CCC(CCC2CCC(CCC3CCCC(CC4CCCCC4)C3)CC2)CC1', 'C(CCCCC1CCC(C2CCC3CCCCC32)C1)CCCCC1CCC2CCCC12', 'C(CCCC1CCC(CC2CCCCC2)CC1)CCC1CCCCC1', 'C1CCC(CCC2CC(C3CCCCC3)CC3CCCC32)CC1', 'C1CCC(C2CCC(CC3CCC(CC4CC5CCCCC5C4)CC3)CC2)CC1', 'C1CCCCCCCCCCCCC(CCCCCCCC2CCCCC2)CCCCCCCCCCC1', 'C1CCC(C2CCC(CCC(C3CCCCC3)(C3CCCCC3)C3CCCCC3)C2)CC1', 'C1CCC(CC2CCC3CC(CCCCCC4CCC5CCCC5C4)CCC3C2)CC1', 'C1CCC(C2(C3CCCCC3)CCC3CCCC4CCCC2C43)CC1', 'C1CCC(CCCCC2CCC2CC(CCC2CCCCC2)CC2CCCCC2)CC1', 'C1CCC(CCC2CCC3CC4CCCCC4CC3C2)C1', 'C1CCCC(CC2CCCC3CCCCC32)CC1', 'C1CCC2C(C1)CCCC2C1CC2C3CCC(CC3)C2C1', 'C1CCC(C2CCC3CCC(CCC4CC4)CC32)CC1', 'C1CCC2C(C1)C1CCCCC1C1CCCC21', 'C1CCC(CCCCCC2C(CC3CCCCC3)CCC2CC2CCCCC2CC2CCCCC2)CC1', 'C1CCC(CCCCC2CCCC(CCCC3CCCCC3)C2)CC1', 'C1CC(CCC2CCC3CCCCC3C2)CCC(CC2CCC3CCCCC3C2)C1', 'C1CCC(CC2CCC(CC3CCC(CC4CCCCC4CC4CCCCC4)C3)CC2)CC1', 'C1CCC(CC2CCC3CCC2C3)CC1', 'C1CCCCCCCCCC(CCCCCCCC2CCCCC2)CCCCCCCC1', 'C1CCC(CCCCC(CCCC2CCC(CC3CCCC3)C2)CC2CCCCC2)CC1', 'C1CCC(CCCC2CCCC(CCCC3CCCCC3)C2)CC1', 'C1CCC(CCC2CCCC(CC3CCC(C4CCCCC4)CC3)C2)CC1', 'C1CCCCCCCCCCCC2CCCC(CCCCCCCCCCC1)C2', 'C(CCCC1CC2CCC3(CC3)C(C1)C2)CCC1CCC(C2CCCCC2)C1', 'C(CC1CCCC(CCC2CCCC(CCC3CCCC4CCCCC43)C2)C1)CC1CCCC(CCC2CCCC(CCC3CCCC4CCCCC43)C2)C1', 'C1CCC(CC2CCC3C(CC4CCCCC4)CCC23)CC1', 'C1CCC(C2CCC(C(C3CCCCC3)C3CCCC3)CC2)CC1', 'C1CCC2CCC(C2)CC2CCC(CC3CCC(CC1)C3)C2', 'C1CCC(CCC2CCCCC3CCCC3CCC(CC3CCCCC3)CC3CCCCC3CCC(C3CCCCC3)CCC2)CC1', 'C1CCC(CCC2CCCC(CC3CCCCC3)C2)CC1', 'C1CCC(C2(C3CCCCC3)CCC3CCCCC32)CC1', 'C1CCC(CCCCCC(C2CCCCC2)C2CCCCC2)CC1', 'C1CCC(CCC(CCC2C3CCC2CC(C2CCCC2)C3)C2CCCCC2)CC1', 'C1CC2CCC3C(CCC4CCC5CC5C43)C2C1', 'C1CCC(C(CCCC2CCC3(CCCC3C3CCCCC3)CC2)C2CCCCC2)CC1', 'C1CCC(CCCCC2CCC3C(CCCC3CC3CCC4CCCC4C3)C2)C1', 'C1CCC(C2CCC(C3CCC(CCC4CCCC4)C3)CC2)CC1', 'C1CCC(CCCC(C2CCCC2)C2CCCC(CC3C4CCCCC4C4CCCCC43)C2)CC1', 'C1CCC(CCCC2CCC3CCC(C4CCCC4)C3C2)CC1', 'C1CCC(C2CC3CCC(C3)C2)CC1', 'C1CCC(CC2CCC(CCCC3CCC4CCCCCC4C3)CC2)CC1', 'C(CCC1CCC2CCCCC2C1)CCC1CCC2CCCCC2C1', 'C1CCC(CCCCC2CCCC(CCCC3CCC(C4CCCC4)CC3)C2)C1', 'C1CCC(C2CCC(CCC3CCCC3)CC2)CC1', 'C1CC2CC3CCC4CCCC45CCCC5C3CC2C1', 'C1CCC(C2CCC(CCC3CC4CCCCC4C3)C2)CC1', 'C1CCC(C2CCCC(CC3CCCC(CCC4CCCC(C5CCCC5)C4)C3)C2)CC1', 'C1CCC(CC(CCCCC2CCC(C3CCCCC3)CC2)CCC2CCC(C3CCC4CCCCC4C3)CC2)CC1', 'C1CCC(CC2CCCC(CCCC3CCC(C4CCCCC4)CC3)(C3CCCCC3)C2)CC1', 'C1CCC(CCC2CCCC3CCCC(CCC4CCCC5CCCCC54)CC32)C1', 'C1CCC(CCCC23CC4CC(CC(C4)C2)C3)C1', 'C1CC2CC(C1)CC1C3CCCCC3CC1C(C1CCC3C(C1)CC1C3CCC3CC4CCC3C1C4)C2', 'C1CCC(CC2CCC(CC3CCCCC3)C3CCCCC23)CC1', 'C1CCC2CC(CCC3CCC(CCC4CCCC5CC6CCCCC6CC45)CC3)CCC2C1', 'C1CCC(C2C3CCCCC3C3C4CCCC4C4C5CCCCC5CC4C23)CC1', 'C1CCC(CC2CCC3C(C2)C2CCCC4CCCC3C42)C1', 'C1CCC2C(C1)C1CCCCC1C1CCCCC21', 'C1CCC(CCC2CCC(CC(CCCCC3CCC4CCCC4C3)CCCC3CCC4CCCC34)CC2)C1', 'C1CCC(C2CCCC(CC3CCC(C4CCCC5CCCC54)CC3)C2)CC1', 'C1CCC(CCCC2CCC3CC4CCCC4C3C2)CC1', 'C1CCCCC(CC2CCC3CCCCC32)CCC(CC2CCCCC2)CCC(CCCCC2CCCCC2)CCCCC(CCCCC2CCC3CCCCC23)CCC1', 'C1CCC(CCCC2CCC2CCC2CCCCC2)CC1', 'C1CCC2CC(C3CC4CCCCC4C3)CCC2C1', 'C1CCCC2CCC(CC2)CC2CC3CC(CC4CCC(CC4)C(CC4CCCCC4)C4CCCC5CCCCC5C5CCCC(C5)C(CCC3CCC1)CC4)C2CC1CCCCC1CC1CCCC(CCC2CCC(C3CCCCC3)CC2)C1', 'C1CCC(CCC2CCC3CCCC2C3)CC1', 'C1CCC(CCCC2CC3CC(CC4CCC(C5CCCC5)C4)CCC23)C1', 'C1CCC(CC2CCCC(CCCC3CC3)C2)CC1', 'C(CCCCCCC1CCCCC1)CCCCCCC(CCC(CCCCCC(CCCCCCCC1CCCC1)CC1CCC2CCCCC21)CC1CCCCC1)CC1CCCC1', 'C1CCCCCCCCC2CC3CCC4CC(CCCCCCCC1)C1CC5CC(C6CCCCC6)CCC5CC1C4C3C2', 'C1CCCCCC(C2CCCCC2)CCCCCCC(C2CCCCC2)CCCCCCCCC(C2CCCCC2)CCC(C2CCCCC2)CCCCCC(CC2CCCCC2)CCCCCC(C2CCC(CC3CCCCC3CC3CCCCC3)CC2)CCCCCC(C2CCCCC2)CCCCC1', 'C1CCC(CC2CCCC3C(C4CCCC4)CCC23)C1', 'C1CCC(CCCCC2CCC(CCC3CCC(C4CCCCC4)C3)C2)CC1', 'C1CCC(C2CCCC3CCC(C(C4CCCCC4)C4CCCC4)CC32)CC1', 'C1CCCCCCCC2CCCC2CCC(CC2CCCCC2)CCCC(CCCCCC2CCCC2)CCCCCC1', 'C1CCC(C2CCCCC3CC4CCCC4CC32)CC1', 'C(CCCCCC1CCC(C2CCCCC2)C1)CCCCCC1CCC(C2CCCCC2)C1', 'C1CC2CC2C1', 'C1CC2CC3(CCCC3C1)CCC1CC12', 'C1CCCCCCCCCCCCCCCCCCCCCCC(CC2CCCCC2)CCC(CCCCCCCCCCCCCCCCCCCCCCCC2CCCC2)CCCCC(CCCCCCCCC(CCCCCCCC2CCCCC2)CC2CCCCC2)CCCCCCCCCCCCCCCCCCCCC1', 'C(CCCC1CCCCC1)CCCC1CCCC1CC1CCCC(CCC2CCCC3CCCCC32)C1', 'C1CCC2CC(CCCC3CCCC4CCCCC43)CC2C1', 'C1CCC(C(CCC(C2CCCCC2)C2CCCCC2)CC2CCCC2)CC1', 'C1CCC(CCCCC2CCC(C3CCCC3)CC2)C1', 'C1CCC2C(C1)CC1CC2C2C3CCC4(CCCC5CCCCC54)CCCC(C2C1)C1C2CCCC2CCC31', 'C1CCC(CCC2CCCCC3CCCC3CCCCCC(CCC3CCC(C4CCCCC4)CC3)CCCCC3CCCC3CC2)CC1', 'C1CCC(CC2CCCCC2CC2CCCC3CC4CCC5CCCC6CCC(C23)C4C56)CC1', 'C1CCC(CCC2CCCC(CCC3CCCCC3)C2)CC1', 'C1CCC23CC4CC(CC(C4)C2C1)C3', 'C1CCC(CC2CCCCC2CC2CC(C3CCCCC3)C2)CC1', 'C1CCC(CCCC2CCC3CCCCC3C2)C1', 'C1CCC(CCC2CCC3C(CC4CCCCC4)CCCC3C2)CC1', 'C1CCC2CCC3CCC(C3)CC3CCC(CC4CCC(CCC2C1)C4)C3', 'C1CCC(CCCC(CC2CCCCC2)C2CCCCC2)CC1', 'C1CCC(CC2CC3CCCC3C3(CCCC3)C2)CC1', 'C(CCCC1CCC2CCCC2C1)CCC1CCC2CCCCC2C1', 'C1CCC2CC(C34CC5CC(CC3C5)C4)CC2C1', 'C(CCCCCCCCCCCCCCCCCCCCCCCCCCCCCC(CCCCCCCCCCCCCCCCCCCCCCCC(CCCCCCCCCCCC(CCCCCC(CCCCC1CCCCC1)CC1CCC2CCCCC21)CC1CCC2CCCCC21)CC1CCC2CCCCC21)CC1CCCCC1)CCCCCCCCCCCCCCCCCCCCCCCCCCCCCC(CCCCCCCCCCC1CCC2CCCCC12)CC1CCC2CCCCC21', 'C1CCC(CCCCC2CCC3C(CC4CCCCC4)CCCC3C2)CC1', 'C1CCC(CCCCC2CCC3C(CCCC3C3CCC(CCC4CCCCC4)CC3)C2)CC1', 'C1CCC(C2CCCC(CCCCC3CCC4CCCCC34)C2)CC1', 'C1CCCCCCC(CCCCC2CCCCC2)CCC(CC2CCCCC2)CCCCCCCCCCC2CCCC2CCC(CC2CCCCC2)CCCCCC1', 'C1CCC2CC3CCCC3CCC2C1', 'C(CCCC1C(CCCCC(CCC2CCCCC2)C2CCCCC2)CC2CCCC21)CCC1CC1', 'C1CCC(C2CCC(CCCCC3CC(C4CCCCC4)CC3CCCCC3CC(C4CCC5CCCCC54)CC3CCCCC3CC(C4CCCCC4)CC3CCCCC3CC(C4CCC5CCCCC54)CC3CCCCC3CC(C4CCCCC4)CC3CCCCC3CC(C4CCCCC4)CC3CCCCC3CC(C4CCCCC4)CC3CCCCC3CC(C4CCCCC4)CC3CCCCC3CC(C4CCC5CCCCC54)CC3CCCCC3CC(C4CCCCC4)CC3CCCCC3CC(C4CCCCC4)CC3CCCCC3CC(C4CCCCC4)CC3CCCCC3CC(C4CCC5CCCCC54)CC3CCCCC3CC(C4CCC5CCCCC54)CC3CCCCC3CC(C4CCCCC4)CC3CCCCC3CC(C4CCCCC4)CC3CCCCC3CC(C4CCCCC4)CC3CCCCC3CC(C4CCCCC4)CC3CCCCC3CCC(C4CCC5CCCCC54)C3)C2)CC1', 'C1CCC(CCCC2C3CCC3CC2C2CCCC2)C1', 'C(CCC1CCC2CC12)CC1CCC1', 'C1CCC2(CC1)C1CCCCC1CCC1CCCC12', 'C1CC2CCC3(CC3)CC2C1', 'C1CCC(CCC2CCCC(CCC34CCC(C5CCCCC5)(CC3)CC4)(C3CCCCC3)C2)CC1', 'C1CCC(CCCCC2(CCC3CCC4CCCCC4CC3)CCCC2)CC1', 'C1CCC(C2CCC3C2CCC2C4CCCCC4CCC23)CC1', 'C1CCC(C2CCC(CC3CCCCC4CCCCC43)CC2)C1', 'C1CCC2(CC2)C(C2CC2)C1', 'C1CCCC(CCCC2CCCC2)CC2CC(CC3CC(C4CCCC4)CC4CCCCC43)CC2CCC2CC2CCC1', 'C1CCC(CCCCC2CCC3C(C2)C2CCCC4CCCC3C42)CC1', 'C1CCC(CC2C3CCC(CC3)C2CCC2CC3CCCCC3C2)CC1', 'C1CCC(C2CC(C3CCC(CCC4CCCC4)CC3)C3CCCCC23)CC1', 'C1CCCCCC(CC2CCCCC2)CCCC(CC2CCC(CC3CCCCC3)CC2)CCCCC1', 'C1CCCCC2CCCCCCCC(CCC1)CCCCCC2', 'C(CCCC1CCCC(C2CCCCC2)C1)CCC1CCCCC1', 'C(CCC(CCCCC1CC2CCCCC2CC1CC1CCC2CCCCC21)CC1CCCC1)CCC1CCCC1CC1CCCC1', 'C1CCC(C2CCC3CCCCC3C2C2CCC(CCCC3CCCC3)CC2)CC1', 'C1CC2CCC1CC1CCC(CC1)CC1CCC(CC1)CC1CCC(CC1)CC1CCC(CC1)CC1CCC(CC1)CC1CCC(CC1)CC1CCC(CC1)C2', 'C(CCCC1CCC2CCCC2C1)CCC1CCCCC1', 'C1CCC(C(CC2CC2)C2CCC3CCCC3C2)CC1', 'C1CCC(CCC2CCC(CC3CCCCC4CCCCC43)CC2)CC1', 'C1CCC(C2CCC3CCC(C4CCCC4)C3C2)C1', 'C1CCC(CC2CCCC3CCCC4CCC(CCC5CCC6CCC(CCCC7CCCC(C7)CC7CCCC6C7)CC6CCC(CC6)CC6CC5CC(CC5CCC(CC5)C4)C6CC4CCCCC4)C4CCCC(C4)C32)CC1', 'C1CCC(C2CCC(C3CCC(CCCC4CCCC4)C3)CC2)CC1', 'C1CCC(CCCC2CCC(C3CCCC3)CC2CCC2CCCCC2)CC1', 'C1CCC(CCCCC2CCCC(C3CCC4CCCC4C3)C2)C1', 'C1CCC(CCC2CCCC2CCC2CCC3CCCC3C2)C1', 'C1CCCCC2CC2(CCCC2CC2)CCC2CC(CC3CC(C4CCCC4)CC4CCCCC43)CC2CCC1', 'C1C2CC3CC1CC(CCC1CCC4CC14)(C2)C3', 'C1CCCC(CCCC2CCC(CC3C4CCCCC4CC3C3CCCCC3)CC2)CC1', 'C1CCC(CC2CCCCCCC3CCCC3CCCCC2CCCCC2CCC3CCCCC3C2)CC1', 'C1CCC2CC(C3CC4CC3C3CC43)CC2C1', 'C1CCC2C(C1)CCC1C2CCC2C3CCCC3CCC21', 'C1CCC(CC2CCCC(CC3CCC4CCCC4C3)C2)CC1', 'C1CCC(C2CCC(CC3CCC4C(CCCC5CCCC5)CC4C3)C2)CC1', 'C1CCC(CCCCC2CCC3CCCCC23)CC1', 'C1CCC(C2CCC(C3CCC4CCC(C5CCCCC5)C4C3)CC2)CC1', 'C1CCC(CCCCC2CCC(CC(CC3CCC(C4CCCCC4)C3)C3CCCCC3)C2)CC1', 'C1CCC(CCC2CCC(CC3CCCCCC(CC4CCC5CCCCC54)CCC(C4CCCCC4)CCC4CCCC4CC(CC4CCCCC4)CC3)CC2)CC1', 'C(CCC1CCC2CCCCC12)CC1CCC(C2CCC3CCCC3C2)CC1', 'C1CCC(CCC2CCC3CC(CCC4CCCCC4)CC3C2)CC1', 'C1CC2CCCC3CC4CCC(C1)C23CC4', 'C(CCCC1CCCC1)CCCC(CCC(CCCCCC(CCC(CCCCC1CCC2CCCCC2C1)CC1CCCCC1)CC1CCCCC1)CC1CCC(CCC2CCCCC2)CC1)CC1CCCCC1', 'C1CCC(CC2C3CCCCC3C3CCCCC32)CC1', 'C1CCC(CC2CCCC3CCCCC32)C1', 'C1CCC2C(C1)CC1CC2CC2CCCCC21', 'C1CCC(C2CCC3C(CCC4CCCCC43)C2)CC1', 'C1CCCCCCCC(CCCC2CCCCC2)CCCCCCC1', 'C1CC2CC34C5CCC36CCCC6CC4(CC5)C2C1', 'C1CCC(CCC2CCCC(CCC3CCC4C3CCC3C5CCC(CC6CCCCC6CC6CCCCC6)CC5CCC43)C2)CC1', 'C1CCC(CCC2CCC3C2CCC2C4CCCCC4C(CC4CCCCC4)CC32)CC1', 'C1CCCC(C2CCC3CCCC(C4CC4)C3C2)CC1', 'C(CCCC1CCCC1)CCCC(CCC(CCCCCC(CCC(CCC1CCCC1)CC1CCCC1)CC1CCC2CCCCC21)CC1CCCCC1)CC1CCC(CC2CCCCC2)C1', 'C1CCCCCCC(CCCCC2CCC3CCCCC3C2)CCC(CC2CCCCC2)CCC(CC2CCC3CCCCC32)CCCCCC1', 'C1CCCCCCC(CC2CCC(CC3CCCCCCCCCCCCC3)CC2)CCCCCC1', 'C1CCC(CC2CCCC(CC3CCCC(CC4CCC5CC6CC(CC7CCCC(CC8CCCCC8)C7)CCC6CC5C4)C3)C2)CC1', 'C1CCC(C2CCC(CCC3CCC4CCCCC4C3)C2)CC1', 'C1CCC(CCCC2CCCC(CCCC3CCCC3)C2)CC1', 'C(CCCC1CCCC1)CCCC(CCC(CCCCCC(CCC(CCC1CCCC1)CC1CCCC1)CC1CCC2CCCCC21)CC1CCCCC1)CC1CCC2CCCCC21', 'C1CCCCCCCC(C2CCCCC2)CCCCCCC1', 'C1CCC(C2CC3CCCCC3CC2CCC2CCCC3CCCC32)CC1', 'C1CCC(CCCC2CC(C3CCCCC3)C3CCCCC23)CC1', 'C1CCC(CCC2CCC(CCC3CCC4CCC5CCCC5C34)CC2)CC1', 'C1CCC(CCCC2CCCC2CCCC2CCCC2)CC1', 'C1CCC2C(C1)CCC2CC1CCC2(CC1)CCC1CCCCC12', 'C1CCC(CCCC2CCC3(CC2)CCC2CCCCC23)CC1', 'C1CCC(CCCC2CCCC2CCCC2CCCCC2)CC1', 'C1CCC2CC(C3CCC4CCCCC4C3CC3CC4CCC3CC4)CC2C1', 'C1CCCC(CCCC2CCCC2CCCC2CCCCC2)CC1', 'C1CCC(CC2CCCC(C3CC4CCCCC4C3)C2)CC1', 'C1CCCC(CCCC2CCCC2CCCC2CCCCC2)CCC1', 'C1CCC(CCCC2CCCC2CCC2CCCCC2)CC1', 'C1CCC(CCC2CCC3CCC(C4CCC(C5CCCCC5)CC4)CC23)CC1', 'C1CCC(CC2CCC3(CC2)CCC2CCCCC2C3)CC1', 'C1CCC(C2CCCC2CCCC2CCCC3CCCCC32)CC1', 'C(CCCC1CCCC1CCCCC1CCCCC1)CCC1CCCCC1', 'C1CC2CCC3CC2C(C1)CC1CCC(CCC2CC4CCCC3C4C2)C1', 'C1CCC(C2CCCC(CCC3CCC(CC4CCCC5CCCC54)CC3)C2)CC1', 'C1CCC(CCC2CCC3CCC(C4CCCCC4)C3C2)CC1', 'C1CC2CCC3CCCC23C1', 'C1CCC(C2CCC(CC3CCC4CCCCC43)C2)CC1', 'C1CCC(CCCC2CCC3CCCC3C2CC2CCCCC2)CC1', 'C1CCC(CC2CCCC(CC3CCCCC3)CC2)CC1', 'C1CCC(CCC2(CC3CCCC3)CCCC2)CC1', 'C(CCC1CCCC1C1CCCC(C2CCCC2)C1)CC1CCC2CCCC2C1', 'C1CCC(CCC2CCCC2CCC2CCC(C3CCCCC3)CC2)CC1', 'C1CCC2CC(CCC3CCCC4CCCCC43)CC2C1', 'C1CCC(CCC2CCCC(C3CCC4CCCCC4C3)C2)CC1', 'C1CCC2C(C1)CCC1CCC3CCCCC3C12', 'C1CCC(CC2CCCC3CCC(C4CCCCC4)CC32)CC1', 'C(CC1CCC2CCCCC2C1)CC1CCC(C2CC2)C1', 'C1CCC(CCC2CC(CC3CCCCC3)CC3CCCC32)CC1', 'C1CCC(C2CCCCC2CCC(C2CCCCC2)C2CCCC2)CC1', 'C1CCCC(CC2CC3CCCCC3C2)CC1', 'C1CCC(CC2CCC(C3CCCC3C3CCCCC3)CC2)CC1', 'C(CCC1CCC2CCCCC12)CC1CCCC(C2CCC3CCCCC3C2)C1', 'C1CCC(CCC2CCC(CC3CCC4(CC3)CCC3CCCCC34)C2)CC1', 'C1CCC(C2CCC3C(C2)CC2CCCCC23)CC1', 'C(CCCC1CCCC1)CCC1CCCC1', 'C1CCC(CCCC2CCCC(C3CCCC4CCCC43)C2)C1', 'C1CCC(CCC2CC3CCCC3C2)CC1', 'C1CCC(CC23CCCC2CC(C2CCCCC2)C3)CC1', 'C1CCC(C2CCCC(C3CCC4CCCCC4C3)C2)CC1', 'C1CCC(C2CCC(CCCC3CCCC4CC5CCCC5C34)C2)C1', 'C(CCC1CCC2CCCCC12)CC1CCCC(C2CCC3CCCC3C2)C1', 'C1CCC2CC(CCC3CC4CCCC4C3)CC2C1', 'C1CCC(C2CCC(C(CCC3CCCC3)CC3CC3)C2)CC1', 'C1CCC(CCCCCC2CCC(CC3CCCCC3)CC2)CC1', 'C1CCC(CCCCCC2CCC(CC3CCCC4CCCC43)CC2)CC1', 'C1CCC(CC2CCC3CCC(C4CCCCC4)CC32)CC1', 'C1CC2CCC(CCC3CCC4CCCCC4C3)CCC2C1', 'C1CC(CC2CCC(C3CCCC3)CC2)CC(CC2CCC3CCCC3C2)C1', 'C1CCC2CC(C3CCCC4CCCCC43)CC2C1', 'C1CCC(CCCC2CCC(C3CCCC3C3CCCCC3)C2)CC1', 'C1CCC(CCC2CCC(C3CCC4CCCC4C3)C2)CC1', 'C1CCC(CC2CCC(CC3CCC4CCCCC4C3)C2)C1', 'C1CCC2CCCC(CCCCCC3CCCC(CC1)C3)C2', 'C1CCC(CCC2CCCC(C3CCC4CCC(C5CCCC5)CC43)C2)C1', 'C1CCC(CCCC2CCC(C3CCCC3)CC2)CC1', 'C1CCC(C2CCC3CCCC(C4CCCC4)C3C2)CC1', 'C1CCC(CC2CCC3CC(C4CCC5CCCCC5C4)CC3C2)CC1', 'C1CCC(C2CCC(CCCC3CC4CCCC3C4)CC2)CC1', 'C1CCC(C2CC3CCCCC3C3CCCC23)CC1', 'C1CCC(CC2CCC(CCCCC3CCC4CCCCC4C3)CC2)CC1', 'C1CCC(C2CCC(C3CCCC4CCCCC43)CC2)CC1', 'C1CCC(CCC2CC3CCCCC3C2C2CCCC2)CC1', 'C(CCC1CCC2CCCC2C1)CCC1CCC2CCCC2C1', 'C1CCC(CCC2CC3CCCCC3C2)C1', 'C1CCC(C2CCC3CCC(C4CCCC4)CC32)CC1', 'C1CCC(CCCCC2C3CCCCC3C3CCCCC23)CC1', 'C1CCC2CC(C3CCC4CCCC4C3)CCC2C1', 'C1CCC2CC(CC3CCC4CCCCC43)CC2C1', 'C1CCC2CC(CCC3CC4CCCC4C3)CCC2C1', 'C1CCC(C2CCC(CCCC3CCCC3)C2)CC1', 'C1CCC(C2CCC(C3CCC4CCCC4C3)CC2)CC1', 'C1CCC(CC2CCC3CC(C4CCC5CCCCC54)CC3C2)CC1', 'C1CCC(CC2CCCC(CCC3CCC4CCCCC4C3)C2)C1', 'C1CCC(C2CCC3C(CC4CCCC4)CCC3C2)CC1', 'C1CCCC2CCCCC2CCCCCCCC2CCCCC2CCC1', 'C1CCC(C2CCC3CCCC2C3)CC1', 'C1CCC(CCCC2CCC(C3CCC4CCCC4C3)CC2)C1', 'C1CCC(CCC2CCCC(CCCCC3CCC4CCCCC34)C2)CC1', 'C1CCC(C2CCC3CC(C4CCCCC4)CCC3C2)CC1', 'C1CCC(CC2CCC(C3(C4CCC(C5CCCCC5)CC4)CCCCC3)CC2)CC1', 'C1CCC(CC(CC2CCCCC2)(C2CCCC2)C2CCCC2)CC1', 'C1CCC(C2CCC(C3CCCC3)C2)CC1', 'C1CCC(CCCC2CCC(C3CCCC4CCCC43)CC2)C1', 'C(CC1CCC(C2CCCC2)CC1)CC1CCC(C2CC2)C1', 'C1CCC(CC2CCC3C(CCCC3C3CCCCC3)C2)CC1', 'C1CCC(CCCC2CCCC(C3CCCCC3)C2)CC1', 'C1CCC(C2CCC(CCC3CCCC4CCCCC43)CC2)C1', 'C1CCC(CCCC2CCCC3CC(C4CCCCC4)C(C4CCCCC4)C23)CC1', 'C1CCC2C(C1)CCCC2CCC1CCC(CC2CC2)CC1', 'C1CCC(CCC2CCC3CCC(CC4CCCC4)C3C2)CC1', 'C1CCC(CC2CCC(CCC3CCCC4CCCCC43)CC2)C1', 'C1CCC(CC2CCCC(CC3CCC4CCCCC4C3)C2)CC1', 'C1CCC(C2CCC3CCCC4CCC2C34)C1', 'C1CCC2C(C1)CCC2C1CCCC(CC2CC2)C1', 'C1CCC(CCCC2CCCC(CCCCC3CCC4CCCCC34)C2)CC1', 'C1CCC(CC2CCCC(CC3CCC(C4CC4)C3)C2)CC1', 'C1CCC(CC2CCC(CCC3CCCC3)C2)CC1', 'C1CCC(CCC2CCCCC2CCC2CCC(CC3CCCCC3)CC2)CC1', 'C1CCC(C2CCC(CCC3CCC4CC(CCC5CCCC5)CC34)CC2)CC1', 'C1CCC(C2CC3CCCCC3C(CCC3CCC(C4CCC5(CC5)C4)CC3)C2)CC1', 'C1CCC(CC2CCCC2C2CCCC2)CC1', 'C1CCC(C2C3CCCCC3CCC2C2CCCC2)CC1', 'C1CCC(C2CCC3C(CCCCC4CCC5CCCCC45)CCCC3C2)CC1', 'C1CCC(C2CCC(C3CC4CCCCC4C3)C2)CC1', 'C1CCC(CCC2CCC(CCCCC3CCCC3)C2)CC1', 'C1CCC(CC2CCC3CC(C4CCC5CC(C6CCCC6)CCC54)CC3C2)CC1', 'C1CCC(CCCC2CCC(C3CCCCC3)C2)CC1', 'C1CCC(C2CC3CCCCC3C(C3CCCCC3)C3CCCCC23)CC1', 'C1CCC(CCCC2CCCC2CCCCC2CC2)CC1', 'C1CCC(C2CCC(CCCC3CCC4CCC(C5CCCC5)CC34)CC2)CC1', 'C1CCC(CCCCC2CC2)C1', 'C1CCC(CC2CCCC2CC2CCC(C3CCCCC3)CC2)CC1', 'C1CCC(CCCC2CC2CCCCC2CCCC2)CC1', 'C1CCC(CCC2CCC2CC2CCCCC2)CC1', 'C1CCC2CC(C3CCC4CCCCC43)CCC2C1', 'C1CCC(CCC2CCC(CC3CCC(C4CCCC4)CC3)CC2)C1', 'C1CCC(C2CC3CCC(C4CC4)CC3C2)CC1', 'C1CCC2C(C1)CC1C3CC4CCCCC4C3C3CCCC3C21', 'C1CCC2(CC1)CCC1CC3CCCCC3C1C2', 'C1CCC2C(C1)CCC2CCC1CC2CCC(C2)C1', 'C1CCC(CC2CCC3CCC(C4CCCCC4)C3C2)CC1', 'C1CCC(CCCCC2CCC3C(CCCC3CC3CCCC4CCCC43)C2)CC1', 'C1CCC(CC2CCCC(CC3CCCC4CCCC43)C2)CC1', 'C1CCC(C2CCCC(CC3CCCC(CC4CCCC5CCCC54)C3)C2)CC1', 'C1CCC(C2CC3CCCC3C3CCCC23)CC1', 'C1CCC(CCC2CCC(CCC3CCCC3)CC2)CC1', 'C1CCC2CC(CC3CCC(CCC4CC5CCCCC5C4)C3)CCC2C1', 'C1CC2CC3CC4C5CCCC5CCCC4C3CC2C1', 'C1CCC(CC2CC(C3CCCCC3)CC3CCCCC32)CC1', 'C1CCC(CCC2CC3CCCC(C4CCCCC4)C3C2)CC1', 'C1CCC2C(C1)CCCC2CC1CCC2C(CCC3CC3)CCCC2C1', 'C1CCC2CC(C3CCC4CCCCC4C3)CCC2C1', 'C1CCC(C2CCC(CCC3CCCCC3C3CCCCC3)CC2)CC1', 'C1CCC(CCC2CCCC(C3CCCC3)C2)CC1', 'C1CCC(C2CCC(CC3CCCC4CCCCC43)C2)CC1', 'C1CCC(C2CCC3CCC4CCCCC4C3C2)C1', 'C1CCC(C2CCCC3CC(C4CCCC(CCC5CC5)C4)CCC32)CC1', 'C1CCCC2CCCC(CCCC3CCCCC3CCC1)C2', 'C1CCC(CC(C2CCC(CC3CC3)CC2)C2CC2)CC1', 'C1CCC(CCC2CCC3C(C2)CC2C(C4CCCCC4)CCC32)CC1', 'C1CCC(CCC2CCCCC2CCC2CCCC2)CC1', 'C1CCC(CCCC2CCCC(CCC3CCCC3)C2)CC1', 'C1CCC(CCC2CCCC3C(CC4CCCCC4)CCC23)CC1', 'C1CCC(CCCCC2CCC(CC3CCCC3)C2)CC1', 'C1CCC(C2CCCC(C3CCC(CC4CCCC(CCCC5CC5)C4)C3)C2)CC1', 'C1CCC(CC2CCC(C3CCCC(C4CCCCC4)C3)C2)CC1', 'C1CCC(C2CCC3C(CCC3C3CC4CCCCC4C3)C2)CC1', 'C1CCC(CC2CC(CC3CCC(C4CCCCC4)CC3)CC3CCCC32)CC1', 'C1CCC(CCC23CC4CC(CC(C4)C2)C3)C1', 'C1CCCCCC2CCCC2CCCCC1', 'C1CC2CC3CC4C5CCCCC5CCC4C3CC2C1', 'C1CCC(CCC2CCCC(CC3CCCC3)C2)C1', 'C1CCC(CC2CCC(CC3CCCC3)CC2CCC2CCCC2)CC1', 'C1CCC(CCCC2CCC(CCCC3CCCC4CCCC34)C2)CC1', 'C1CC(CC2CCC3CCCC3C2)CC(CC2CCC(C3CC3)C2)C1', 'C1CCC(C2C3CCCCC3C(C3CCCCC3)C2C2CCCCC2)CC1', 'C(CCCC1CC2CCC(C1)C2)CCC1CCCCC1', 'C(CC1CCC2CCCCC2C1)CC1CCC2C(C1)CC1CCCCC12', 'C1CCC2CC(CCC3CC3)CC2C1', 'C1CCC(CCC2CCC3CC4CCCCC4C3C2)C1', 'C1CCC(C2CCCC3C4CCCCC4CC23)CC1', 'C1CCC(CC2CCC(C3CCC4CCCCC43)C2)CC1', 'C1CCC(C2CCC3C(CCC4CC5CCCCCC5C43)C2)CC1', 'C1CCC2C(C1)CC1CCC3CCCC4CCC2C1C34', 'C1CCC2C(C1)CC1CCC3CCCC3C12', 'C1CCC(CC2CC3CCCCC3C3(CCCC3)C2)CC1', 'C1CCC(CCCC2CC2C2CCCCC2)CC1', 'C1CCC(CCC2CC(C3CCCC3C3CCC4CCCCC43)C3CCCCC23)C1', 'C1CCC(CC2CCCC(CC3CCC(C4CCCCC4)CC3)C2)CC1', 'C1CCC(C23CCCC2CC2CCCCC23)CC1', 'C1CCC(CCC2CCCCC2C2CC3CCC(C4CCCC4)CC3C2)CC1', 'C1CCC(CC2CCC(CC3CCCCC3)C2)CC1', 'C1CCC2C(C1)CCC1CCCCC1C2CC1CC2CCC(C2)C1', 'C1CCC(CCC2CCC3CC(CC4CCCCC4)CC3C2)CC1', 'C1CC2CC3CCCC3CC2C1', 'C1CCC2CC(C3CCCC(C4CCC5CCCC5C4)C3)CCC2C1', 'C1CCC(CCC(CCC2CCCCC2)CCC2CC2)CC1', 'C1CCC(C2CCC(CC3CCCC3)C2)CC1', 'C1CCC(CCC2CCCC(CCCCC3CCCC3)C2)CC1', 'C1CCC(CC2CCCC(CC3CCCC(CCC4CC4)C3)C2)CC1', 'C1CCC(C2CCCC(C3CCC4CCCCC43)C2)C1', 'C1CCC(C2CCC(CC3CC4CCCCC4C3C3CCCCC3)CC2)CC1', 'C1CCC(CCCC2CC3CC4CCCCC4CC3C2)CC1', 'C1CCC(CCC(CCC2CCCC3CCCC32)C2CCCCC2)CC1', 'C1CCC(CCC2C3CCCCC3C(C3CCCCC3)C2C2CCCCC2)CC1', 'C1CCC2C(C1)CCC2CC1CCC(C2CCC3CCCCC32)CC1', 'C(CCC1CCCC1)CCC1CCC(CCC2CC2)C1C1CCC1', 'C1CCC(CCC2CCC(CCCC3CCCC4CCCCC43)C2)CC1', 'C1CCC(C2CCCCC2CC2CCCC3CCCC32)C1', 'C1CC2CCC(C3CCCC4CCCC43)CC2C1', 'C1CCC(CCC(CCCC2CCCC2)CCC2CC2)CC1', 'C1CCC(CCCC(CCC2CCCCC2)CCC2CC2)CC1', 'C1CCC2CC3CC4CCCC4CC3CC2C1', 'C1CCC(CCCC2CCC3CCC(C4CCCCC4)C3C2)CC1', 'C1CC2CCC3C2C(C1)CC1CC2CCCC2C13', 'C1CCC2CC(CC3CCC(CC4CC5CCCCC5C4)CC3)CC2C1', 'C1CCC(CCCC2CCC3CCC(CCC4CCCCC4)C3C2)CC1', 'C1CCC(CCCC2CCCC3C2CC2C(C4CCCCC4)CCC32)CC1', 'C1CCC(CC(C2CCC(C3CCCCC3)CC2)C2CC2)CC1', 'C1CCC(CCCC2CCCC3C2CC2C(C4CCCC4)CCC32)CC1', 'C1CCC(CC2CCC(CC3CC3)CC2)CC1', 'C1CCC(CC2CCC3C(C2)CC2CCCC23)CC1', 'C1CCC(CCC2CC3CCCCC3C2)C(CCC2CC3CCCCC3C2)C1', 'C1CCC(CC2CCC(CCC3CCCC4CCCCC43)CC2)CC1', 'C1CCC(CCCC2CCC(CC3CCC4CCCCC43)C2)CC1', 'C(CCCCC1CCC(CC2CCCCC2)CC1)CCCC1CCCCC1', 'C1CCC(C2CCCC(C3CCC(C4CCCCC4)C3)C2)CC1', 'C1CCCCCCC2CCC(CCCCC1)CC2', 'C1CCC2CC(CCCC3CCC4CCCCC43)CCC2C1', 'C1CCC(CCC2CC3CCCC3C(CC3CCCCC3)C2)CC1', 'C1CCC(CC2CCC(CCC3CCC4CCCCC4C3)CC2)CC1', 'C1CCC(CCC2CCCC(CC3CCC4CCCCC4C3)C2)CC1', 'C1CCC2(CC1)CCC1C3CCC4CCCCC4C3CCC12', 'C1CCC(CCC2C3CCCCC3CC3CCCC32)CC1', 'C1CCCC2CC3CC4CC5CCCCCC5CC4CC3CCC2CC1', 'C1CCC(CCCCC23CCCC2C2CCC4CCCCC4C2CC3)CC1', 'C1CCC(CC2CC3C4CCCC4C(C4CCCCC4)C3C2)CC1', 'C1CCC(CCC2CCC(CCC3CCCC3)C2)CC1', 'C1CCC(CC2CCC(C3CCC(CC4CCCCC4)C3)CC2)CC1', 'C1CCC(CCCCC2CCCC2CCCC2CCCCC2)CC1', 'C1CCC(C2CC3C4CCC(CC4)C3C2)CC1', 'C1CCC(C2CC3CCCC(CCCC4CCCC4)C3C2)CC1', 'C1CCC(C2CCC(CCCCC3CCCC4CCCCC34)CC2)CC1', 'C1CCCCCCC2CCCCC2CCCCC1', 'C1CCC(CCCC2CCC(CCCC3CCCC(CC4CCCC4)C3)C2)C1', 'C1CCC(CC2CCCC(C3CCCC3C3CC3)C2)CC1', 'C1CCC(C2CC3CCCCC3C2C2CCC3CCCC3C2)CC1', 'C1CCC(CCC2CCCCC2CCC2CCC(C3CCCCC3)CC2)CC1', 'C(CCCCC1CCCC2CCCC12)CCCC1CCCCC1', 'C1CCC(CCC2CCC(CCC3CCC(C4CCCC4)C3)C2)CC1', 'C1CCC(CCCC(CCCC2CCCCC2)C2CCCC2)CC1', 'C1CCC(C2CCC(C3CCCC(CCC4CC4)C3)CC2)C1', 'C1CCC(CCCC2CCC(C3CCCC4CCCC43)C2)CC1', 'C1CC2CCC3(C1)C2CC12CCC(CCC13)C2', 'C1CCC(C2CCC(CC3CCCC(CCCC4CCCC4)C3)CC2)CC1', 'C1CC2C3CCC(C3)C2C1', 'C1CCC(CCCC2CCC3CCC(CC4CCCCC4)CC3C2)CC1', 'C1CCC(C2CCC(CCC3CCC4CCCC4C3)CC2)CC1', 'C1CCC(CC2CCCC3CC(C4CCCC4)CCC23)CC1', 'C1CCC(CCC2CCC(C3CCCC(C4CCCC4)C3)CC2)CC1', 'C(CC1CC1)CC1CCC(C2CCCC(C3CCCC3)C2)CC1', 'C(CC1CC1)CC1CCC(C2CCCC(CCC3CC3)C2)CC1', 'C1CCC(C2CCC3CCC(C4CCC5CCCCC5C4)CC32)CC1', 'C1CCC(CCCCCC(CC2CCCCC2)CC2CC3CCCCC3C2)CC1', 'C1CCC(CC2CCC3CCCC(C4CCCCC4)C32)CC1', 'C1CCC(CCC2CCC(CCC3CC4CCCCC4C3)C2)CC1', 'C1CCC(CCC2CCC(CCC3CCC4CCCCC4C3)C2)CC1', 'C1CCC(CC2CC3CCCCC3C(CC3CCC(C4CC4)C3)C2)CC1', 'C1CCC(CC2CCC(C3CCCC4CCCC43)CC2)CC1', 'C1CCC(C2(C3CCC(C4CCCC5CCCC54)CC3)CCCCC2)CC1', 'C1CCC(CC2CCC(C3CCCC3)CC2)CC1', 'C1CCC(C2(C3CCC(C4CCCC4)CC3)CCCCC2)CC1', 'C(CCC1CCC2CCCCC2C1)CC1CCC2CCCCC2C1', 'C1CCC2C(C1)CCCC2CCCC1CC1', 'C1CCCC(CC2CCCC2)CCC1', 'C1CCC(C2CCC(CCCC3CCC(CCC4CCCC4)C3)CC2)CC1', 'C1CCC(C2CCC3CC(CC4CCCC4)CCC32)CC1', 'C1CCC(CCCC2CCCC3C2CCC2CC23)CC1', 'C1CCC(CC2C3CCC(C3)C2C2CCCCC2)CC1', 'C1CCCCCC2CC2C2CCCCC2CCCC1', 'C(CCCC1CCCC1)CCCC1CCC2CCCCC2C1', 'C1CCC(C(CC2CCC(CCCC3CCCC3)CC2)C2CCCCC2)CC1', 'C1CCC(C2C3CCC(C3)C2C2CCCCC2)CC1', 'C1CCC(CCCCCC(CCCC2CCCCC2)CC2CCCCC2)CC1', 'C1CCC(CC2CCC(CC3CCCC(C4CCCC4)C3)CC2)C1', 'C1CCC(CCCC2CCCC3C(CC4CCCCC4)CCC23)CC1', 'C1CCC(CC2CCCC3CC(C4CC4)CCC23)CC1', 'C1CCC(CCCCC2CCCC(CCC3CCCCC3)C2)CC1', 'C1CCC(CC2C3CCCCCC3C3CCCCC32)CC1', 'C(CCCCC1CCCCC1)CCCCC1CCCC2CCCCC12', 'C1CCC(CCC2CCC3C(CC4CCCCC4)CCCC23)CC1', 'C1CCC(CCCCC2CCCCC2CC2CCCC3C(C4CCCC4)CCC23)C1', 'C1CCC(CC2CCC(C3CC4CCCCC4C3)CC2)CC1', 'C1CCC(CCC2CC3CCCCC3C2CC2CCCCC2)CC1', 'C1CCC(CCCC2C(CCC3CCCCC3)CC3CCCCC32)CC1', 'C1CCC(C2CCC(CC3CCCC(C4CCCC4)C3)CC2)CC1', 'C1CCC(CCCCC(CCCC2CCCC2)C2CCCCC2)CC1', 'C(CCCC1C2CCCCC2CC1C1CCCCC1)CCC1CCCCC1', 'C1CCC(CCC2CCCC(C3CCC4CCCC4C3)C2)CC1', 'C1CCC(CCC2CCC(C3CCC4CCCC4C3)CC2CCC2CCCCC2)CC1', 'C(CCCCC1CCCC2CCCCC12)CCCC1CCCCC1', 'C(CCCC1CCC(C2CCCC2)CC1)CCC1CCCCC1', 'C1CCC2CC3CC(CC4CCCC5CCCC54)CCC3CC2C1', 'C1CCC(CCC2CCCC3C(CC4CCCC5CCCCC54)CCC23)CC1', 'C1CCC2C(C1)CCCC2CC1CCC2CCCCC21', 'C1CCC(C2CCCC3C(CC4CCCC5CCCCC54)CCC23)CC1', 'C1CCC(CCCCCC2CCCC2CC2CCCCC2)CC1', 'C1CCC(CCCC2CCCC(CC3CC4CCCCC4C3)C2)CC1', 'C1CCC(C2CCC(CCCC3CCCC3)CC2)CC1', 'C1CCC(CCC2CCCC(C3CCCC(CC4CCCCC4)C3)C2)CC1', 'C1CCC(C2C3CCCCC3C3CCCC4CCCCC4C32)CC1', 'C1CCC(CCC2CC(C3CCCCC3)CC2C2CCCCC2)CC1', 'C1CCC(C2CCC(CC3CCC4CCCC4C3)CC2)CC1', 'C1CCC(CCCCC2CCCCCC2CC2CCCCC2)CC1', 'C1CC2CCC(C3CC(C4CCCC4)C4CCCCC34)CC2C1', 'C1CCC(C2CC(C3CCC3)C3CCCCC23)CC1', 'C1CCC(CC2CCC(C3CCCCC3)C3CCCC23)CC1', 'C1CCC(CC2CC3CCC(C4CCCCC4)CC3C3CCCC23)CC1', 'C1CCCC(CC2CCCC(CC3CCCC4CCCCC43)C2)CC1', 'C1CC2CCC3C(CC4CCC5CCCC3C54)C2C1', 'C1CCC(CC2CC(CC3CCCCC3)C(C3CCCCC3)C2)CC1', 'C1CCC(CCC2CCCC(CCCC3CCCC3)C2)CC1', 'C1CCC(CCC2CCCC2C2CC3CCCCC3C2)CC1', 'C1CCC(CC2CCC3CC(C4CCCC4CCCC4CC4)CC3C2)CC1', 'C1CCC(CCC2CCCC(CCC3CCCC(C4CCCCC4)C3)C2)CC1', 'C1CCC(C2CCC3CCC(CCC4CCCC5CCCCC54)C3C2)CC1', 'C1CCCCCC2CC(CCCCC1)CC(C1CCCC1)C2', 'C1CC2CC(C3CCCC4CCCCC43)CC2C1', 'C1CCC(CCC2CCC3CCC(CCC4CCCC(C5CCCCC5)C4)CC23)CC1', 'C1CCC(C2CCCC(CCC3CCC4CCCC4C3)C2)CC1', 'C1CCC(C2CCC3CCC(C4CCCCC4)CC3C2)CC1', 'C(CCCC1CCCCC1)CCCC1CCC2CCCCC12', 'C1CCC(CCC2CCC3CCC4CCCC4C23)CC1', 'C1CCC(C2CCC3CCC(CCC4CCC5CCCC5C4)C3C2)C1', 'C1CCC(CCC2CCC(CCC3CCC4CCCCC43)CC2)C1', 'C1CCC2C3CCC(C3)C2C1', 'C1CCC(CCC2CCCC2CCC2CCCCC2)CC1', 'C1CCC(C2CC3CCCCC3CC2C2CCCC2)CC1', 'C1CCC(C2CCC(C3CCCC4CCCC43)CC2)CC1', 'C1CCC(C2CCC3(CCCCC3)C2)CC1', 'C1CCCCCCC2CCCCC2CCCCCC1', 'C1CCC(CC2CCCC(CCC3CCC4CCCCC43)C2)CC1', 'C1CCC(C2CCC(C3CCCC(C4CCCCC4)C3)CC2)CC1', 'C1CCC(C2CCC(CCCCC3CC3)CC2)CC1', 'C(CCCC1CCC(C2CCCCC2)CC1)CCC1CCCC1', 'C1CCC(C2CCC(CCC3CCCC3CCC3CCCC3)CC2)CC1', 'C1CCC(CCC2CCCC2CC2CCC3CCCC3C2)CC1', 'C1CCC(CC2CCCC(C3CCCC(CC4CCCC4)C3)C2)CC1', 'C1CCC(CC2CCC3C2CCC2C4CCCCC4CCC23)CC1', 'C1CCC(CCC2CCCC(CC3CCCCC3C3CCCCC3)C2)CC1', 'C1CCC(CCCCC(CC2CCCC2)CC2CC2)CC1', 'C1CCC(CCCCC2CCC3CCCCC23)C1', 'C1CCC2C(C1)CCCC2CCC1CCC2CCC(C3CCCC3)C2C1', 'C1CCC(CC2CCCC3C(C4CCCCC4)CCC23)CC1', 'C1CCC(C2CC(CCC3CC3)C(C3CCCCC3)C2)CC1', 'C1CCC(CC2CCC3CCCCCC3C2)CC1', 'C1CCC(CCCCC2C3CC4CC(C3)CC2C4)CC1', 'C1CCC2CC(C3CC4CCCCC4C(CCC4CC4)C3)CCC2C1', 'C1CCCCCC2CCCCC2CCCCC1', 'C1CCC(C2CC3CCCCC3C(C3CCCCC3)C2)CC1', 'C1CCC(CC2CCC3CC(C4CCCC4)CCC3C2)CC1', 'C1CCC(CC(CC2CCCCC2)CC2CCCC2)CC1', 'C1CCC(CC2CCC(CC3CCC(CC4CCCC4)CC3)CC2)C1', 'C1CCCC2CCC3C(CC4CC4)CC(CC4CCCC(CC1)C4)CC23', 'C1CCC(CC2CCCC(CC3CCCC3)C2)CC1', 'C1CCC(CC2CC(CCCC3CCCC3)C3CCCC3C2)CC1', 'C1CCC(C2CCC3C(CC4CCCC(CCC5CC5)C4)CCCC23)CC1', 'C1CCC(CCCC2CCC3CC(C4CCCC(CCC5CC5)C4)CCC3C2)CC1', 'C1CCC(CC2CCC3CCC4CCCC4C3C2)CC1', 'C1CCC2CC(C3CCCC(C4CC5CCCCC5C4)C3)CCC2C1', 'C1CCC(CC2CC(C3CCCCC3)CC3CCCC32)CC1', 'C1CCC(CCCCC2CCCC34CC5CC(CC5C3)C24)CC1', 'C1CCC(C2CCC(CC3CCCC3)CC2)CC1', 'C1CCC(C2CCC(C3CCC(CC4CCCC4)C3)CC2)CC1', 'C1CCC(CC2CCCC2C2CCC(CCC3CCC4CCCCC4C3)CC2)CC1', 'C1CCC(C2CCCC2C2CCC(CCC3CCC4CCCCC4C3)CC2)CC1', 'C1CCC2CC(CC3CCC(C4CCCC5CCCCC54)C3)CCC2C1', 'C1CCC(CCC2(C3CCCC3)CCCCC2)CC1', 'C1CCC(CC2CCCC(C3CCCC3C3CCCCC3)C2)CC1', 'C1CCC2CC(CC3C4CCCCC4CCC4CCCCC43)CCC2C1', 'C1CCC(CC2CCC3C(CCC4C5CCCCC5CCC34)C2)CC1', 'C1CCC(CCCCCC2CCCC2CCCC2CCCCC2)CC1', 'C1CCC(CC2CCCC(CC3CCC(C4CCCCC4)C3)C2)CC1', 'C1CCC2CC(CCC3CCC(CC4CC5CCCCC5C4)C3)CC2C1', 'C1CCC(CCCCC2CCC(C3CCC4CCCCC43)C2)CC1', 'C1CCCC2CCCC(C2)CC2CCCC(CC1)C2', 'C1CCC(CC2CCC(CC3CCC4CCCCC43)CC2)CC1', 'C1CCC(CC2CCCC(CC3CCC4CCCCC43)C2)CC1', 'C1CCC(C2CC3CCCCC3C(CC3CCC4CCCC4C3)C2)CC1', 'C1CCC(C2CC3CCCCC3C(CC3CCCC3)C2)CC1', 'C1CCC(CC2CCCCC2CCCC2CCCC2)CC1', 'C(CCCC1CCC(CC2CCCCC2)CC1)CCC1CC1', 'C1CCC(C2CCC(CCC3CCCC4CCCC43)CC2)CC1', 'C1CCC(CCC2CCC(C3CCC(C4CCCC4)C3)CC2)C1', 'C1CCCCCCCCCCCC1', 'C1CCC(CCC2CCC(CC3CCCC3)C2)CC1', 'C1CCC(CCCC2CCC(CC3CC4CCCCC4C3)CC2)C1', 'C1CCCCCC2CC(CCCC1)C1CCCCC21', 'C1CCC2(CC1)CCC(C1CCC3CCCCC3C1)C2', 'C1CCC2CC3CC(CCC4CCCC5CCCCC54)CC3CC2C1', 'C1CCC(CCC2CC3CC4CCCCC4CC3C2)C1', 'C1CCCCCCCCCC2CCCCC2CCCCCCCCC1', 'C1CCC(C2CCC3CCC4CCCC4C32)CC1', 'C1CCC(CC2C3CCCCC3CC2C2CCCCC2)CC1', 'C1CCC(CCC2CC(C3CCCCC3)CC3C(C4CC4)CCC23)CC1', 'C1CCC(C2CCC(C3CCC4CCCCC4C3)CC2)C1', 'C1CCC(C2CCC(CCCCC3CCC(C4CCCCC4)CC3)CC2)CC1', 'C1CCC(C2C3CCCC3C3CC(CC4CCC5CCCC5C4)CC32)CC1', 'C1CCC(C2CC(C3CCCCC3)C(C3CCC4CCCC4C3)C2)CC1', 'C1CCC(CCC2CCC(C3CCCC3)C2)CC1', 'C1CCC(CCC2CC(C3CCCC3)CC2C2CCCCC2)CC1', 'C1CCC(CCCC2CC3CCC(CC4CCCCC4)CC3C2)CC1', 'C1CCC(CCCCC2CCCC(C3CCC4CCCC4C3)C2)CC1', 'C1CCC(C2CCC3CCC(C4CCCC4)C3C2)CC1', 'C1CCC2CC(CC3CCC4CCC(C5CCCC5)CC43)CCC2C1', 'C1CCC(C2CCCC(C3CCCC3)C2)CC1', 'C1CCC(CCCC2CCC(C3CCC4C(CCC4C4CCCCC4)C3)CC2)CC1', 'C1CCC2CCC3CCCC(C1)C23', 'C1CCC(C2CCC(CCCC3(C4CCCCC4)CCCC3)CC2)CC1', 'C1CCC(CCCC2CCCCC2CC2CCCCC2)CC1', 'C1CCC(CC2CCC(CCCCC3CCC(C4CCCCC4)C3)C2)CC1', 'C1CC2CC(C1)CC1CCCC1CCC1CCC(C1)C1CCCC3CCC(C2)CC31', 'C1CC2CC(C1)CC1CCCC1CCCC1CCC(C1)C1CCCC3CCC(C2)CC31', 'C1CCC(CC2CCC3CCCCCCC3C2)CC1', 'C1CCC(C2CC(C3CCCC3)C(C3CCC3)CC3CCCCC32)CC1', 'C1CCC(CCC2CCCC(C3CCC(C4CCCCC4)C3)C2)CC1', 'C1CCC(C2CC3CCCC4CCCC(C2)C43)CC1', 'C1CCC2C(C1)CCC1C3CC4CCCCC4C3C3CCCC3C21', 'C1CCC(C(CC2CCC(CC3CCCC3)C2)C2CCCC2)CC1', 'C(CCCC1CCC(C2CCCC2)CC1)CCC1CCCC1', 'C(CCCCC1CCC(C2CCCC2)CC1)CCCC1CCCC1', 'C1CCC(C2CC3CCCCC3C(CCCC3CCCC3CC3CCCC3)C2)CC1', 'C1CCC(CC2CCCC2CCCC2CC3CCCCC3C2)C1', 'C1CCC(CCCC2CCC(CC3CCC(C4CCCCC4)CC3)CC2)CC1', 'C1CCC(CCCCC2CCC3CCC(CC4CCCCC4)CC3C2)CC1', 'C1CCC(CCCC2CCC3CC(C4CCCC4)CC3C2)CC1', 'C1CCC2CC(CC3CC4CCCCC4C3)CCC2C1', 'C(CCCC1CCCCC1)CCCC1C2CCCCC2CC2CCCCC21', 'C1CCC(CCCCCC2CCCC3CCCC23)CC1', 'C1CCC(CC2CC3C4CCC(C4)C3C2)C(CC2CCC(C3CCC4CCCCC43)CC2)C1', 'C1CCC(C2CC2CC2CCCC3C(C4CCCC4)CCC23)CC1', 'C1CCC(CC2CCC(CC3CCCC(CC4CCCCC4)C3)CC2)CC1', 'C1CCC(CCCC2CCCC3CCC(CC4CCC(C5CCCCC5C5CCCC5)CC4)C23)C1', 'C1CCCC(CC2CCCCC2)CCC2CC3C4CC(CC5CCCCC5)CC4CCC3C2CCC1', 'C1CCC(C2CCCCC2CCC2CCC(CCCCC3C4CCCCC4C4CCCCC34)CC2)CC1', 'C1CCC(CCCCC2CCCC(C3CCCC3)CC2)CC1', 'C1CC2CCC3CCCC4CCC(C1)C2C34', 'C1CCC(C2CC(C3CC3)CC3CCCCC32)CC1', 'C(CCCCCCCCC(CCCCCCCCCCCCCC1CCCCC1)CC1CCCCC1)CCCCCCCC1CCCCC1', 'C1CC2CCC3CCC(CCC45CC6CC7C(CC8CCC(CCCC9CCCC9CC(C1)C2)CC8C7C4)C6C5)C3', 'C1CCCCC(CC2CCCCC2)CCCCCCCCC(CCC2CCC(CCC3CCCCC3)CC2)CCC1', 'C1CCC(CCC2(CCC3CCC(CC4CCCC5CCCCC54)CC3)CC2)CC1', 'C1CCC(CC2CCC(C3CCCC4CCCC43)C2)C1', 'C1CCC(C2CC3CCC(CC4CCC5CCCCC5C4)CC3C2)CC1', 'C1CCC(C2CC(C3CCCCC3)CC(C3CCCCC3)C2)CC1', 'C1CCC(CCCC(CCCCCC(CCCCC2CC2)CC2CCCCC2)CCC2CCCCC2)CC1', 'C1CCCCC(CCCCC2CCCCC2)CCCCC2CCC3CCCCCCCC(CCCCCC(CC4CCCCC4)CC2)CCCCC(CCC1)CCCCCC1CCCC1CCCC3', 'C1CCC(CCCCCC2CCC(CCCC3CCCC3)CC2)CC1', 'C1CCC(CCCCC23CCC(CC2)C(CCC(C2CCCC2)C2CCCC2)C3)CC1', 'C1CCC(CC2CCC(CCC3CCCC(CCC4CCC5CCCCC54)C3)CC2)CC1', 'C1CCC(C(CC2CCCC3CCCCC32)C2CCC3CCCCC3C2)CC1', 'C1CCC(CCC2CCC3C2CCC2C4CCCCC4CCC32)C1', 'C1CCC(C2CCCC(CC3CCC(C4CCCCC4)C3)C2)CC1', 'C(CCCC1CCCCC1)CCC(CCCCCCC1CCCCC1)CCCCCC1CCCCC1', 'C1CCC(CC2CCCC3C(C4CCCCC4)CC(C4CC4)CC23)CC1', 'C1CCC(CCC2CCCC(C3CCCC3C3CCCCC3)C2)CC1', 'C1CCC(C2CCC(CCCC3CCCC4CCCC34)C2)CC1', 'C1CCC(CC2CCCC3CC(CC4CCCC4)CCC23)CC1', 'C(CCC1CC2CCCCC2C1)CC1CCC(C2CCC3CCCCC32)CC1', 'C1CCC(CCCC2CCC3CC4CCCCC4CC3C2)CC1', 'C1CCC(CC2CC(C3CCCCC3)C3CCCCC23)CC1', 'C1CCC(CCC2CCC(CCC3CCC4CCCCC43)CC2)CC1', 'C1CCC(CCCCC2CC3CCC2C3)CC1', 'C1CCCCCCCCCCCCCCCCC1', 'C1CCC(CCCCC2CCCCC2CCC2CCCCC2)CC1', 'C1CCC(CCCC2CC3CCC(C2)C3CCC2CCC(C3CCCCC3)CC2)CC1', 'C1CCC(CCC2CCC3(CCCC3)CC2)CC1', 'C1CCC(CCCCC(C2CCCCC2)C2CCCCC2)CC1', 'C1CCC(CCCC2CCC(CCC3CCCCC3)CC2)CC1', 'C1CCC(CCC2CCCC(CC3CCC4CCC(C5CCCCC5)CC4C3)C2)CC1', 'C1CCC(CC2CCC(C3(C4CCCCC4)CCCCC3)CC2)CC1', 'C1CCC(C2CCCCC2)CC1.C1CCCCC1', 'C1CCC(C2CCC3CCCC3C3CCCC23)CC1', 'C1CC2CC1CC2C1CC2CCC(C3CCC4C(C3)CC3CC(C5CCC(C6CCC7(CC7)C6)C5)CCC34)CC2C1', 'C1CCC(C2CCC(CCC3C4CCCCC4CC4CCCC43)CC2)CC1', 'C1CC(CC2CCCCC2C2CCCC2)CCC(C2CC3CCCCC3C2)C1', 'C1CCC(C2CCCC(CC3CCC(CC4CCCC4)CC3)C2)CC1', 'C1CCC(C2CCC(C3CCC(C4CCCC4)CC3)CC2)C1', 'C1CCC(CCCC2CCC(C3CCCCC3)CC2C2CCCCC2)CC1', 'C1CCC(CC2CCC(C3CC(C4CCCCC4)C4CCCCC34)CC2)CC1', 'C1CCC(CCC(CCCCC2CCCC2)CCC(CCC(CCCCC2CCCC2)CC2CCCCC2)CC2CCCCC2)CC1', 'C(CCCCCCCCCCCCCCCCCCCCCCCCCCCCCC(CCC(CCCCCCCCCCCCCCCCCCCCC1CCCC1CC1CCCC1)CC1CCCCC1)CC1CCCC1)CCCCCCCCCCCCCCCCCCCCCCCCCCCCC1CCCC1', 'C1CC2CCCC(C3CC3)C2C1', 'C1CCC(C2CCC(CC3CCC4CCCC(C5CCCC5)C4C3)CC2)CC1', 'C1CC(CC2CCC(CC3CC3)CC2)CC(CC2CCCC3CCCCC32)C1', 'C1CCC(CCCCC2CCCCC2CCC2CC3CCCCC3C2)CC1', 'C1CCC(CCCCC23CCC(C(C4CCCCC4)C4CCCCC4)(CC2)CC3)CC1', 'C(CC1CC1)CC1CCC(CC2CCCC3CCCCC32)CC1', 'C1CCC(CCCC2CCC(CC(C3CCCCC3)C3CCC4CCCCC43)CC2)CC1', 'C(CCC1CCC2CCCCC2CC1)CCC1CC2CCCCC12', 'C1CCC(CC2(CCCCCC3CCC4CC3C4)CCCCC2)CC1', 'C1CCC(C2C3CCCC3CC3CC4CCCC4CC32)CC1.C1CCC(C2C3CCCC3CC3CC4CCCC4CC32)CC1.C1CCC(C2CCCC3CC4CCCC4CC32)CC1.C1CCC(C2CCCC3CC4CCCC4CC32)CC1', 'C1CCCCCCCCCCCC(CC2CCCCC2)CCC(CC2CCCCC2)CCC(CC2CCC3CCCCC32)CCCCCCCCC(CC2CCCCC2)CCCCCCCCCC1', 'C1CCC(C2CCC(C3CCC(C4CCC(C5CCC(C6CCCC6)C5)CC4)CC3)C2)C1', 'C(CCC1CCC(C2CCCC3CCCC32)CC1)CCC1CCC2CCCCC2C1', 'C(CCCCCC(CCCCCCCCCCC1CCCCC1)CC1CCC2CCCCC21)CCCCC1CCCCC1', 'C1CCC(C2CCC(CCC3CCCC(C4CCCCC4)C3)CC2)CC1', 'C1CCC2CC(CCC3CCC(C4CCC(CCC5CCC6CCCCC6C5)CC4)CC3)CCC2C1', 'C1CCC(CCC2CCC(CC3CCCCC3)(C3CCCCC3)CC2)CC1', 'C1CCC(CCC2CCC(C(CC3CCCC3)C3CCCCC3)CC2)CC1', 'C1CCC(CC2(C3CCCCC3)CCC(CCC3CCCC3)CC2)CC1', 'C1CCC2C(C1)CC13CCCCC1C2CCC3', 'C1CCC(C2CCC(CCC3CCC4C5CCCC5CC34)CC2)CC1', 'C1CCC(CC2CCCC(CCCCC3CCC(CC4CCCC4)CC3)C2)CC1', 'C1CCC(CCC2CCC3CC(CC4CCCC4)CCC3C2)CC1', 'C1CCC(CC2CCC(CCC3CC4CCCCC4C3)CC2)C1', 'C1CCC(CCC2CCC(CC3CCCC3)CC2)CC1', 'C1CCC(CCC2CCCCC2C2CC2)C1', 'C1CCCC(CCC2CCCCC2)CC1', 'C1CCC(CCCC2CCC3CC4CCCC56C(CCCC45)CC2C36)CC1', 'C1CCC(C2(C3CCCCC3)CCC3CCCCC3C2)CC1', 'C1CCC(C2CC3CCCCCCC3C(C3CCCCC3)C2)CC1', 'C1CCC(CC2CCC(CCC3CCCCC3C3CCCCC3)C2)CC1', 'C1CCC(C2CCCCC2CCC2CC(C(C3CCCCC3)C3CCCCC3)C2)CC1', 'C1CCC(CC2CCCC(CCC3CCCCC3C3CCCCC3)C2)CC1', 'C1CCC(CCCCCC2CCCCC2C2CCCCC2)CC1', 'C1CCC(C2CCC3(CCC(CCCC4CCCCC4C4CCCCC4)C3)CC2)CC1', 'C1CCC(CC(CCCCC2CCCC(C3CCCCC3)C2C2CCCCC2)C2CCCCC2)CC1', 'C1CCC(C2CCCCC2CCCCCC2CCC(C3CCCCC3)(C3CCCCC3)CC2)CC1', 'C1CCC2C(C1)C1CCCC3CCCC2C31', 'C(CCCCCCCCCCCCCCCCCCCCCCCC(CCCCCCCCCCCCCCCCC1CCCC1)CC1CCCCC1)CCCCCCCCCCCCCCCCCCCCCCCC(CCCCCCCCC(CCCCCCCCCCCCCCCCC1CCCC1CCCCCCCCCCCCCC1CCCC1CC1CCCC1)CC1CCC2CCCCC21)CC1CCCCC1', 'C1CCC(CCCC2CC3C(CC4CC4)C(C2)C2CC32)CC1', 'C1CCC(CCCC(CC2CCCCC2)CC2CCC(C3CCCCC3)C2)CC1', 'C1CCC(CC2CCC(C3CCCCC3C3CCCC3)CC2)CC1', 'C1CCC(C2CCCC(CCC3(C4CCC5CCCC5C4)CC3)C2)CC1', 'C1CC2CCC(CC3CCC4CCCCC43)CC2C1', 'C1CCC(CCCC2(C3CCCCC3)CCC3(CCCC3)CC2)CC1', 'C1CCC(CC2CCCCC2CCC2CCC3CCCCC32)CC1', 'C1CCC(C2C(C3CCC(CCC4CCCC4)CC3)CCC2C2CCC(CCC3CCCC3)CC2)CC1', 'C1CCCC(CCC2CCCCC2)CC2CC(CC3CC4CCCCC4C4CCCCC34)CC2CCC2(CCCC3CC3)CC2CCC1', 'C1CCC(C2CCC3CCC(C4CCC5CCCCC5C4)CC3C2)CC1', 'C1CCC2C(C1)CC1CCCC1C1CCCCC21', 'C1CCC(CCCC2CC3CCCC23)CC1.C1CCCCC1', 'C(CCCC1CCCCC1)CCC1CCCCC1.C1CCC(CCCC2CC3CCCC23)CC1.C1CCC(CCCC2CC3CCCC23)CC1', 'C1CCC(C2CCCC2)CC1.C1CCCCC1', 'C(CCCC1CC2CCC3CCCCC3C2C1)CCCC1CC2CCC3CCCCC3C2C1', 'C1CCC(CCC(CC2CCCC2)CC2CCCC2)C1', 'C1CCC2CCCCC2C1.C1CCC2CCCCC2C1.C1CCC2CCCCC2C1', 'C1CC(CC2CC3CCC2C3)CCC1CC1CC2CCC1C2', 'C1CCC(C2CCC(C3CCC4CC5C(CC4C3)CC3CCCCC35)CC2)CC1', 'C1CCC(C2CCC(C3CC3)C3CCCCC23)C1', 'C1CC2CC3CCCC(C4CCC5C6CCCC6CCC54)C3CC2C1', 'C1CCC(C2CC3CC(C4CCC(C5CCCC5)C4)CCC3C3CC4CC(C5CCC(C6CCCC6)C5)CCC4C23)CC1', 'C1CCC2CC(CC2CCC2(CCCC3CC3)CC2)CC2CC3CCCCC3CC2CCCCCC2CC2CC1', 'C1CCC(CCC2CCC(CCCC3CCC(C4CCC(CC5CCCCC5C5CCCCC5)CC4)CC3CC3CCC4CCCC4C3)CC2)CC1', 'C1CCC(CC2CCC3C(CCCC4CCCCCC43)C2)CC1', 'C1CCC(CCC2CCC(C3CC4CCCCC4C3)CC2)CC1', 'C1CCC(CCCCC2CCC3CC(CC4CCC5CCCC5C4)CCC3C2)CC1', 'C1CCC(CCC2CCCC2C2CCC(C3CCC4C(CCC5CC6C(CCC7CC(C8CCCC8)CC76)CC54)C3)C2)CC1', 'C1CCC(CC2CCC(C3C4CCCCC4CCC4CCCCC43)CC2)CC1', 'C1CCC(CC2CCC(CC3CCCC4CC5CC6CCCCC6CC5CC34)CC2)CC1', 'C1CCC(CCCCC2CC(CC3CCCCC3)C3CC4CC5CCCCC5CC4CC3C2)CC1', 'C1CCC(C2CC3CCCC4CCCCC2C43)CC1', 'C1CCC(CCC2CCCCC2)CC1.C1CCC2CCCC2C1', 'C1CCC2C(C1)CCC2C1CCCC1.C1CCCCC1.C1CCCCC1.C1CCCCC1'])"
      ]
     },
     "execution_count": 67,
     "metadata": {},
     "output_type": "execute_result"
    }
   ],
   "source": [
    "c=Counter(scaffolds)\n",
    "c.keys()"
   ]
  },
  {
   "cell_type": "code",
   "execution_count": 39,
   "id": "212bb91d",
   "metadata": {},
   "outputs": [],
   "source": [
    "import pandas as pd"
   ]
  },
  {
   "cell_type": "code",
   "execution_count": 71,
   "id": "03dfbebd",
   "metadata": {},
   "outputs": [
    {
     "data": {
      "text/html": [
       "<div>\n",
       "<style scoped>\n",
       "    .dataframe tbody tr th:only-of-type {\n",
       "        vertical-align: middle;\n",
       "    }\n",
       "\n",
       "    .dataframe tbody tr th {\n",
       "        vertical-align: top;\n",
       "    }\n",
       "\n",
       "    .dataframe thead th {\n",
       "        text-align: right;\n",
       "    }\n",
       "</style>\n",
       "<table border=\"1\" class=\"dataframe\">\n",
       "  <thead>\n",
       "    <tr style=\"text-align: right;\">\n",
       "      <th></th>\n",
       "      <th>0</th>\n",
       "      <th>1</th>\n",
       "      <th>percents</th>\n",
       "    </tr>\n",
       "  </thead>\n",
       "  <tbody>\n",
       "    <tr>\n",
       "      <th>146</th>\n",
       "      <td>C1CCCCC1</td>\n",
       "      <td>1041</td>\n",
       "      <td>196.045198</td>\n",
       "    </tr>\n",
       "    <tr>\n",
       "      <th>175</th>\n",
       "      <td></td>\n",
       "      <td>976</td>\n",
       "      <td>183.804143</td>\n",
       "    </tr>\n",
       "    <tr>\n",
       "      <th>41</th>\n",
       "      <td>C1CCC(CC2CCCCC2)CC1</td>\n",
       "      <td>199</td>\n",
       "      <td>37.476460</td>\n",
       "    </tr>\n",
       "    <tr>\n",
       "      <th>87</th>\n",
       "      <td>C1CCC2CCCC2C1</td>\n",
       "      <td>194</td>\n",
       "      <td>36.534840</td>\n",
       "    </tr>\n",
       "    <tr>\n",
       "      <th>48</th>\n",
       "      <td>C1CCCC1</td>\n",
       "      <td>190</td>\n",
       "      <td>35.781544</td>\n",
       "    </tr>\n",
       "    <tr>\n",
       "      <th>...</th>\n",
       "      <td>...</td>\n",
       "      <td>...</td>\n",
       "      <td>...</td>\n",
       "    </tr>\n",
       "    <tr>\n",
       "      <th>815</th>\n",
       "      <td>C1CCC(CCCC2CCC(C3CC4CCCCC4CC3C3CCCCC3)CC2)CC1</td>\n",
       "      <td>1</td>\n",
       "      <td>0.188324</td>\n",
       "    </tr>\n",
       "    <tr>\n",
       "      <th>814</th>\n",
       "      <td>C1CCC(CCCC2CCC(CCCC(C3CCCCC3)C3CCCCC3)CC2)CC1</td>\n",
       "      <td>1</td>\n",
       "      <td>0.188324</td>\n",
       "    </tr>\n",
       "    <tr>\n",
       "      <th>813</th>\n",
       "      <td>C1CCC(C(CCC2CCCC3CCCCC32)C2CCCCC2)CC1</td>\n",
       "      <td>1</td>\n",
       "      <td>0.188324</td>\n",
       "    </tr>\n",
       "    <tr>\n",
       "      <th>811</th>\n",
       "      <td>C1CCC(CC2CCCC(CCCCCC3CC4CCCCC4C3)CC2)CC1</td>\n",
       "      <td>1</td>\n",
       "      <td>0.188324</td>\n",
       "    </tr>\n",
       "    <tr>\n",
       "      <th>1636</th>\n",
       "      <td>C1CCC2C(C1)CCC2C1CCCC1.C1CCCCC1.C1CCCCC1.C1CCCCC1</td>\n",
       "      <td>1</td>\n",
       "      <td>0.188324</td>\n",
       "    </tr>\n",
       "  </tbody>\n",
       "</table>\n",
       "<p>1637 rows × 3 columns</p>\n",
       "</div>"
      ],
      "text/plain": [
       "                                                      0     1    percents\n",
       "146                                            C1CCCCC1  1041  196.045198\n",
       "175                                                       976  183.804143\n",
       "41                                  C1CCC(CC2CCCCC2)CC1   199   37.476460\n",
       "87                                        C1CCC2CCCC2C1   194   36.534840\n",
       "48                                              C1CCCC1   190   35.781544\n",
       "...                                                 ...   ...         ...\n",
       "815       C1CCC(CCCC2CCC(C3CC4CCCCC4CC3C3CCCCC3)CC2)CC1     1    0.188324\n",
       "814       C1CCC(CCCC2CCC(CCCC(C3CCCCC3)C3CCCCC3)CC2)CC1     1    0.188324\n",
       "813               C1CCC(C(CCC2CCCC3CCCCC32)C2CCCCC2)CC1     1    0.188324\n",
       "811            C1CCC(CC2CCCC(CCCCCC3CC4CCCCC4C3)CC2)CC1     1    0.188324\n",
       "1636  C1CCC2C(C1)CCC2C1CCCC1.C1CCCCC1.C1CCCCC1.C1CCCCC1     1    0.188324\n",
       "\n",
       "[1637 rows x 3 columns]"
      ]
     },
     "execution_count": 71,
     "metadata": {},
     "output_type": "execute_result"
    }
   ],
   "source": [
    "df = pd.DataFrame(c.items())\n",
    "df['percents'] = (df[1] / len(scaffolds))*100\n",
    "df.sort_values('percents', ascending=False)"
   ]
  },
  {
   "cell_type": "code",
   "execution_count": 76,
   "id": "2f92fb19",
   "metadata": {},
   "outputs": [
    {
     "data": {
      "text/plain": [
       "7115"
      ]
     },
     "execution_count": 76,
     "metadata": {},
     "output_type": "execute_result"
    }
   ],
   "source": [
    "len(scaffolds_drug)"
   ]
  },
  {
   "cell_type": "code",
   "execution_count": 77,
   "id": "ab83a09f",
   "metadata": {},
   "outputs": [
    {
     "data": {
      "text/plain": [
       "1546"
      ]
     },
     "execution_count": 77,
     "metadata": {},
     "output_type": "execute_result"
    }
   ],
   "source": [
    "len(cd.keys())"
   ]
  },
  {
   "cell_type": "code",
   "execution_count": 72,
   "id": "3afe598f",
   "metadata": {},
   "outputs": [
    {
     "data": {
      "text/html": [
       "<div>\n",
       "<style scoped>\n",
       "    .dataframe tbody tr th:only-of-type {\n",
       "        vertical-align: middle;\n",
       "    }\n",
       "\n",
       "    .dataframe tbody tr th {\n",
       "        vertical-align: top;\n",
       "    }\n",
       "\n",
       "    .dataframe thead th {\n",
       "        text-align: right;\n",
       "    }\n",
       "</style>\n",
       "<table border=\"1\" class=\"dataframe\">\n",
       "  <thead>\n",
       "    <tr style=\"text-align: right;\">\n",
       "      <th></th>\n",
       "      <th>0</th>\n",
       "      <th>1</th>\n",
       "      <th>percents</th>\n",
       "    </tr>\n",
       "  </thead>\n",
       "  <tbody>\n",
       "    <tr>\n",
       "      <th>6</th>\n",
       "      <td>C1CCCCC1</td>\n",
       "      <td>1039</td>\n",
       "      <td>14.602952</td>\n",
       "    </tr>\n",
       "    <tr>\n",
       "      <th>11</th>\n",
       "      <td></td>\n",
       "      <td>976</td>\n",
       "      <td>13.717498</td>\n",
       "    </tr>\n",
       "    <tr>\n",
       "      <th>16</th>\n",
       "      <td>C1CCC2CCCC2C1</td>\n",
       "      <td>192</td>\n",
       "      <td>2.698524</td>\n",
       "    </tr>\n",
       "    <tr>\n",
       "      <th>9</th>\n",
       "      <td>C1CCCC1</td>\n",
       "      <td>188</td>\n",
       "      <td>2.642305</td>\n",
       "    </tr>\n",
       "    <tr>\n",
       "      <th>43</th>\n",
       "      <td>C1CCC(CC2CCCCC2)CC1</td>\n",
       "      <td>182</td>\n",
       "      <td>2.557976</td>\n",
       "    </tr>\n",
       "    <tr>\n",
       "      <th>...</th>\n",
       "      <td>...</td>\n",
       "      <td>...</td>\n",
       "      <td>...</td>\n",
       "    </tr>\n",
       "    <tr>\n",
       "      <th>718</th>\n",
       "      <td>C(CCCCC1CCCC1)CCCC1CCCCC1</td>\n",
       "      <td>1</td>\n",
       "      <td>0.014055</td>\n",
       "    </tr>\n",
       "    <tr>\n",
       "      <th>717</th>\n",
       "      <td>C1CCC(CCC2CCCC(CC3CCCC(C4CCCCC4)C3)C2)CC1</td>\n",
       "      <td>1</td>\n",
       "      <td>0.014055</td>\n",
       "    </tr>\n",
       "    <tr>\n",
       "      <th>716</th>\n",
       "      <td>C1CCC(CCC2CCC3CC(CC4CCCC(CC5CCC6CC(CCC7CCCCC7)...</td>\n",
       "      <td>1</td>\n",
       "      <td>0.014055</td>\n",
       "    </tr>\n",
       "    <tr>\n",
       "      <th>715</th>\n",
       "      <td>C1CC2CCC1CC2</td>\n",
       "      <td>1</td>\n",
       "      <td>0.014055</td>\n",
       "    </tr>\n",
       "    <tr>\n",
       "      <th>1545</th>\n",
       "      <td>C1CCC2C(C1)CCC2C1CCCC1.C1CCCCC1.C1CCCCC1.C1CCCCC1</td>\n",
       "      <td>1</td>\n",
       "      <td>0.014055</td>\n",
       "    </tr>\n",
       "  </tbody>\n",
       "</table>\n",
       "<p>1546 rows × 3 columns</p>\n",
       "</div>"
      ],
      "text/plain": [
       "                                                      0     1   percents\n",
       "6                                              C1CCCCC1  1039  14.602952\n",
       "11                                                        976  13.717498\n",
       "16                                        C1CCC2CCCC2C1   192   2.698524\n",
       "9                                               C1CCCC1   188   2.642305\n",
       "43                                  C1CCC(CC2CCCCC2)CC1   182   2.557976\n",
       "...                                                 ...   ...        ...\n",
       "718                           C(CCCCC1CCCC1)CCCC1CCCCC1     1   0.014055\n",
       "717           C1CCC(CCC2CCCC(CC3CCCC(C4CCCCC4)C3)C2)CC1     1   0.014055\n",
       "716   C1CCC(CCC2CCC3CC(CC4CCCC(CC5CCC6CC(CCC7CCCCC7)...     1   0.014055\n",
       "715                                        C1CC2CCC1CC2     1   0.014055\n",
       "1545  C1CCC2C(C1)CCC2C1CCCC1.C1CCCCC1.C1CCCCC1.C1CCCCC1     1   0.014055\n",
       "\n",
       "[1546 rows x 3 columns]"
      ]
     },
     "execution_count": 72,
     "metadata": {},
     "output_type": "execute_result"
    }
   ],
   "source": [
    "cd=Counter(scaffolds_drug)\n",
    "dfd = pd.DataFrame(cd.items())\n",
    "dfd['percents'] = (dfd[1] / len(scaffolds_drug))*100\n",
    "dfd.sort_values('percents', ascending=False)"
   ]
  },
  {
   "cell_type": "code",
   "execution_count": 79,
   "id": "9de9b611",
   "metadata": {},
   "outputs": [
    {
     "name": "stdout",
     "output_type": "stream",
     "text": [
      "                                                      0  1_x  percents_x  1_y  \\\n",
      "0                           C1CCC(C2CCCCC2CCC2CCCC2)CC1    3    0.564972    2   \n",
      "1                           C1CCC(CCC2CCCC2C2CCCCC2)CC1    5    0.941620    3   \n",
      "2               C1CCC(CCC2CC(C3CCCCC3)C(C3CCCCC3)C2)CC1   10    1.883239    1   \n",
      "3                                    C1CCC(CC2CCCC2)CC1   89   16.760829   74   \n",
      "4                             C1CCC(CC2CCCC3CCCCC32)CC1   31    5.838041   26   \n",
      "...                                                 ...  ...         ...  ...   \n",
      "1541   C1CCC(CC2CCC(CC3CCCC4CC5CC6CCCCC6CC5CC34)CC2)CC1    1    0.188324    1   \n",
      "1542  C1CCC(CCCCC2CC(CC3CCCCC3)C3CC4CC5CCCCC5CC4CC3C...    1    0.188324    1   \n",
      "1543                      C1CCC(C2CC3CCCC4CCCCC2C43)CC1    1    0.188324    1   \n",
      "1544                 C1CCC(CCC2CCCCC2)CC1.C1CCC2CCCC2C1    1    0.188324    1   \n",
      "1545  C1CCC2C(C1)CCC2C1CCCC1.C1CCCCC1.C1CCCCC1.C1CCCCC1    1    0.188324    1   \n",
      "\n",
      "      percents_y  \n",
      "0       0.028110  \n",
      "1       0.042164  \n",
      "2       0.014055  \n",
      "3       1.040056  \n",
      "4       0.365425  \n",
      "...          ...  \n",
      "1541    0.014055  \n",
      "1542    0.014055  \n",
      "1543    0.014055  \n",
      "1544    0.014055  \n",
      "1545    0.014055  \n",
      "\n",
      "[1545 rows x 5 columns]\n"
     ]
    }
   ],
   "source": [
    "int_df = pd.merge(df, dfd, how ='inner', on =[0])\n",
    "int_df.dropna(inplace=True)\n",
    "print(int_df)"
   ]
  }
 ],
 "metadata": {
  "kernelspec": {
   "display_name": "Python 3 (ipykernel)",
   "language": "python",
   "name": "python3"
  },
  "language_info": {
   "codemirror_mode": {
    "name": "ipython",
    "version": 3
   },
   "file_extension": ".py",
   "mimetype": "text/x-python",
   "name": "python",
   "nbconvert_exporter": "python",
   "pygments_lexer": "ipython3",
   "version": "3.7.16"
  }
 },
 "nbformat": 4,
 "nbformat_minor": 5
}
