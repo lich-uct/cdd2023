{
 "cells": [
  {
   "cell_type": "code",
   "execution_count": 1,
   "metadata": {},
   "outputs": [],
   "source": [
    "import numpy as np\n",
    "import pandas as pd\n",
    "import gzip\n",
    "from rdkit import DataStructs\n",
    "from rdkit import RDLogger\n",
    "from rdkit import Chem\n",
    "from rdkit.Chem.SaltRemover import SaltRemover\n",
    "from rdkit.Chem.inchi import MolToInchiKey\n",
    "\n",
    "RDLogger.DisableLog('rdApp.error')"
   ]
  },
  {
   "cell_type": "code",
   "execution_count": 31,
   "metadata": {},
   "outputs": [
    {
     "data": {
      "text/html": [
       "<div>\n",
       "<style scoped>\n",
       "    .dataframe tbody tr th:only-of-type {\n",
       "        vertical-align: middle;\n",
       "    }\n",
       "\n",
       "    .dataframe tbody tr th {\n",
       "        vertical-align: top;\n",
       "    }\n",
       "\n",
       "    .dataframe thead th {\n",
       "        text-align: right;\n",
       "    }\n",
       "</style>\n",
       "<table border=\"1\" class=\"dataframe\">\n",
       "  <thead>\n",
       "    <tr style=\"text-align: right;\">\n",
       "      <th></th>\n",
       "      <th>Mol</th>\n",
       "      <th>Source</th>\n",
       "    </tr>\n",
       "  </thead>\n",
       "  <tbody>\n",
       "    <tr>\n",
       "      <th>0</th>\n",
       "      <td>&lt;rdkit.Chem.rdchem.Mol object at 0x7fee2e1bf770&gt;</td>\n",
       "      <td>DrugBank</td>\n",
       "    </tr>\n",
       "    <tr>\n",
       "      <th>1</th>\n",
       "      <td>&lt;rdkit.Chem.rdchem.Mol object at 0x7fee2e1a0970&gt;</td>\n",
       "      <td>DrugBank</td>\n",
       "    </tr>\n",
       "    <tr>\n",
       "      <th>2</th>\n",
       "      <td>&lt;rdkit.Chem.rdchem.Mol object at 0x7fee2d2fce30&gt;</td>\n",
       "      <td>DrugBank</td>\n",
       "    </tr>\n",
       "    <tr>\n",
       "      <th>3</th>\n",
       "      <td>&lt;rdkit.Chem.rdchem.Mol object at 0x7fee2d2fcc30&gt;</td>\n",
       "      <td>DrugBank</td>\n",
       "    </tr>\n",
       "    <tr>\n",
       "      <th>4</th>\n",
       "      <td>&lt;rdkit.Chem.rdchem.Mol object at 0x7fee2d2fcb30&gt;</td>\n",
       "      <td>DrugBank</td>\n",
       "    </tr>\n",
       "    <tr>\n",
       "      <th>...</th>\n",
       "      <td>...</td>\n",
       "      <td>...</td>\n",
       "    </tr>\n",
       "    <tr>\n",
       "      <th>36236</th>\n",
       "      <td>&lt;rdkit.Chem.rdchem.Mol object at 0x7fee2c9e65d0&gt;</td>\n",
       "      <td>decoys</td>\n",
       "    </tr>\n",
       "    <tr>\n",
       "      <th>36237</th>\n",
       "      <td>&lt;rdkit.Chem.rdchem.Mol object at 0x7fee2c9e6670&gt;</td>\n",
       "      <td>decoys</td>\n",
       "    </tr>\n",
       "    <tr>\n",
       "      <th>36238</th>\n",
       "      <td>&lt;rdkit.Chem.rdchem.Mol object at 0x7fee2c9e6710&gt;</td>\n",
       "      <td>decoys</td>\n",
       "    </tr>\n",
       "    <tr>\n",
       "      <th>36239</th>\n",
       "      <td>&lt;rdkit.Chem.rdchem.Mol object at 0x7fee2c9e67b0&gt;</td>\n",
       "      <td>decoys</td>\n",
       "    </tr>\n",
       "    <tr>\n",
       "      <th>36240</th>\n",
       "      <td>&lt;rdkit.Chem.rdchem.Mol object at 0x7fee2c9e68a0&gt;</td>\n",
       "      <td>decoys</td>\n",
       "    </tr>\n",
       "  </tbody>\n",
       "</table>\n",
       "<p>36241 rows × 2 columns</p>\n",
       "</div>"
      ],
      "text/plain": [
       "                                                    Mol    Source\n",
       "0      <rdkit.Chem.rdchem.Mol object at 0x7fee2e1bf770>  DrugBank\n",
       "1      <rdkit.Chem.rdchem.Mol object at 0x7fee2e1a0970>  DrugBank\n",
       "2      <rdkit.Chem.rdchem.Mol object at 0x7fee2d2fce30>  DrugBank\n",
       "3      <rdkit.Chem.rdchem.Mol object at 0x7fee2d2fcc30>  DrugBank\n",
       "4      <rdkit.Chem.rdchem.Mol object at 0x7fee2d2fcb30>  DrugBank\n",
       "...                                                 ...       ...\n",
       "36236  <rdkit.Chem.rdchem.Mol object at 0x7fee2c9e65d0>    decoys\n",
       "36237  <rdkit.Chem.rdchem.Mol object at 0x7fee2c9e6670>    decoys\n",
       "36238  <rdkit.Chem.rdchem.Mol object at 0x7fee2c9e6710>    decoys\n",
       "36239  <rdkit.Chem.rdchem.Mol object at 0x7fee2c9e67b0>    decoys\n",
       "36240  <rdkit.Chem.rdchem.Mol object at 0x7fee2c9e68a0>    decoys\n",
       "\n",
       "[36241 rows x 2 columns]"
      ]
     },
     "execution_count": 31,
     "metadata": {},
     "output_type": "execute_result"
    }
   ],
   "source": [
    "df = np.load('df.npy', allow_pickle=True)\n",
    "df = pd.DataFrame(df)\n",
    "df.columns = ['Mol', 'Source', 'FP']\n",
    "df.drop(columns=['FP'], inplace=True)\n",
    "\n",
    "with gzip.open('decoys_final.sdf.gz') as sdf:\n",
    "    supp_decoys = Chem.ForwardSDMolSupplier(sdf)\n",
    "    decoys = [[mol, 'decoys'] for mol in supp_decoys if mol]\n",
    "\n",
    "df_de = pd.DataFrame(decoys, columns=['Mol', 'Source'])\n",
    "\n",
    "df = pd.concat([df, df_de], ignore_index=True)\n",
    "df"
   ]
  },
  {
   "cell_type": "code",
   "execution_count": 32,
   "metadata": {},
   "outputs": [
    {
     "data": {
      "image/png": "[encoded data removed]",
      "text/plain": [
       "<rdkit.Chem.rdchem.Mol at 0x7fee2d2fbbf0>"
      ]
     },
     "execution_count": 32,
     "metadata": {},
     "output_type": "execute_result"
    }
   ],
   "source": [
    "from rdkit.Chem.Scaffolds import MurckoScaffold\n",
    "\n",
    "sub = df.Mol[11]\n",
    "sub"
   ]
  },
  {
   "cell_type": "code",
   "execution_count": 33,
   "metadata": {},
   "outputs": [
    {
     "data": {
      "image/png": "[encoded data removed]",
      "text/plain": [
       "<rdkit.Chem.rdchem.Mol at 0x7fee2d56e170>"
      ]
     },
     "execution_count": 33,
     "metadata": {},
     "output_type": "execute_result"
    }
   ],
   "source": [
    "scaffold1 = MurckoScaffold.GetScaffoldForMol(sub)\n",
    "scaffold1"
   ]
  },
  {
   "cell_type": "code",
   "execution_count": 34,
   "metadata": {},
   "outputs": [
    {
     "data": {
      "image/png": "[encoded data removed]",
      "text/plain": [
       "<rdkit.Chem.rdchem.Mol at 0x7fee2d56e9e0>"
      ]
     },
     "execution_count": 34,
     "metadata": {},
     "output_type": "execute_result"
    }
   ],
   "source": [
    "scaffold2 = MurckoScaffold.MakeScaffoldGeneric(scaffold1)\n",
    "scaffold2"
   ]
  },
  {
   "cell_type": "code",
   "execution_count": 35,
   "metadata": {},
   "outputs": [
    {
     "data": {
      "image/png": "[encoded data removed]",
      "text/plain": [
       "<rdkit.Chem.rdchem.Mol at 0x7fee2e0bf850>"
      ]
     },
     "execution_count": 35,
     "metadata": {},
     "output_type": "execute_result"
    }
   ],
   "source": [
    "scaffold3 = MurckoScaffold.GetScaffoldForMol(scaffold2)\n",
    "scaffold3"
   ]
  },
  {
   "cell_type": "code",
   "execution_count": 36,
   "metadata": {},
   "outputs": [
    {
     "data": {
      "image/png": "[encoded data removed]",
      "text/plain": [
       "<rdkit.Chem.rdchem.Mol at 0x7fee2d65d6c0>"
      ]
     },
     "execution_count": 36,
     "metadata": {},
     "output_type": "execute_result"
    }
   ],
   "source": [
    "def scaffold(mol):\n",
    "    Chem.rdmolops.RemoveStereochemistry(mol) # get rid of stereo, doesn't matter much in scaffolds\n",
    "    try:\n",
    "        scaff = MurckoScaffold.MakeScaffoldGeneric(mol) # all atoms->C all bonds-> single\n",
    "    except ValueError: # if the structure can't be represented by C atoms, just return no scaffold.\n",
    "        # if such functionality is really desired, then generic graphs can be used instead of C\n",
    "        return None\n",
    "    scaff = MurckoScaffold.GetScaffoldForMol(scaff) # remove all sidechains\n",
    "    return scaff\n",
    "\n",
    "scaffold(sub)"
   ]
  },
  {
   "cell_type": "code",
   "execution_count": 37,
   "metadata": {},
   "outputs": [
    {
     "data": {
      "text/html": [
       "<div>\n",
       "<style scoped>\n",
       "    .dataframe tbody tr th:only-of-type {\n",
       "        vertical-align: middle;\n",
       "    }\n",
       "\n",
       "    .dataframe tbody tr th {\n",
       "        vertical-align: top;\n",
       "    }\n",
       "\n",
       "    .dataframe thead th {\n",
       "        text-align: right;\n",
       "    }\n",
       "</style>\n",
       "<table border=\"1\" class=\"dataframe\">\n",
       "  <thead>\n",
       "    <tr style=\"text-align: right;\">\n",
       "      <th></th>\n",
       "      <th>Mol</th>\n",
       "      <th>Source</th>\n",
       "      <th>Scaffold</th>\n",
       "    </tr>\n",
       "  </thead>\n",
       "  <tbody>\n",
       "    <tr>\n",
       "      <th>0</th>\n",
       "      <td>&lt;rdkit.Chem.rdchem.Mol object at 0x7fee2e1bf770&gt;</td>\n",
       "      <td>DrugBank</td>\n",
       "      <td>&lt;rdkit.Chem.rdchem.Mol object at 0x7fee2c9e6e40&gt;</td>\n",
       "    </tr>\n",
       "    <tr>\n",
       "      <th>1</th>\n",
       "      <td>&lt;rdkit.Chem.rdchem.Mol object at 0x7fee2e1a0970&gt;</td>\n",
       "      <td>DrugBank</td>\n",
       "      <td>&lt;rdkit.Chem.rdchem.Mol object at 0x7fee2c9e6a30&gt;</td>\n",
       "    </tr>\n",
       "    <tr>\n",
       "      <th>2</th>\n",
       "      <td>&lt;rdkit.Chem.rdchem.Mol object at 0x7fee2d2fce30&gt;</td>\n",
       "      <td>DrugBank</td>\n",
       "      <td>&lt;rdkit.Chem.rdchem.Mol object at 0x7fee2d5c6a80&gt;</td>\n",
       "    </tr>\n",
       "    <tr>\n",
       "      <th>3</th>\n",
       "      <td>&lt;rdkit.Chem.rdchem.Mol object at 0x7fee2d2fcc30&gt;</td>\n",
       "      <td>DrugBank</td>\n",
       "      <td>&lt;rdkit.Chem.rdchem.Mol object at 0x7fee2c9e6f80&gt;</td>\n",
       "    </tr>\n",
       "    <tr>\n",
       "      <th>4</th>\n",
       "      <td>&lt;rdkit.Chem.rdchem.Mol object at 0x7fee2d2fcb30&gt;</td>\n",
       "      <td>DrugBank</td>\n",
       "      <td>&lt;rdkit.Chem.rdchem.Mol object at 0x7fee2c9e6c10&gt;</td>\n",
       "    </tr>\n",
       "    <tr>\n",
       "      <th>...</th>\n",
       "      <td>...</td>\n",
       "      <td>...</td>\n",
       "      <td>...</td>\n",
       "    </tr>\n",
       "    <tr>\n",
       "      <th>36236</th>\n",
       "      <td>&lt;rdkit.Chem.rdchem.Mol object at 0x7fee2c9e65d0&gt;</td>\n",
       "      <td>decoys</td>\n",
       "      <td>&lt;rdkit.Chem.rdchem.Mol object at 0x7fee2d1e5260&gt;</td>\n",
       "    </tr>\n",
       "    <tr>\n",
       "      <th>36237</th>\n",
       "      <td>&lt;rdkit.Chem.rdchem.Mol object at 0x7fee2c9e6670&gt;</td>\n",
       "      <td>decoys</td>\n",
       "      <td>&lt;rdkit.Chem.rdchem.Mol object at 0x7fee2d1e5170&gt;</td>\n",
       "    </tr>\n",
       "    <tr>\n",
       "      <th>36238</th>\n",
       "      <td>&lt;rdkit.Chem.rdchem.Mol object at 0x7fee2c9e6710&gt;</td>\n",
       "      <td>decoys</td>\n",
       "      <td>&lt;rdkit.Chem.rdchem.Mol object at 0x7fee2d1e53a0&gt;</td>\n",
       "    </tr>\n",
       "    <tr>\n",
       "      <th>36239</th>\n",
       "      <td>&lt;rdkit.Chem.rdchem.Mol object at 0x7fee2c9e67b0&gt;</td>\n",
       "      <td>decoys</td>\n",
       "      <td>&lt;rdkit.Chem.rdchem.Mol object at 0x7fee2d1e53f0&gt;</td>\n",
       "    </tr>\n",
       "    <tr>\n",
       "      <th>36240</th>\n",
       "      <td>&lt;rdkit.Chem.rdchem.Mol object at 0x7fee2c9e68a0&gt;</td>\n",
       "      <td>decoys</td>\n",
       "      <td>&lt;rdkit.Chem.rdchem.Mol object at 0x7fee2d1e5350&gt;</td>\n",
       "    </tr>\n",
       "  </tbody>\n",
       "</table>\n",
       "<p>36241 rows × 3 columns</p>\n",
       "</div>"
      ],
      "text/plain": [
       "                                                    Mol    Source  \\\n",
       "0      <rdkit.Chem.rdchem.Mol object at 0x7fee2e1bf770>  DrugBank   \n",
       "1      <rdkit.Chem.rdchem.Mol object at 0x7fee2e1a0970>  DrugBank   \n",
       "2      <rdkit.Chem.rdchem.Mol object at 0x7fee2d2fce30>  DrugBank   \n",
       "3      <rdkit.Chem.rdchem.Mol object at 0x7fee2d2fcc30>  DrugBank   \n",
       "4      <rdkit.Chem.rdchem.Mol object at 0x7fee2d2fcb30>  DrugBank   \n",
       "...                                                 ...       ...   \n",
       "36236  <rdkit.Chem.rdchem.Mol object at 0x7fee2c9e65d0>    decoys   \n",
       "36237  <rdkit.Chem.rdchem.Mol object at 0x7fee2c9e6670>    decoys   \n",
       "36238  <rdkit.Chem.rdchem.Mol object at 0x7fee2c9e6710>    decoys   \n",
       "36239  <rdkit.Chem.rdchem.Mol object at 0x7fee2c9e67b0>    decoys   \n",
       "36240  <rdkit.Chem.rdchem.Mol object at 0x7fee2c9e68a0>    decoys   \n",
       "\n",
       "                                               Scaffold  \n",
       "0      <rdkit.Chem.rdchem.Mol object at 0x7fee2c9e6e40>  \n",
       "1      <rdkit.Chem.rdchem.Mol object at 0x7fee2c9e6a30>  \n",
       "2      <rdkit.Chem.rdchem.Mol object at 0x7fee2d5c6a80>  \n",
       "3      <rdkit.Chem.rdchem.Mol object at 0x7fee2c9e6f80>  \n",
       "4      <rdkit.Chem.rdchem.Mol object at 0x7fee2c9e6c10>  \n",
       "...                                                 ...  \n",
       "36236  <rdkit.Chem.rdchem.Mol object at 0x7fee2d1e5260>  \n",
       "36237  <rdkit.Chem.rdchem.Mol object at 0x7fee2d1e5170>  \n",
       "36238  <rdkit.Chem.rdchem.Mol object at 0x7fee2d1e53a0>  \n",
       "36239  <rdkit.Chem.rdchem.Mol object at 0x7fee2d1e53f0>  \n",
       "36240  <rdkit.Chem.rdchem.Mol object at 0x7fee2d1e5350>  \n",
       "\n",
       "[36241 rows x 3 columns]"
      ]
     },
     "execution_count": 37,
     "metadata": {},
     "output_type": "execute_result"
    }
   ],
   "source": [
    "df['Scaffold'] = df.Mol.apply(scaffold)\n",
    "df"
   ]
  },
  {
   "cell_type": "code",
   "execution_count": 38,
   "metadata": {},
   "outputs": [
    {
     "data": {
      "image/png": "[encoded data removed]",
      "text/plain": [
       "<rdkit.Chem.rdchem.Mol at 0x7fee2d2f35f0>"
      ]
     },
     "execution_count": 38,
     "metadata": {},
     "output_type": "execute_result"
    }
   ],
   "source": [
    "df.Mol[50]"
   ]
  },
  {
   "cell_type": "code",
   "execution_count": 39,
   "metadata": {},
   "outputs": [
    {
     "data": {
      "image/png": "[encoded data removed]",
      "text/plain": [
       "<rdkit.Chem.rdchem.Mol at 0x7fee2d351cb0>"
      ]
     },
     "execution_count": 39,
     "metadata": {},
     "output_type": "execute_result"
    }
   ],
   "source": [
    "df.Scaffold[50]"
   ]
  },
  {
   "cell_type": "code",
   "execution_count": 102,
   "metadata": {},
   "outputs": [],
   "source": [
    "def get_smiles(mol):\n",
    "    if not mol:\n",
    "        return None\n",
    "    else:\n",
    "        return Chem.MolToSmiles(mol, canonical=True)"
   ]
  },
  {
   "cell_type": "code",
   "execution_count": 106,
   "metadata": {},
   "outputs": [
    {
     "data": {
      "text/html": [
       "<div>\n",
       "<style scoped>\n",
       "    .dataframe tbody tr th:only-of-type {\n",
       "        vertical-align: middle;\n",
       "    }\n",
       "\n",
       "    .dataframe tbody tr th {\n",
       "        vertical-align: top;\n",
       "    }\n",
       "\n",
       "    .dataframe thead th {\n",
       "        text-align: right;\n",
       "    }\n",
       "</style>\n",
       "<table border=\"1\" class=\"dataframe\">\n",
       "  <thead>\n",
       "    <tr style=\"text-align: right;\">\n",
       "      <th></th>\n",
       "      <th>Mol</th>\n",
       "      <th>Source</th>\n",
       "      <th>Scaffold</th>\n",
       "      <th>ScaffoldSmiles</th>\n",
       "    </tr>\n",
       "  </thead>\n",
       "  <tbody>\n",
       "    <tr>\n",
       "      <th>0</th>\n",
       "      <td>&lt;rdkit.Chem.rdchem.Mol object at 0x7fee2e1bf770&gt;</td>\n",
       "      <td>DrugBank</td>\n",
       "      <td>&lt;rdkit.Chem.rdchem.Mol object at 0x7fee2c9e6e40&gt;</td>\n",
       "      <td>C(CCCCCCCCCCCC(CCCCCCCCCCC1CCCC1CCCCCCCCCCC1CC...</td>\n",
       "    </tr>\n",
       "    <tr>\n",
       "      <th>1</th>\n",
       "      <td>&lt;rdkit.Chem.rdchem.Mol object at 0x7fee2e1a0970&gt;</td>\n",
       "      <td>DrugBank</td>\n",
       "      <td>&lt;rdkit.Chem.rdchem.Mol object at 0x7fee2c9e6a30&gt;</td>\n",
       "      <td>C(CCCCCC(CCCCCC(CCC(CCC1CCCC1)CC1CCCC1)CC1CCC2...</td>\n",
       "    </tr>\n",
       "    <tr>\n",
       "      <th>2</th>\n",
       "      <td>&lt;rdkit.Chem.rdchem.Mol object at 0x7fee2d2fce30&gt;</td>\n",
       "      <td>DrugBank</td>\n",
       "      <td>&lt;rdkit.Chem.rdchem.Mol object at 0x7fee2d5c6a80&gt;</td>\n",
       "      <td>C1CCCCC(CC2CCCCC2)CCC(CC2CCCCC2)CCCCCCCC(CC2CC...</td>\n",
       "    </tr>\n",
       "    <tr>\n",
       "      <th>3</th>\n",
       "      <td>&lt;rdkit.Chem.rdchem.Mol object at 0x7fee2d2fcc30&gt;</td>\n",
       "      <td>DrugBank</td>\n",
       "      <td>&lt;rdkit.Chem.rdchem.Mol object at 0x7fee2c9e6f80&gt;</td>\n",
       "      <td>C(CCCCCC(CCCCCC(CCC(CCCCC1CCC2CCCCC2C1)CC1CCCC...</td>\n",
       "    </tr>\n",
       "    <tr>\n",
       "      <th>4</th>\n",
       "      <td>&lt;rdkit.Chem.rdchem.Mol object at 0x7fee2d2fcb30&gt;</td>\n",
       "      <td>DrugBank</td>\n",
       "      <td>&lt;rdkit.Chem.rdchem.Mol object at 0x7fee2c9e6c10&gt;</td>\n",
       "      <td>C1CCCCCCCCCCCCCCCCCCCCCCCCCCCCCCCC1</td>\n",
       "    </tr>\n",
       "    <tr>\n",
       "      <th>...</th>\n",
       "      <td>...</td>\n",
       "      <td>...</td>\n",
       "      <td>...</td>\n",
       "      <td>...</td>\n",
       "    </tr>\n",
       "    <tr>\n",
       "      <th>36236</th>\n",
       "      <td>&lt;rdkit.Chem.rdchem.Mol object at 0x7fee2c9e65d0&gt;</td>\n",
       "      <td>decoys</td>\n",
       "      <td>&lt;rdkit.Chem.rdchem.Mol object at 0x7fee2d1e5260&gt;</td>\n",
       "      <td>C1CCC(C2CC3CC4CCCCC4C(C4CCCCC4)C3C2)CC1</td>\n",
       "    </tr>\n",
       "    <tr>\n",
       "      <th>36237</th>\n",
       "      <td>&lt;rdkit.Chem.rdchem.Mol object at 0x7fee2c9e6670&gt;</td>\n",
       "      <td>decoys</td>\n",
       "      <td>&lt;rdkit.Chem.rdchem.Mol object at 0x7fee2d1e5170&gt;</td>\n",
       "      <td>C1CCC(C2CC3CC4CCCCC4C(C4CCCCC4)C3C2)CC1</td>\n",
       "    </tr>\n",
       "    <tr>\n",
       "      <th>36238</th>\n",
       "      <td>&lt;rdkit.Chem.rdchem.Mol object at 0x7fee2c9e6710&gt;</td>\n",
       "      <td>decoys</td>\n",
       "      <td>&lt;rdkit.Chem.rdchem.Mol object at 0x7fee2d1e53a0&gt;</td>\n",
       "      <td>C1CCC(C2CC3CC4CCCCC4C(C4CCCCC4)C3C2)CC1</td>\n",
       "    </tr>\n",
       "    <tr>\n",
       "      <th>36239</th>\n",
       "      <td>&lt;rdkit.Chem.rdchem.Mol object at 0x7fee2c9e67b0&gt;</td>\n",
       "      <td>decoys</td>\n",
       "      <td>&lt;rdkit.Chem.rdchem.Mol object at 0x7fee2d1e53f0&gt;</td>\n",
       "      <td>C1CCC(CCC2CCCC(C3CCCCC3)C2)CC1</td>\n",
       "    </tr>\n",
       "    <tr>\n",
       "      <th>36240</th>\n",
       "      <td>&lt;rdkit.Chem.rdchem.Mol object at 0x7fee2c9e68a0&gt;</td>\n",
       "      <td>decoys</td>\n",
       "      <td>&lt;rdkit.Chem.rdchem.Mol object at 0x7fee2d1e5350&gt;</td>\n",
       "      <td>C1CCC(CC2CCC(CC3CCC(C4CCCCC4)C3)C2)CC1</td>\n",
       "    </tr>\n",
       "  </tbody>\n",
       "</table>\n",
       "<p>36241 rows × 4 columns</p>\n",
       "</div>"
      ],
      "text/plain": [
       "                                                    Mol    Source  \\\n",
       "0      <rdkit.Chem.rdchem.Mol object at 0x7fee2e1bf770>  DrugBank   \n",
       "1      <rdkit.Chem.rdchem.Mol object at 0x7fee2e1a0970>  DrugBank   \n",
       "2      <rdkit.Chem.rdchem.Mol object at 0x7fee2d2fce30>  DrugBank   \n",
       "3      <rdkit.Chem.rdchem.Mol object at 0x7fee2d2fcc30>  DrugBank   \n",
       "4      <rdkit.Chem.rdchem.Mol object at 0x7fee2d2fcb30>  DrugBank   \n",
       "...                                                 ...       ...   \n",
       "36236  <rdkit.Chem.rdchem.Mol object at 0x7fee2c9e65d0>    decoys   \n",
       "36237  <rdkit.Chem.rdchem.Mol object at 0x7fee2c9e6670>    decoys   \n",
       "36238  <rdkit.Chem.rdchem.Mol object at 0x7fee2c9e6710>    decoys   \n",
       "36239  <rdkit.Chem.rdchem.Mol object at 0x7fee2c9e67b0>    decoys   \n",
       "36240  <rdkit.Chem.rdchem.Mol object at 0x7fee2c9e68a0>    decoys   \n",
       "\n",
       "                                               Scaffold  \\\n",
       "0      <rdkit.Chem.rdchem.Mol object at 0x7fee2c9e6e40>   \n",
       "1      <rdkit.Chem.rdchem.Mol object at 0x7fee2c9e6a30>   \n",
       "2      <rdkit.Chem.rdchem.Mol object at 0x7fee2d5c6a80>   \n",
       "3      <rdkit.Chem.rdchem.Mol object at 0x7fee2c9e6f80>   \n",
       "4      <rdkit.Chem.rdchem.Mol object at 0x7fee2c9e6c10>   \n",
       "...                                                 ...   \n",
       "36236  <rdkit.Chem.rdchem.Mol object at 0x7fee2d1e5260>   \n",
       "36237  <rdkit.Chem.rdchem.Mol object at 0x7fee2d1e5170>   \n",
       "36238  <rdkit.Chem.rdchem.Mol object at 0x7fee2d1e53a0>   \n",
       "36239  <rdkit.Chem.rdchem.Mol object at 0x7fee2d1e53f0>   \n",
       "36240  <rdkit.Chem.rdchem.Mol object at 0x7fee2d1e5350>   \n",
       "\n",
       "                                          ScaffoldSmiles  \n",
       "0      C(CCCCCCCCCCCC(CCCCCCCCCCC1CCCC1CCCCCCCCCCC1CC...  \n",
       "1      C(CCCCCC(CCCCCC(CCC(CCC1CCCC1)CC1CCCC1)CC1CCC2...  \n",
       "2      C1CCCCC(CC2CCCCC2)CCC(CC2CCCCC2)CCCCCCCC(CC2CC...  \n",
       "3      C(CCCCCC(CCCCCC(CCC(CCCCC1CCC2CCCCC2C1)CC1CCCC...  \n",
       "4                    C1CCCCCCCCCCCCCCCCCCCCCCCCCCCCCCCC1  \n",
       "...                                                  ...  \n",
       "36236            C1CCC(C2CC3CC4CCCCC4C(C4CCCCC4)C3C2)CC1  \n",
       "36237            C1CCC(C2CC3CC4CCCCC4C(C4CCCCC4)C3C2)CC1  \n",
       "36238            C1CCC(C2CC3CC4CCCCC4C(C4CCCCC4)C3C2)CC1  \n",
       "36239                     C1CCC(CCC2CCCC(C3CCCCC3)C2)CC1  \n",
       "36240             C1CCC(CC2CCC(CC3CCC(C4CCCCC4)C3)C2)CC1  \n",
       "\n",
       "[36241 rows x 4 columns]"
      ]
     },
     "execution_count": 106,
     "metadata": {},
     "output_type": "execute_result"
    }
   ],
   "source": [
    "# scaffold to smiles in dataframe\n",
    "df['ScaffoldSmiles'] = df.Scaffold.apply(get_smiles)\n",
    "df"
   ]
  },
  {
   "cell_type": "code",
   "execution_count": 107,
   "metadata": {},
   "outputs": [
    {
     "data": {
      "text/plain": [
       "7508"
      ]
     },
     "execution_count": 107,
     "metadata": {},
     "output_type": "execute_result"
    }
   ],
   "source": [
    "len(df.ScaffoldSmiles.unique())"
   ]
  },
  {
   "cell_type": "code",
   "execution_count": 109,
   "metadata": {},
   "outputs": [
    {
     "data": {
      "text/html": [
       "<div>\n",
       "<style scoped>\n",
       "    .dataframe tbody tr th:only-of-type {\n",
       "        vertical-align: middle;\n",
       "    }\n",
       "\n",
       "    .dataframe tbody tr th {\n",
       "        vertical-align: top;\n",
       "    }\n",
       "\n",
       "    .dataframe thead th {\n",
       "        text-align: right;\n",
       "    }\n",
       "</style>\n",
       "<table border=\"1\" class=\"dataframe\">\n",
       "  <thead>\n",
       "    <tr style=\"text-align: right;\">\n",
       "      <th></th>\n",
       "      <th>Mol</th>\n",
       "      <th>Source</th>\n",
       "      <th>Scaffold</th>\n",
       "      <th>ScaffoldSmiles</th>\n",
       "    </tr>\n",
       "  </thead>\n",
       "  <tbody>\n",
       "  </tbody>\n",
       "</table>\n",
       "</div>"
      ],
      "text/plain": [
       "Empty DataFrame\n",
       "Columns: [Mol, Source, Scaffold, ScaffoldSmiles]\n",
       "Index: []"
      ]
     },
     "execution_count": 109,
     "metadata": {},
     "output_type": "execute_result"
    }
   ],
   "source": [
    "df[df.ScaffoldSmiles == None]"
   ]
  },
  {
   "cell_type": "code",
   "execution_count": 145,
   "metadata": {},
   "outputs": [
    {
     "data": {
      "text/plain": [
       "C1CCCCC1                       0.146030\n",
       "C                              0.137175\n",
       "C1CCC2CCCC2C1                  0.026985\n",
       "C1CCCC1                        0.026423\n",
       "C1CCC(CC2CCCCC2)CC1            0.025580\n",
       "C1CCC(C2CCCC2)CC1              0.024736\n",
       "C1CCC2CCCCC2C1                 0.023893\n",
       "C1CCC2C(C1)CCC2C1CCCC1         0.023190\n",
       "C1CCC2C(C1)CCC1C3CCCC3CCC21    0.021223\n",
       "C1CCC(CCC2CCCCC2)CC1           0.014898\n",
       "Name: ScaffoldSmiles, dtype: float64"
      ]
     },
     "execution_count": 145,
     "metadata": {},
     "output_type": "execute_result"
    }
   ],
   "source": [
    "# counts of scaffoldsSmiles from DrugBank\n",
    "len_db = len(df[df.Source == 'DrugBank'])\n",
    "counts_db = df[df.Source == 'DrugBank'].ScaffoldSmiles.value_counts() / len_db\n",
    "counts_db.index = pd.Series(counts_db.index).replace('', 'C')\n",
    "counts_db[0:10]"
   ]
  },
  {
   "cell_type": "code",
   "execution_count": 146,
   "metadata": {},
   "outputs": [
    {
     "name": "stdout",
     "output_type": "stream",
     "text": [
      "Index(['C1CCCCC1', 'C', 'C1CCC2CCCC2C1', 'C1CCCC1'], dtype='object')\n",
      "['0.1460295151089248', '0.1371749824314828', '0.026985242445537596', '0.026423049894588897']\n",
      "[<rdkit.Chem.rdchem.Mol object at 0x7fee2c946670>, <rdkit.Chem.rdchem.Mol object at 0x7fee26f4e940>, <rdkit.Chem.rdchem.Mol object at 0x7fee26f4e260>, <rdkit.Chem.rdchem.Mol object at 0x7fee26f4e170>]\n"
     ]
    },
    {
     "data": {
      "image/png": "[encoded data removed]",
      "text/plain": [
       "<IPython.core.display.Image object>"
      ]
     },
     "execution_count": 146,
     "metadata": {},
     "output_type": "execute_result"
    }
   ],
   "source": [
    "# moltogridimage from rdkit\n",
    "from rdkit.Chem.Draw import IPythonConsole\n",
    "from rdkit.Chem.Draw import MolsToGridImage\n",
    "\n",
    "# get 10 most common scaffolds from DrugBank\n",
    "scaffolds = counts_db.index[0:4]\n",
    "print(scaffolds)\n",
    "labels = [str(i) for i in list(counts_db[0:4].values)]\n",
    "print(labels)\n",
    "\n",
    "# get mol objects from smiles\n",
    "mols = [Chem.MolFromSmiles(s) for s in scaffolds]\n",
    "print(mols)\n",
    "\n",
    "# visualize mols\n",
    "MolsToGridImage(mols, molsPerRow=2, subImgSize=(300, 300), legends=labels)\n"
   ]
  },
  {
   "cell_type": "code",
   "execution_count": 92,
   "metadata": {},
   "outputs": [
    {
     "ename": "TypeError",
     "evalue": "object of type 'Mol' has no len()",
     "output_type": "error",
     "traceback": [
      "\u001b[0;31m---------------------------------------------------------------------------\u001b[0m",
      "\u001b[0;31mTypeError\u001b[0m                                 Traceback (most recent call last)",
      "\u001b[0;32m/tmp/ipykernel_466/368596925.py\u001b[0m in \u001b[0;36m<module>\u001b[0;34m\u001b[0m\n\u001b[1;32m      1\u001b[0m \u001b[0mbenzene\u001b[0m \u001b[0;34m=\u001b[0m \u001b[0mChem\u001b[0m\u001b[0;34m.\u001b[0m\u001b[0mMolFromSmiles\u001b[0m\u001b[0;34m(\u001b[0m\u001b[0;34m'C1=CC=CC=C1'\u001b[0m\u001b[0;34m)\u001b[0m\u001b[0;34m\u001b[0m\u001b[0;34m\u001b[0m\u001b[0m\n\u001b[0;32m----> 2\u001b[0;31m \u001b[0mMolsToGridImage\u001b[0m\u001b[0;34m(\u001b[0m\u001b[0mbenzene\u001b[0m\u001b[0;34m)\u001b[0m\u001b[0;34m\u001b[0m\u001b[0;34m\u001b[0m\u001b[0m\n\u001b[0m",
      "\u001b[0;32m~/anaconda3/envs/PNL/lib/python3.7/site-packages/rdkit/Chem/Draw/IPythonConsole.py\u001b[0m in \u001b[0;36mShowMols\u001b[0;34m(mols, maxMols, **kwargs)\u001b[0m\n\u001b[1;32m    187\u001b[0m   \u001b[0;32melse\u001b[0m\u001b[0;34m:\u001b[0m\u001b[0;34m\u001b[0m\u001b[0;34m\u001b[0m\u001b[0m\n\u001b[1;32m    188\u001b[0m     \u001b[0mfn\u001b[0m \u001b[0;34m=\u001b[0m \u001b[0mDraw\u001b[0m\u001b[0;34m.\u001b[0m\u001b[0mMolsToGridImage\u001b[0m\u001b[0;34m\u001b[0m\u001b[0;34m\u001b[0m\u001b[0m\n\u001b[0;32m--> 189\u001b[0;31m   \u001b[0;32mif\u001b[0m \u001b[0mlen\u001b[0m\u001b[0;34m(\u001b[0m\u001b[0mmols\u001b[0m\u001b[0;34m)\u001b[0m \u001b[0;34m>\u001b[0m \u001b[0mmaxMols\u001b[0m\u001b[0;34m:\u001b[0m\u001b[0;34m\u001b[0m\u001b[0;34m\u001b[0m\u001b[0m\n\u001b[0m\u001b[1;32m    190\u001b[0m     warnings.warn(\n\u001b[1;32m    191\u001b[0m       \u001b[0;34m\"Truncating the list of molecules to be displayed to %d. Change the maxMols value to display more.\"\u001b[0m\u001b[0;34m\u001b[0m\u001b[0;34m\u001b[0m\u001b[0m\n",
      "\u001b[0;31mTypeError\u001b[0m: object of type 'Mol' has no len()"
     ]
    }
   ],
   "source": [
    "benzene = Chem.MolFromSmiles('C1=CC=CC=C1')\n",
    "MolsToGridImage(benzene)"
   ]
  },
  {
   "cell_type": "code",
   "execution_count": 45,
   "metadata": {},
   "outputs": [
    {
     "data": {
      "text/plain": [
       "C(CC1CCC(C2CCCC2)CC1)CC1CCC(C2CC2)C1         0.045113\n",
       "C1CCC(CCC2CCC3CCC4CCCC4C23)CC1               0.028822\n",
       "C1CCC(CCCC2CCCC3C2CC2C(C4CCCCC4)CCC32)CC1    0.027569\n",
       "C1CC2CCC3CCCC3C2C1                           0.017544\n",
       "C1CCC2C(C1)CC1C(C3CCCC3)CCC21                0.015038\n",
       "C1CCC(C2CCC3CCC4CCCC4C32)CC1                 0.015038\n",
       "C1CCC(CCC2CCCC2CCC2CCCCC2)CC1                0.012531\n",
       "C1CCC(CC2CCCC(C3CCC4CCCCC43)C2)CC1           0.012531\n",
       "C1CCC(C2CCC3C4CCCCC4CC23)CC1                 0.012531\n",
       "C1CCC(CCCC2CCC3CCC(CCC4CCCCC4)C3C2)CC1       0.011278\n",
       "Name: ScaffoldSmiles, dtype: float64"
      ]
     },
     "execution_count": 45,
     "metadata": {},
     "output_type": "execute_result"
    }
   ],
   "source": [
    "# count of scaffoldsSmiles from actives\n",
    "actives_len = len(df[df.Source == 'actives'])\n",
    "counts_actives = df[df.Source == 'actives'].ScaffoldSmiles.value_counts() / actives_len\n",
    "counts_actives[0:10]"
   ]
  },
  {
   "cell_type": "code",
   "execution_count": 46,
   "metadata": {},
   "outputs": [
    {
     "data": {
      "text/plain": [
       "C1CCCCC1                   0.032547\n",
       "C1CCC(CCC2CCCCC2)CC1       0.024534\n",
       "C1CCC(CC2CCCCC2)CC1        0.018639\n",
       "C1CCC(CCC2CCCC2)CC1        0.016591\n",
       "C1CCC(CCCCC2CCCCC2)CC1     0.015885\n",
       "C1CCC(CCCC2CCCCC2)CC1      0.013238\n",
       "C1CCC(CCCC2CCCC2)CC1       0.011755\n",
       "C1CCC(C2CCCC2)CC1          0.011579\n",
       "C1CCC2CCCC2C1              0.011332\n",
       "C1CCC(CCCCCC2CCCCC2)CC1    0.011120\n",
       "Name: ScaffoldSmiles, dtype: float64"
      ]
     },
     "execution_count": 46,
     "metadata": {},
     "output_type": "execute_result"
    }
   ],
   "source": [
    "# count of scaffoldsSmiles from decoys\n",
    "decoys_len = len(df[df.Source == 'decoys'])\n",
    "counts_decoys = df[df.Source == 'decoys'].ScaffoldSmiles.value_counts() / decoys_len\n",
    "counts_decoys[0:10]"
   ]
  }
 ],
 "metadata": {
  "kernelspec": {
   "display_name": "PNL",
   "language": "python",
   "name": "python3"
  },
  "language_info": {
   "codemirror_mode": {
    "name": "ipython",
    "version": 3
   },
   "file_extension": ".py",
   "mimetype": "text/x-python",
   "name": "python",
   "nbconvert_exporter": "python",
   "pygments_lexer": "ipython3",
   "version": "3.7.16"
  },
  "orig_nbformat": 4
 },
 "nbformat": 4,
 "nbformat_minor": 2
}
