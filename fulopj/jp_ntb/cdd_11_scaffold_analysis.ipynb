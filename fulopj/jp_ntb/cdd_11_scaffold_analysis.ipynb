{
 "cells": [
  {
   "attachments": {},
   "cell_type": "markdown",
   "metadata": {},
   "source": [
    "# Scaffold analysis\n"
   ]
  },
  {
   "attachments": {},
   "cell_type": "markdown",
   "metadata": {},
   "source": [
    "projekt: demonstrace a aplikace na dataset, interpretace vysledku"
   ]
  },
  {
   "cell_type": "code",
   "execution_count": 1,
   "metadata": {},
   "outputs": [],
   "source": [
    "from rdkit.Chem import AllChem as Chem\n",
    "from rdkit.Chem import Draw\n",
    "from rdkit.Chem.Draw import IPythonConsole\n",
    "import csv\n",
    "import gzip\n",
    "import pandas as pd\n",
    "\n",
    "from rdkit import RDLogger\n",
    "RDLogger.DisableLog('rdApp.error')"
   ]
  },
  {
   "cell_type": "code",
   "execution_count": 2,
   "metadata": {},
   "outputs": [],
   "source": [
    "# load dataset\n",
    "suppl = Chem.SDMolSupplier(\"../data/drugbank.sdf\")\n",
    "drug_bank = [[mol, 'drugbank'] for mol in suppl if mol]\n",
    "\n",
    "with gzip.open(\"../data/actives_final.sdf.gz\") as sdf:\n",
    "    supp_actives = Chem.ForwardSDMolSupplier(sdf)\n",
    "    actives = [[mol, 'acives'] for mol in supp_actives if mol]\n",
    "\n",
    "with gzip.open(\"../data/decoys_final.sdf.gz\") as sdf:\n",
    "    supp_decoys = Chem.ForwardSDMolSupplier(sdf)\n",
    "    decoys = [[mol, 'decoys'] for mol in supp_decoys if mol]\n",
    "\n",
    "df_db = pd.DataFrame(drug_bank, columns=['Mol', 'Source'])\n",
    "df_ac = pd.DataFrame(actives, columns=['Mol', 'Source'])\n",
    "df_dc = pd.DataFrame(decoys, columns=['Mol', 'Source'])"
   ]
  },
  {
   "cell_type": "code",
   "execution_count": 3,
   "metadata": {},
   "outputs": [
    {
     "data": {
      "text/html": [
       "<div>\n",
       "<style scoped>\n",
       "    .dataframe tbody tr th:only-of-type {\n",
       "        vertical-align: middle;\n",
       "    }\n",
       "\n",
       "    .dataframe tbody tr th {\n",
       "        vertical-align: top;\n",
       "    }\n",
       "\n",
       "    .dataframe thead th {\n",
       "        text-align: right;\n",
       "    }\n",
       "</style>\n",
       "<table border=\"1\" class=\"dataframe\">\n",
       "  <thead>\n",
       "    <tr style=\"text-align: right;\">\n",
       "      <th></th>\n",
       "      <th>Mol</th>\n",
       "      <th>Source</th>\n",
       "    </tr>\n",
       "  </thead>\n",
       "  <tbody>\n",
       "    <tr>\n",
       "      <th>0</th>\n",
       "      <td>&lt;rdkit.Chem.rdchem.Mol object at 0x7f7a567a9310&gt;</td>\n",
       "      <td>acives</td>\n",
       "    </tr>\n",
       "    <tr>\n",
       "      <th>1</th>\n",
       "      <td>&lt;rdkit.Chem.rdchem.Mol object at 0x7f7a567a9380&gt;</td>\n",
       "      <td>acives</td>\n",
       "    </tr>\n",
       "    <tr>\n",
       "      <th>2</th>\n",
       "      <td>&lt;rdkit.Chem.rdchem.Mol object at 0x7f7a567a93f0&gt;</td>\n",
       "      <td>acives</td>\n",
       "    </tr>\n",
       "    <tr>\n",
       "      <th>3</th>\n",
       "      <td>&lt;rdkit.Chem.rdchem.Mol object at 0x7f7a567a9460&gt;</td>\n",
       "      <td>acives</td>\n",
       "    </tr>\n",
       "    <tr>\n",
       "      <th>4</th>\n",
       "      <td>&lt;rdkit.Chem.rdchem.Mol object at 0x7f7a567a94d0&gt;</td>\n",
       "      <td>acives</td>\n",
       "    </tr>\n",
       "    <tr>\n",
       "      <th>...</th>\n",
       "      <td>...</td>\n",
       "      <td>...</td>\n",
       "    </tr>\n",
       "    <tr>\n",
       "      <th>872</th>\n",
       "      <td>&lt;rdkit.Chem.rdchem.Mol object at 0x7f7a567cd3f0&gt;</td>\n",
       "      <td>acives</td>\n",
       "    </tr>\n",
       "    <tr>\n",
       "      <th>873</th>\n",
       "      <td>&lt;rdkit.Chem.rdchem.Mol object at 0x7f7a567cd460&gt;</td>\n",
       "      <td>acives</td>\n",
       "    </tr>\n",
       "    <tr>\n",
       "      <th>874</th>\n",
       "      <td>&lt;rdkit.Chem.rdchem.Mol object at 0x7f7a567cd4d0&gt;</td>\n",
       "      <td>acives</td>\n",
       "    </tr>\n",
       "    <tr>\n",
       "      <th>875</th>\n",
       "      <td>&lt;rdkit.Chem.rdchem.Mol object at 0x7f7a567cd540&gt;</td>\n",
       "      <td>acives</td>\n",
       "    </tr>\n",
       "    <tr>\n",
       "      <th>876</th>\n",
       "      <td>&lt;rdkit.Chem.rdchem.Mol object at 0x7f7a567cd5b0&gt;</td>\n",
       "      <td>acives</td>\n",
       "    </tr>\n",
       "  </tbody>\n",
       "</table>\n",
       "<p>877 rows × 2 columns</p>\n",
       "</div>"
      ],
      "text/plain": [
       "                                                  Mol  Source\n",
       "0    <rdkit.Chem.rdchem.Mol object at 0x7f7a567a9310>  acives\n",
       "1    <rdkit.Chem.rdchem.Mol object at 0x7f7a567a9380>  acives\n",
       "2    <rdkit.Chem.rdchem.Mol object at 0x7f7a567a93f0>  acives\n",
       "3    <rdkit.Chem.rdchem.Mol object at 0x7f7a567a9460>  acives\n",
       "4    <rdkit.Chem.rdchem.Mol object at 0x7f7a567a94d0>  acives\n",
       "..                                                ...     ...\n",
       "872  <rdkit.Chem.rdchem.Mol object at 0x7f7a567cd3f0>  acives\n",
       "873  <rdkit.Chem.rdchem.Mol object at 0x7f7a567cd460>  acives\n",
       "874  <rdkit.Chem.rdchem.Mol object at 0x7f7a567cd4d0>  acives\n",
       "875  <rdkit.Chem.rdchem.Mol object at 0x7f7a567cd540>  acives\n",
       "876  <rdkit.Chem.rdchem.Mol object at 0x7f7a567cd5b0>  acives\n",
       "\n",
       "[877 rows x 2 columns]"
      ]
     },
     "execution_count": 3,
     "metadata": {},
     "output_type": "execute_result"
    }
   ],
   "source": [
    "df_ac"
   ]
  },
  {
   "cell_type": "code",
   "execution_count": 4,
   "metadata": {},
   "outputs": [],
   "source": [
    "# get smiles from molecules to new column\n",
    "df_db['smiles'] = df_db['Mol'].apply(Chem.MolToSmiles)\n",
    "df_ac['smiles'] = df_ac['Mol'].apply(Chem.MolToSmiles)\n",
    "df_dc['smiles'] = df_dc['Mol'].apply(Chem.MolToSmiles)"
   ]
  },
  {
   "cell_type": "code",
   "execution_count": 5,
   "metadata": {},
   "outputs": [
    {
     "data": {
      "text/html": [
       "<div>\n",
       "<style scoped>\n",
       "    .dataframe tbody tr th:only-of-type {\n",
       "        vertical-align: middle;\n",
       "    }\n",
       "\n",
       "    .dataframe tbody tr th {\n",
       "        vertical-align: top;\n",
       "    }\n",
       "\n",
       "    .dataframe thead th {\n",
       "        text-align: right;\n",
       "    }\n",
       "</style>\n",
       "<table border=\"1\" class=\"dataframe\">\n",
       "  <thead>\n",
       "    <tr style=\"text-align: right;\">\n",
       "      <th></th>\n",
       "      <th>Mol</th>\n",
       "      <th>Source</th>\n",
       "      <th>smiles</th>\n",
       "    </tr>\n",
       "  </thead>\n",
       "  <tbody>\n",
       "    <tr>\n",
       "      <th>0</th>\n",
       "      <td>&lt;rdkit.Chem.rdchem.Mol object at 0x7f7a567a9310&gt;</td>\n",
       "      <td>acives</td>\n",
       "      <td>COc1cc(NC(=O)C2CC2)c(Cl)cc1C(=O)N[C@H]1CC[N@@H...</td>\n",
       "    </tr>\n",
       "    <tr>\n",
       "      <th>1</th>\n",
       "      <td>&lt;rdkit.Chem.rdchem.Mol object at 0x7f7a567a9380&gt;</td>\n",
       "      <td>acives</td>\n",
       "      <td>CC(C)(C)c1nc(N2CC[NH+](CCCCN3C(=O)CCCc4c(O)ccc...</td>\n",
       "    </tr>\n",
       "    <tr>\n",
       "      <th>2</th>\n",
       "      <td>&lt;rdkit.Chem.rdchem.Mol object at 0x7f7a567a93f0&gt;</td>\n",
       "      <td>acives</td>\n",
       "      <td>CC(C)(C)c1nc(N2CCN(CCCCN3C(=O)CCCc4c(O)cccc43)...</td>\n",
       "    </tr>\n",
       "    <tr>\n",
       "      <th>3</th>\n",
       "      <td>&lt;rdkit.Chem.rdchem.Mol object at 0x7f7a567a9460&gt;</td>\n",
       "      <td>acives</td>\n",
       "      <td>O=C(NCCCC[NH+]1CCN(C(c2ccccc2)c2ccccc2)CC1)c1c...</td>\n",
       "    </tr>\n",
       "    <tr>\n",
       "      <th>4</th>\n",
       "      <td>&lt;rdkit.Chem.rdchem.Mol object at 0x7f7a567a94d0&gt;</td>\n",
       "      <td>acives</td>\n",
       "      <td>O=C(NCCCC[NH+]1CCN([C@H](c2ccccc2)c2ccc(Cl)cc2...</td>\n",
       "    </tr>\n",
       "    <tr>\n",
       "      <th>...</th>\n",
       "      <td>...</td>\n",
       "      <td>...</td>\n",
       "      <td>...</td>\n",
       "    </tr>\n",
       "    <tr>\n",
       "      <th>872</th>\n",
       "      <td>&lt;rdkit.Chem.rdchem.Mol object at 0x7f7a567cd3f0&gt;</td>\n",
       "      <td>acives</td>\n",
       "      <td>COc1ccccc1N1CC[NH+](CCCCNC(=O)/C=C/c2cccc3c2OC...</td>\n",
       "    </tr>\n",
       "    <tr>\n",
       "      <th>873</th>\n",
       "      <td>&lt;rdkit.Chem.rdchem.Mol object at 0x7f7a567cd460&gt;</td>\n",
       "      <td>acives</td>\n",
       "      <td>COc1ccccc1N1CCN(CCCCNC(=O)/C=C/c2cccc3c2OCO3)CC1</td>\n",
       "    </tr>\n",
       "    <tr>\n",
       "      <th>874</th>\n",
       "      <td>&lt;rdkit.Chem.rdchem.Mol object at 0x7f7a567cd4d0&gt;</td>\n",
       "      <td>acives</td>\n",
       "      <td>c1ccc(C[NH2+]CCOc2cccc3[nH]ncc23)cc1</td>\n",
       "    </tr>\n",
       "    <tr>\n",
       "      <th>875</th>\n",
       "      <td>&lt;rdkit.Chem.rdchem.Mol object at 0x7f7a567cd540&gt;</td>\n",
       "      <td>acives</td>\n",
       "      <td>FC(F)(F)c1nc2c(OCC[NH2+]Cc3ccccc3)cccc2[nH]1</td>\n",
       "    </tr>\n",
       "    <tr>\n",
       "      <th>876</th>\n",
       "      <td>&lt;rdkit.Chem.rdchem.Mol object at 0x7f7a567cd5b0&gt;</td>\n",
       "      <td>acives</td>\n",
       "      <td>COc1c(C(=O)NC[C@@H]2CCC[N@@H+]2[C@H]2[C@H]3CCC...</td>\n",
       "    </tr>\n",
       "  </tbody>\n",
       "</table>\n",
       "<p>877 rows × 3 columns</p>\n",
       "</div>"
      ],
      "text/plain": [
       "                                                  Mol  Source   \n",
       "0    <rdkit.Chem.rdchem.Mol object at 0x7f7a567a9310>  acives  \\\n",
       "1    <rdkit.Chem.rdchem.Mol object at 0x7f7a567a9380>  acives   \n",
       "2    <rdkit.Chem.rdchem.Mol object at 0x7f7a567a93f0>  acives   \n",
       "3    <rdkit.Chem.rdchem.Mol object at 0x7f7a567a9460>  acives   \n",
       "4    <rdkit.Chem.rdchem.Mol object at 0x7f7a567a94d0>  acives   \n",
       "..                                                ...     ...   \n",
       "872  <rdkit.Chem.rdchem.Mol object at 0x7f7a567cd3f0>  acives   \n",
       "873  <rdkit.Chem.rdchem.Mol object at 0x7f7a567cd460>  acives   \n",
       "874  <rdkit.Chem.rdchem.Mol object at 0x7f7a567cd4d0>  acives   \n",
       "875  <rdkit.Chem.rdchem.Mol object at 0x7f7a567cd540>  acives   \n",
       "876  <rdkit.Chem.rdchem.Mol object at 0x7f7a567cd5b0>  acives   \n",
       "\n",
       "                                                smiles  \n",
       "0    COc1cc(NC(=O)C2CC2)c(Cl)cc1C(=O)N[C@H]1CC[N@@H...  \n",
       "1    CC(C)(C)c1nc(N2CC[NH+](CCCCN3C(=O)CCCc4c(O)ccc...  \n",
       "2    CC(C)(C)c1nc(N2CCN(CCCCN3C(=O)CCCc4c(O)cccc43)...  \n",
       "3    O=C(NCCCC[NH+]1CCN(C(c2ccccc2)c2ccccc2)CC1)c1c...  \n",
       "4    O=C(NCCCC[NH+]1CCN([C@H](c2ccccc2)c2ccc(Cl)cc2...  \n",
       "..                                                 ...  \n",
       "872  COc1ccccc1N1CC[NH+](CCCCNC(=O)/C=C/c2cccc3c2OC...  \n",
       "873   COc1ccccc1N1CCN(CCCCNC(=O)/C=C/c2cccc3c2OCO3)CC1  \n",
       "874               c1ccc(C[NH2+]CCOc2cccc3[nH]ncc23)cc1  \n",
       "875       FC(F)(F)c1nc2c(OCC[NH2+]Cc3ccccc3)cccc2[nH]1  \n",
       "876  COc1c(C(=O)NC[C@@H]2CCC[N@@H+]2[C@H]2[C@H]3CCC...  \n",
       "\n",
       "[877 rows x 3 columns]"
      ]
     },
     "execution_count": 5,
     "metadata": {},
     "output_type": "execute_result"
    }
   ],
   "source": [
    "df_ac"
   ]
  },
  {
   "cell_type": "code",
   "execution_count": 6,
   "metadata": {},
   "outputs": [
    {
     "data": {
      "image/png": "[encoded data removed]",
      "text/plain": [
       "<rdkit.Chem.rdchem.Mol at 0x7f7a567a9310>"
      ]
     },
     "execution_count": 6,
     "metadata": {},
     "output_type": "execute_result"
    }
   ],
   "source": [
    "# show firs molecule from db_actives\n",
    "df_ac.iloc[0]['Mol']"
   ]
  },
  {
   "cell_type": "code",
   "execution_count": 7,
   "metadata": {},
   "outputs": [],
   "source": [
    "# compute 2d coordinates for all molecules and save to new column 'Mol2D'\n",
    "for mol in df_db['Mol']:\n",
    "    Chem.Compute2DCoords(mol)\n",
    "df_db['Mol2D'] = df_db['Mol']\n",
    "\n",
    "for mol in df_ac['Mol']:\n",
    "    Chem.Compute2DCoords(mol)\n",
    "df_ac['Mol2D'] = df_ac['Mol']\n",
    "\n",
    "for mol in df_dc['Mol']:\n",
    "    Chem.Compute2DCoords(mol)\n",
    "df_dc['Mol2D'] = df_dc['Mol']\n"
   ]
  },
  {
   "cell_type": "code",
   "execution_count": 8,
   "metadata": {},
   "outputs": [
    {
     "data": {
      "image/png": "[encoded data removed]",
      "text/plain": [
       "<rdkit.Chem.rdchem.Mol at 0x7f7a567a9310>"
      ]
     },
     "execution_count": 8,
     "metadata": {},
     "output_type": "execute_result"
    }
   ],
   "source": [
    "# show first molecule from db_actives\n",
    "df_ac.iloc[0]['Mol2D']"
   ]
  },
  {
   "cell_type": "code",
   "execution_count": 9,
   "metadata": {},
   "outputs": [
    {
     "data": {
      "image/png": "[encoded data removed]",
      "text/plain": [
       "<rdkit.Chem.rdchem.Mol at 0x7f7a55d12110>"
      ]
     },
     "execution_count": 9,
     "metadata": {},
     "output_type": "execute_result"
    }
   ],
   "source": [
    "# calculate scaffolds for 1st molecule in db_actives\n",
    "from rdkit.Chem.Scaffolds import MurckoScaffold\n",
    "scaffold1 = MurckoScaffold.GetScaffoldForMol(df_ac.iloc[0]['Mol2D'])\n",
    "scaffold1 = MurckoScaffold.MakeScaffoldGeneric(scaffold1)\n",
    "scaffold1 = MurckoScaffold.GetScaffoldForMol(scaffold1)\n",
    "scaffold1\n",
    "\n"
   ]
  },
  {
   "cell_type": "code",
   "execution_count": 19,
   "metadata": {},
   "outputs": [],
   "source": [
    "# create function for scaffold calculation return smiles\n",
    "def get_scaffold(mol):\n",
    "    Chem.rdmolops.RemoveStereochemistry(mol) # get rid of stereo, doesn't matter much in scaffolds\n",
    "    Chem.Compute2DCoords(mol)\n",
    "    try:\n",
    "        scaffold = MurckoScaffold.GetScaffoldForMol(mol)\n",
    "        scaffold = MurckoScaffold.MakeScaffoldGeneric(scaffold)\n",
    "        scaffold = MurckoScaffold.GetScaffoldForMol(scaffold)\n",
    "        scaffold = Chem.MolToSmiles(scaffold)\n",
    "    except ValueError:\n",
    "        scaffold = \"\"\n",
    "    return scaffold"
   ]
  },
  {
   "cell_type": "code",
   "execution_count": 13,
   "metadata": {},
   "outputs": [],
   "source": [
    "# calculate scaffolds for all molecules in df using smiles\n",
    "#df_ac['Scaffold'] = df_ac['smiles'].apply(Chem.MolFromSmiles).apply(get_scaffold)\n",
    "#df_dc['Scaffold'] = df_dc['smiles'].apply(Chem.MolFromSmiles).apply(get_scaffold)\n",
    "#df_db['Scaffold'] = df_db['smiles'].apply(Chem.MolFromSmiles).apply(get_scaffold)"
   ]
  },
  {
   "cell_type": "code",
   "execution_count": 21,
   "metadata": {},
   "outputs": [],
   "source": [
    "df_ac['Scaffold_smiles'] = df_ac['Mol'].apply(get_scaffold)\n",
    "df_dc['Scaffold_smiles'] = df_dc['Mol'].apply(get_scaffold)\n",
    "df_db['Scaffold_smiles'] = df_db['Mol'].apply(get_scaffold)"
   ]
  },
  {
   "cell_type": "code",
   "execution_count": 23,
   "metadata": {},
   "outputs": [
    {
     "data": {
      "image/png": "[encoded data removed]",
      "text/plain": [
       "<rdkit.Chem.rdchem.Mol at 0x7f7a55179540>"
      ]
     },
     "execution_count": 23,
     "metadata": {},
     "output_type": "execute_result"
    }
   ],
   "source": [
    "# show first molecule from df_db\n",
    "df_db.iloc[0]['Scaffold']"
   ]
  }
 ],
 "metadata": {
  "kernelspec": {
   "display_name": "cdd",
   "language": "python",
   "name": "python3"
  },
  "language_info": {
   "codemirror_mode": {
    "name": "ipython",
    "version": 3
   },
   "file_extension": ".py",
   "mimetype": "text/x-python",
   "name": "python",
   "nbconvert_exporter": "python",
   "pygments_lexer": "ipython3",
   "version": "3.10.10"
  },
  "orig_nbformat": 4
 },
 "nbformat": 4,
 "nbformat_minor": 2
}
